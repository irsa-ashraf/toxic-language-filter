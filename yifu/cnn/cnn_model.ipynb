{
 "cells": [
  {
   "attachments": {},
   "cell_type": "markdown",
   "metadata": {},
   "source": [
    "# CNN Model for Toxic Language Classification"
   ]
  },
  {
   "attachments": {},
   "cell_type": "markdown",
   "metadata": {},
   "source": [
    "## Set up"
   ]
  },
  {
   "attachments": {},
   "cell_type": "markdown",
   "metadata": {},
   "source": [
    "##### Load packages"
   ]
  },
  {
   "cell_type": "code",
   "execution_count": 1,
   "metadata": {},
   "outputs": [],
   "source": [
    "%%capture\n",
    "\n",
    "import os\n",
    "import re\n",
    "from tqdm import tqdm\n",
    "import numpy as np\n",
    "import pandas as pd\n",
    "import pickle\n",
    "import nltk\n",
    "nltk.download(\"all\")\n",
    "import matplotlib.pyplot as plt\n",
    "\n",
    "import torch\n",
    "from torch.utils.data import Dataset\n",
    "from torch.utils.data import DataLoader\n",
    "\n",
    "from sklearn.model_selection import train_test_split\n",
    "\n",
    "%matplotlib inline"
   ]
  },
  {
   "attachments": {},
   "cell_type": "markdown",
   "metadata": {},
   "source": [
    "##### Set Parameters"
   ]
  },
  {
   "cell_type": "code",
   "execution_count": 2,
   "metadata": {},
   "outputs": [],
   "source": [
    "BATCH_SIZE = 16\n",
    "MAX_SENT_LENGTH = 200\n",
    "EMBED_DIM = 300"
   ]
  },
  {
   "attachments": {},
   "cell_type": "markdown",
   "metadata": {},
   "source": [
    "##### Load data"
   ]
  },
  {
   "cell_type": "code",
   "execution_count": 43,
   "metadata": {},
   "outputs": [
    {
     "data": {
      "text/html": [
       "<div>\n",
       "<style scoped>\n",
       "    .dataframe tbody tr th:only-of-type {\n",
       "        vertical-align: middle;\n",
       "    }\n",
       "\n",
       "    .dataframe tbody tr th {\n",
       "        vertical-align: top;\n",
       "    }\n",
       "\n",
       "    .dataframe thead th {\n",
       "        text-align: right;\n",
       "    }\n",
       "</style>\n",
       "<table border=\"1\" class=\"dataframe\">\n",
       "  <thead>\n",
       "    <tr style=\"text-align: right;\">\n",
       "      <th></th>\n",
       "      <th>id</th>\n",
       "      <th>comment_text</th>\n",
       "      <th>toxic</th>\n",
       "    </tr>\n",
       "  </thead>\n",
       "  <tbody>\n",
       "    <tr>\n",
       "      <th>0</th>\n",
       "      <td>1b7fe21f6b20f176</td>\n",
       "      <td>The Wack Pack \\n\\nYou're fucking insane and dr...</td>\n",
       "      <td>1</td>\n",
       "    </tr>\n",
       "    <tr>\n",
       "      <th>1</th>\n",
       "      <td>2b77b61ee27ab6fb</td>\n",
       "      <td>Not according to Wikipedia policy. With respec...</td>\n",
       "      <td>0</td>\n",
       "    </tr>\n",
       "    <tr>\n",
       "      <th>2</th>\n",
       "      <td>626d12d910b34c40</td>\n",
       "      <td>You just revert my and a lot of peoples work, ...</td>\n",
       "      <td>1</td>\n",
       "    </tr>\n",
       "    <tr>\n",
       "      <th>3</th>\n",
       "      <td>2ed8095b9ee464b0</td>\n",
       "      <td>Frank O'Hara, Anti-Beat? \\nSeriously, dude, yo...</td>\n",
       "      <td>0</td>\n",
       "    </tr>\n",
       "    <tr>\n",
       "      <th>4</th>\n",
       "      <td>86f8607fd0572b9f</td>\n",
       "      <td>\"\\n\\nreverting\\nUser:Baristarim decides that t...</td>\n",
       "      <td>0</td>\n",
       "    </tr>\n",
       "  </tbody>\n",
       "</table>\n",
       "</div>"
      ],
      "text/plain": [
       "                 id                                       comment_text  toxic\n",
       "0  1b7fe21f6b20f176  The Wack Pack \\n\\nYou're fucking insane and dr...      1\n",
       "1  2b77b61ee27ab6fb  Not according to Wikipedia policy. With respec...      0\n",
       "2  626d12d910b34c40  You just revert my and a lot of peoples work, ...      1\n",
       "3  2ed8095b9ee464b0  Frank O'Hara, Anti-Beat? \\nSeriously, dude, yo...      0\n",
       "4  86f8607fd0572b9f  \"\\n\\nreverting\\nUser:Baristarim decides that t...      0"
      ]
     },
     "execution_count": 43,
     "metadata": {},
     "output_type": "execute_result"
    }
   ],
   "source": [
    "# load balanced data\n",
    "data = pd.read_csv(\"../data/balanced_data.csv\")\n",
    "data = data[data[\"word_count\"] <= MAX_SENT_LENGTH]\n",
    "data = data.reset_index()\n",
    "data = data[[\"id\", \"comment_text\", \"toxic\"]]\n",
    "data.head(5)"
   ]
  },
  {
   "cell_type": "code",
   "execution_count": 4,
   "metadata": {},
   "outputs": [
    {
     "data": {
      "text/plain": [
       "28929"
      ]
     },
     "execution_count": 4,
     "metadata": {},
     "output_type": "execute_result"
    }
   ],
   "source": [
    "len(data)"
   ]
  },
  {
   "attachments": {},
   "cell_type": "markdown",
   "metadata": {},
   "source": [
    "##### GPU set up"
   ]
  },
  {
   "cell_type": "code",
   "execution_count": 5,
   "metadata": {},
   "outputs": [
    {
     "name": "stdout",
     "output_type": "stream",
     "text": [
      "No GPU available, using the CPU instead.\n"
     ]
    }
   ],
   "source": [
    "if torch.cuda.is_available():       \n",
    "    device = torch.device(\"cuda\")\n",
    "    print(f'There are {torch.cuda.device_count()} GPU(s) available.')\n",
    "    print('Device name:', torch.cuda.get_device_name(0))\n",
    "\n",
    "else:\n",
    "    print('No GPU available, using the CPU instead.')\n",
    "    device = torch.device(\"cpu\")"
   ]
  },
  {
   "attachments": {},
   "cell_type": "markdown",
   "metadata": {},
   "source": [
    "##### Pre-trained text embedding set up "
   ]
  },
  {
   "attachments": {},
   "cell_type": "markdown",
   "metadata": {},
   "source": [
    "**GloVe**"
   ]
  },
  {
   "cell_type": "code",
   "execution_count": 7,
   "metadata": {},
   "outputs": [],
   "source": [
    "from itertools import combinations\n",
    "from torchtext.vocab import GloVe\n",
    "\n",
    "VECTOR_CACHE_DIR = './glove/.vector_cache'\n",
    "\n",
    "glove = GloVe(name='6B', cache = VECTOR_CACHE_DIR)\n",
    "\n",
    "# print(glove.get_vecs_by_tokens([\"this\", \"is\", \"a\", \"comment\"]))\n",
    "# print(glove.get_vecs_by_tokens([\"this\", \"is\", \"a\", \"comment\"]).shape)"
   ]
  },
  {
   "attachments": {},
   "cell_type": "markdown",
   "metadata": {},
   "source": [
    "## Data Preparation\n"
   ]
  },
  {
   "attachments": {},
   "cell_type": "markdown",
   "metadata": {},
   "source": [
    "##### Tokenize word and map with embeddings"
   ]
  },
  {
   "cell_type": "code",
   "execution_count": 44,
   "metadata": {},
   "outputs": [],
   "source": [
    "from nltk.tokenize import word_tokenize\n",
    "\n",
    "def process_input(batch):\n",
    "    '''\n",
    "    Tokenize a batch of texts:\n",
    "        - convert sentence to lower case\n",
    "        - tokenize word with package `word_tokenize`\n",
    "        - add paddings to MAX_SENT_LENGTH\n",
    "        - convert tokenized sentence into GloVe embeddings\n",
    "        - return a numpy array of input vectors \n",
    "    '''\n",
    "\n",
    "    # set up containers\n",
    "    y = torch.zeros(BATCH_SIZE)\n",
    "    x = torch.zeros(BATCH_SIZE, MAX_SENT_LENGTH, EMBED_DIM)\n",
    "    \n",
    "    for i, (sent, label) in enumerate(batch):\n",
    "\n",
    "        sent = sent.lower()\n",
    "        tokenized_sent = word_tokenize(sent)\n",
    "\n",
    "        # perform padding or truncate\n",
    "        if len(tokenized_sent) < MAX_SENT_LENGTH:\n",
    "            tokenized_sent += ['<pad>'] * (MAX_SENT_LENGTH - len(tokenized_sent))\n",
    "        else:\n",
    "            tokenized_sent = tokenized_sent[:MAX_SENT_LENGTH]\n",
    "\n",
    "        vecs = glove.get_vecs_by_tokens(tokenized_sent)\n",
    "\n",
    "        x[i] = vecs\n",
    "        y[i] = label\n",
    "    \n",
    "    y = y.type(torch.LongTensor)\n",
    "\n",
    "    return x, y \n",
    "\n",
    "# def process_input(batch):\n",
    "#     '''\n",
    "#     Tokenize a batch of texts:\n",
    "#         - convert sentence to lower case\n",
    "#         - tokenize word with package `word_tokenize`\n",
    "#         - add paddings to MAX_SENT_LENGTH\n",
    "#         - convert tokenized sentence into GloVe embeddings\n",
    "#         - return a numpy array of input vectors \n",
    "#     '''\n",
    "\n",
    "#     # set up containers\n",
    "#     y = torch.zeros(BATCH_SIZE)\n",
    "#     x = torch.zeros(BATCH_SIZE, MAX_SENT_LENGTH)\n",
    "    \n",
    "#     for i, (sent, label) in enumerate(batch):\n",
    "\n",
    "#         sent = sent.lower()\n",
    "#         tokenized_sent = word_tokenize(sent)\n",
    "\n",
    "#         # perform padding or truncate\n",
    "#         if len(tokenized_sent) < MAX_SENT_LENGTH:\n",
    "#             tokenized_sent += ['<pad>'] * (MAX_SENT_LENGTH - len(tokenized_sent))\n",
    "#         else:\n",
    "#             tokenized_sent = tokenized_sent[:MAX_SENT_LENGTH]\n",
    "\n",
    "#         x[i] = torch.tensor(tokenized_sent)\n",
    "#         y[i] = label\n",
    "\n",
    "#     return x, y "
   ]
  },
  {
   "attachments": {},
   "cell_type": "markdown",
   "metadata": {},
   "source": [
    "##### Custome Dataset"
   ]
  },
  {
   "cell_type": "code",
   "execution_count": 45,
   "metadata": {},
   "outputs": [],
   "source": [
    "# customized dataset: \n",
    "\n",
    "class CustomDataset(Dataset):\n",
    "    '''\n",
    "    '''\n",
    "    def __init__(self, df):\n",
    "        # self.is_test = is_test\n",
    "        self.dataframe = df\n",
    "        self.label_name = df.columns[-1]\n",
    "        \n",
    "    def __len__(self):\n",
    "        return len(self.dataframe)\n",
    "    \n",
    "    def __getitem__(self, idx):\n",
    "        text = self.dataframe.iloc[idx]['comment_text']\n",
    "        label = self.dataframe.iloc[idx][self.label_name]\n",
    "        return text, label\n"
   ]
  },
  {
   "attachments": {},
   "cell_type": "markdown",
   "metadata": {},
   "source": [
    "##### Create Data Loader"
   ]
  },
  {
   "cell_type": "code",
   "execution_count": 46,
   "metadata": {},
   "outputs": [],
   "source": [
    "# split data: train 70%, validation 20%, test 10%\n",
    "\n",
    "train_df, rest_df = train_test_split(data, test_size=0.3, random_state=1)\n",
    "val_df, test_df = train_test_split(rest_df, test_size=0.33, random_state=1)\n",
    "\n",
    "# convert dataframes into cusmotized datasets\n",
    "\n",
    "train_data = CustomDataset(train_df)\n",
    "val_data = CustomDataset(val_df)\n",
    "test_data = CustomDataset(test_df)\n",
    "\n",
    "# create dataloader\n",
    "# droplast: if last batch is incomplete, we drop the last batch\n",
    "\n",
    "train_dataloader = DataLoader(train_data, batch_size=BATCH_SIZE, \n",
    "                              collate_fn=process_input, drop_last=True)\n",
    "\n",
    "val_dataloader = DataLoader(val_data, batch_size=BATCH_SIZE, \n",
    "                            collate_fn=process_input, drop_last=True)\n",
    "\n",
    "test_dataloader = DataLoader(test_data, batch_size=BATCH_SIZE, \n",
    "                             collate_fn=process_input, drop_last=True)"
   ]
  },
  {
   "cell_type": "code",
   "execution_count": 277,
   "metadata": {},
   "outputs": [],
   "source": [
    "# for i, (text, label) in enumerate(test_dataloader):\n",
    "#     print(i)\n",
    "#     print(text)\n",
    "#     print(label)\n",
    "\n",
    "#     if i == 2:\n",
    "#         break"
   ]
  },
  {
   "attachments": {},
   "cell_type": "markdown",
   "metadata": {},
   "source": [
    "## Modeling\n"
   ]
  },
  {
   "attachments": {},
   "cell_type": "markdown",
   "metadata": {},
   "source": [
    "##### CNN Version 0 </p>\n",
    "\n",
    "For the first model, we are testing the following parameters\n",
    "\n",
    "|Description         |Values           |\n",
    "|:------------------:|:---------------:|\n",
    "|input word vectors  |GloVe            |\n",
    "|embedding size      |300              |\n",
    "|filter sizes        |(2, 3, 4, 5)     |\n",
    "|num filters         |(64, 64, 64, 64) |\n",
    "|activation          |ReLU             |\n",
    "|pooling             |1-max pooling    |\n",
    "|dropout rate        |0.5              |"
   ]
  },
  {
   "cell_type": "code",
   "execution_count": 12,
   "metadata": {},
   "outputs": [],
   "source": [
    "import torch\n",
    "import torch.nn as nn\n",
    "import torch.nn.functional as F\n",
    "\n",
    "class CNN_NLP(nn.Module):\n",
    "    '''\n",
    "    An 1D Convulational Neural Network for Sentence Classification.\n",
    "    '''\n",
    "\n",
    "    def __init__(self, filter_sizes=[2, 3, 4, 5], num_filters=[64, 64, 64, 64], \n",
    "                 embed_dim=EMBED_DIM, num_classes=2, dropout=0.5):\n",
    "        \"\"\"\n",
    "\n",
    "        Args:\n",
    "            pretrained_embedding (torch.Tensor): size (max_sent_length, embed_dim)\n",
    "            freeze_embedding (bool): set to False by default\n",
    "            max_sent_length (int): longest sentence allowed\n",
    "            embed_dim (int): dimension of word vectors, by default: 300\n",
    "            filter_sizes (List[int]): list of filter sizes, by default: [2, 3, 4, 5]\n",
    "            num_filters (List[int]): list of number of filters, [64] * 4\n",
    "            n_classes (int): number of classes, by default: 2\n",
    "            dropout (float): Dropout rate, by default: 0.5\n",
    "        \"\"\"\n",
    "\n",
    "        super(CNN_NLP, self).__init__()\n",
    "\n",
    "        # # Embedding layer\n",
    "        # if pretrained_embedding is not None:\n",
    "        #     self.vocab_size, self.embed_dim = pretrained_embedding.shape\n",
    "        #     self.embedding = nn.Embedding.from_pretrained(pretrained_embedding,\n",
    "        #                                                   freeze=freeze_embedding)\n",
    "        # else:\n",
    "        #     self.embed_dim = embed_dim\n",
    "        #     self.embedding = nn.Embedding(num_embeddings=vocab_size,\n",
    "        #                                   embedding_dim=self.embed_dim,\n",
    "        #                                   padding_idx=0,\n",
    "        #                                   max_norm=5.0)\n",
    "\n",
    "        self.embed_dim = embed_dim\n",
    "        \n",
    "        # Conv Network\n",
    "        self.conv1d_list = nn.ModuleList([\n",
    "            nn.Conv1d(in_channels=self.embed_dim, \n",
    "                      out_channels=num_filters[i], \n",
    "                      kernel_size=filter_sizes[i])\n",
    "            for i in range(len(filter_sizes))])\n",
    "        \n",
    "        # Fully-connected layer and Dropout\n",
    "        self.fc = nn.Linear(np.sum(num_filters), num_classes)\n",
    "        self.dropout = nn.Dropout(p=dropout)\n",
    "\n",
    "    def forward(self, input):\n",
    "        \"\"\"Perform a forward pass through the network.\n",
    "\n",
    "        Args:\n",
    "            input (torch.Tensor): tensor of batch of sentences with shape\n",
    "            (batch_size, max_sent_length, embedding_dim)\n",
    "\n",
    "        Returns:\n",
    "            logits (torch.Tensor): Output logits with shape (batch_size,\n",
    "            n_classes)\n",
    "        \"\"\"\n",
    "\n",
    "        # permute input to match the shape requirement of `nn.Conv1d`.\n",
    "        # x_reshaped shape: (BATCH_SIZE, EMBED_DIM, MAX_SENT_LENGTH)\n",
    "        x_reshaped = input.permute(0, 2, 1)\n",
    "\n",
    "        # Apply CNN and ReLU. Output shape: (b, num_filters[i], L_out)\n",
    "        x_conv_list = [F.relu(conv1d(x_reshaped)) for conv1d in self.conv1d_list]\n",
    "\n",
    "        # Max pooling. Output shape: (b, num_filters[i], 1)\n",
    "        x_pool_list = [F.max_pool1d(x_conv, kernel_size=x_conv.shape[2]) for x_conv in x_conv_list]\n",
    "        \n",
    "        # Concatenate x_pool_list to feed the fully connected layer.\n",
    "        # Output shape: (b, sum(num_filters))\n",
    "        x_fc = torch.cat([x_pool.squeeze(dim=2) for x_pool in x_pool_list], dim=1)\n",
    "        \n",
    "        # Compute logits. Output shape: (b, n_classes)\n",
    "        logits = self.fc(self.dropout(x_fc))\n",
    "\n",
    "        return logits"
   ]
  },
  {
   "attachments": {},
   "cell_type": "markdown",
   "metadata": {},
   "source": [
    "## Training"
   ]
  },
  {
   "cell_type": "code",
   "execution_count": 13,
   "metadata": {},
   "outputs": [],
   "source": [
    "import torch.optim as optim\n",
    "\n",
    "# Check for GPU availability\n",
    "if torch.cuda.is_available():\n",
    "    device = torch.device(\"cuda\")\n",
    "\n",
    "def initilize_model(embed_dim=EMBED_DIM, filter_sizes=[2, 3, 4, 5], num_filters=[64, 64, 64, 64], \n",
    "                    num_classes=2, dropout=0.5, learning_rate=0.01):\n",
    "\n",
    "    '''\n",
    "    Instantiate a CNN model and an optimizer.\n",
    "    '''\n",
    "\n",
    "    assert (len(filter_sizes) == len(num_filters)), \"filter_sizes and \\\n",
    "    num_filters need to be of the same length.\"\n",
    "\n",
    "    cnn_model = CNN_NLP(filter_sizes=filter_sizes,\n",
    "                        num_filters=num_filters,\n",
    "                        embed_dim=embed_dim,\n",
    "                        num_classes=num_classes,\n",
    "                        dropout=dropout)\n",
    "    \n",
    "    cnn_model.to(device)\n",
    "\n",
    "    optimizer = optim.Adadelta(cnn_model.parameters(),\n",
    "                               lr=learning_rate,\n",
    "                               rho=0.95)\n",
    "\n",
    "    return cnn_model, optimizer"
   ]
  },
  {
   "cell_type": "code",
   "execution_count": 20,
   "metadata": {},
   "outputs": [],
   "source": [
    "import random\n",
    "import time\n",
    "\n",
    "loss_fn = nn.CrossEntropyLoss()\n",
    "\n",
    "def set_seed(seed_value=42):\n",
    "    '''\n",
    "    Set seed for reproducibility.\n",
    "    '''\n",
    "\n",
    "    random.seed(seed_value)\n",
    "    np.random.seed(seed_value)\n",
    "    torch.manual_seed(seed_value)\n",
    "    torch.cuda.manual_seed_all(seed_value)\n",
    "\n",
    "\n",
    "def evaluate_val(model, val_dataloader):\n",
    "    '''\n",
    "    After the completion of each training epoch, \n",
    "    measure the model's performance on our validation set.\n",
    "    '''\n",
    "\n",
    "    model.eval()\n",
    "\n",
    "    val_accuracy = []\n",
    "    val_loss = []\n",
    "\n",
    "    for batch in val_dataloader:\n",
    "\n",
    "        b_input, b_labels = tuple(t.to(device) for t in batch)\n",
    "\n",
    "        with torch.no_grad():\n",
    "            logits = model(b_input)\n",
    "\n",
    "        loss = loss_fn(logits, b_labels)\n",
    "        val_loss.append(loss.item())\n",
    "        preds = torch.argmax(logits, dim=1).flatten()\n",
    "        accuracy = (preds == b_labels).cpu().numpy().mean() * 100\n",
    "        val_accuracy.append(accuracy)\n",
    "\n",
    "    val_loss = np.mean(val_loss)\n",
    "    val_accuracy = np.mean(val_accuracy)\n",
    "\n",
    "    return val_loss, val_accuracy\n",
    "\n",
    "\n",
    "def train(model, optimizer, train_dataloader, val_dataloader, epochs=10, check_train_loss=False):\n",
    "    '''\n",
    "    Train the CNN model.\n",
    "    Inputs: \n",
    "        model: initialized CNN model \n",
    "        optimizer: initialized optimizer \n",
    "        train_dataloader: DataLoader object \n",
    "        val_dataloader: DataLoader object\n",
    "        epochs: number of epochs for training, set to 10 by defaut\n",
    "        check_train_loss: return list of training loss for each\n",
    "                          epoch, set to False by default\n",
    "    return:\n",
    "        best_model: CNN_NLP object with highest validation accuracy\n",
    "        val_accuracies: list of validation accuracies for each epoch\n",
    "        val_losses: list of validation loss for each epoch\n",
    "        train_losses (if check_train_loss): list of training loss for each epoch\n",
    "    '''\n",
    "    \n",
    "    best_model = None\n",
    "    val_accuracies = []\n",
    "    train_losses = []\n",
    "    val_losses = []\n",
    "    best_accuracy = 0\n",
    "\n",
    "    print(\"Start training...\\n\")\n",
    "    print(f\"{'Epoch':^7} | {'Train Loss':^12} | {'Val Loss':^10} | {'Val Acc':^9} | {'Elapsed':^9}\")\n",
    "    print(\"-\"*60)\n",
    "\n",
    "    for epoch_i in range(epochs):\n",
    "\n",
    "        t0_epoch = time.time()\n",
    "        total_loss = 0\n",
    "        model.train()\n",
    "\n",
    "        # ============= Training =============\n",
    "\n",
    "        for step, batch in enumerate(train_dataloader):\n",
    "\n",
    "            # forward and compute loss\n",
    "            b_input, b_labels = tuple(t.to(device) for t in batch)\n",
    "            model.zero_grad()\n",
    "            logits = model(b_input)\n",
    "            loss = loss_fn(logits, b_labels)\n",
    "            total_loss += loss.item()\n",
    "            loss.backward()\n",
    "            optimizer.step()\n",
    "\n",
    "        avg_train_loss = total_loss / len(train_dataloader)\n",
    "        train_losses.append(avg_train_loss)\n",
    "\n",
    "        time_elapsed = time.time() - t0_epoch\n",
    "\n",
    "        # ============= Evaluation =============\n",
    "\n",
    "        val_loss, val_accuracy = evaluate_val(model, val_dataloader)\n",
    "\n",
    "        if not best_model:\n",
    "            best_model = model\n",
    "\n",
    "        if val_accuracy > best_accuracy:\n",
    "            best_accuracy = val_accuracy\n",
    "            best_model = model\n",
    "\n",
    "        val_accuracies.append(val_accuracy)\n",
    "        val_losses.append(val_loss)\n",
    "\n",
    "        time_elapsed = time.time() - t0_epoch\n",
    "        print(f\"{epoch_i + 1:^7} | {avg_train_loss:^12.6f} | {val_loss:^10.6f} | {val_accuracy:^9.2f} | {time_elapsed:^9.2f}\")\n",
    "            \n",
    "    print(\"\\n\")\n",
    "    print(f\"Training complete! Best accuracy: {best_accuracy:.2f}%.\")\n",
    "\n",
    "    if check_train_loss:\n",
    "        return best_model, val_accuracies, val_losses, train_losses\n",
    "    \n",
    "    return best_model, val_accuracies, val_losses"
   ]
  },
  {
   "attachments": {},
   "cell_type": "markdown",
   "metadata": {},
   "source": [
    "## Testing"
   ]
  },
  {
   "cell_type": "code",
   "execution_count": 52,
   "metadata": {},
   "outputs": [],
   "source": [
    "from sklearn.metrics import confusion_matrix\n",
    "\n",
    "# def test_model(model, test_dataloader):\n",
    "#     '''\n",
    "#     After the completion of each training epoch, measure the model's\n",
    "#     performance on our validation set.\n",
    "\n",
    "#     Input:\n",
    "#         model: best performed CNN_NLP model \n",
    "#         test_dataloader: DataLoader for testing data\n",
    "\n",
    "#     Return:\n",
    "#         test_loss\n",
    "#         test_accuracy\n",
    "#     '''\n",
    "\n",
    "#     model.eval()\n",
    "#     test_accuracy = []\n",
    "#     test_loss = []\n",
    "\n",
    "#     for batch in test_dataloader:\n",
    "#         b_input, b_labels = tuple(t.to(device) for t in batch)\n",
    "\n",
    "#         with torch.no_grad():\n",
    "#             logits = model(b_input)\n",
    "\n",
    "#         loss = loss_fn(logits, b_labels)\n",
    "#         test_loss.append(loss.item())\n",
    "#         preds = torch.argmax(logits, dim=1).flatten()\n",
    "#         accuracy = (preds == b_labels).cpu().numpy().mean() * 100\n",
    "#         test_accuracy.append(accuracy)\n",
    "\n",
    "#     # Compute the average accuracy and loss over the validation set.\n",
    "#     test_loss = np.mean(test_loss)\n",
    "#     test_accuracy = np.mean(test_accuracy)\n",
    "\n",
    "#     return test_loss, test_accuracy\n",
    "\n",
    "def test_model(model, test_dataloader):\n",
    "    '''\n",
    "    test the model on test data, return the test loss \n",
    "    and the confusion matrix\n",
    "    '''\n",
    "\n",
    "    model.eval()\n",
    "\n",
    "    predictions = []\n",
    "    labels = []\n",
    "    losses = []\n",
    "    # ids = []\n",
    "    # ids.to(device)\n",
    "    # predictions.to(device)\n",
    "    # labels.to(device)\n",
    "\n",
    "    for i, batch in enumerate(test_dataloader):\n",
    "\n",
    "        b_input, b_labels = tuple(t.to(device) for t in batch)\n",
    "\n",
    "        with torch.no_grad():\n",
    "            logits = model(b_input)\n",
    "\n",
    "        loss = loss_fn(logits, b_labels)\n",
    "        losses.append(loss.item())\n",
    "        preds = torch.argmax(logits, dim=1).flatten()\n",
    "\n",
    "        # ids.extend(list(b_ids))\n",
    "        labels.extend(list(b_labels))\n",
    "        predictions.extend(list(preds))\n",
    "\n",
    "    test_loss = np.mean(losses)\n",
    "    cm = confusion_matrix(labels, predictions)\n",
    "\n",
    "    return test_loss, cm\n",
    "\n",
    "def eval_cm(cm):\n",
    "    '''\n",
    "    Ravel a comfusion matrix, and return \n",
    "    accuracy, precision, recall, f1 \n",
    "\n",
    "    Input:\n",
    "        model: best performed CNN_NLP model \n",
    "        test_dataloader: DataLoader for testing data\n",
    "\n",
    "    Return:\n",
    "        DataFrame format of four measurements\n",
    "    '''\n",
    "\n",
    "    tn, fp, fn, tp = cm.ravel() \n",
    "    accu = (tp + tn) / (tp + tn + fp + fn)\n",
    "    prec = tp / (tp + fp)\n",
    "    recall = tp / (tp + fn)\n",
    "    f1 = 2 * (prec * recall) / (prec + recall)\n",
    "\n",
    "    eval = {\"Accuracy\": [accu],\n",
    "            \"Precision\": [prec],\n",
    "            \"Recall\": [recall],\n",
    "            \"F1\": [f1]}\n",
    "    \n",
    "    return pd.DataFrame(eval)\n"
   ]
  },
  {
   "cell_type": "code",
   "execution_count": 17,
   "metadata": {},
   "outputs": [],
   "source": [
    "def get_predictions(model, test_dataloader):\n",
    "    '''\n",
    "    After the completion of each training epoch, measure the model's\n",
    "    performance on our validation set.\n",
    "\n",
    "    Input:\n",
    "        model: best performed CNN_NLP model \n",
    "        test_dataloader: DataLoader for testing data\n",
    "\n",
    "    Return:\n",
    "        preds (list): predictions on testing data, \n",
    "        last batch might be dropped if not full\n",
    "    '''\n",
    "\n",
    "    model.eval()\n",
    "    preds = []\n",
    "\n",
    "    for batch in test_dataloader:\n",
    "        b_input, _ = tuple(t.to(device) for t in batch)\n",
    "\n",
    "        with torch.no_grad():\n",
    "            logits = model(b_input)\n",
    "        b_pred = torch.argmax(logits, dim=1).flatten()\n",
    "        for v in b_pred:\n",
    "            preds.append(int(v))\n",
    "\n",
    "    return preds\n",
    "\n",
    "\n",
    "def get_tag(row):\n",
    "    '''\n",
    "    helper function to get 4 different tags based on \n",
    "    the predicted value and the actual value: \n",
    "    \"TP\", \"TN\", \"FP\", \"FN\" \n",
    "\n",
    "    the labels are binary, so we only have 4 conditions:\n",
    "        label(1) * pred(1) = 1  ---> \"TP\"\n",
    "        label(0) - pred(0) = 0  ---> \"TN\" (excluding previous condition)\n",
    "        label(0) - pred(1) = -1 ---> \"FP\" (excluding previous conditions)\n",
    "        label(1) - pred(0) = 1  ---> \"FN\" (excluding previous conditions)\n",
    "    \n",
    "    return: \"TP\", \"TN\", \"FP\", \"FN\" (4 tags)\n",
    "            and 'N/A' (not suppose to happen)\n",
    "    '''\n",
    "    \n",
    "    pred = row[\"pred\"]\n",
    "    label = row[\"label\"]\n",
    "\n",
    "    if label * pred == 1:\n",
    "        return 'TP'\n",
    "    elif label - pred == 0:\n",
    "        return 'TN'\n",
    "    elif label - pred == -1:\n",
    "        return 'FP'\n",
    "    elif label - pred == 1:\n",
    "        return 'FN'\n",
    "    else:\n",
    "        return 'N/A'\n",
    "\n",
    "\n",
    "def tag_performances(preds, df):\n",
    "    '''\n",
    "    take predictions from model on test_df, tag \n",
    "    cases of prediction: \"TP\", \"TN\", \"FP\", \"FN\" \n",
    "    \n",
    "    Inputs:\n",
    "        preds (list): a list of predicions from model\n",
    "        df (DataFrame): test data in DataFrame form, \n",
    "                        the last column should be the true label\n",
    "    Return: \n",
    "        df (DataFrame) include testing data and predictions\n",
    "    '''\n",
    "\n",
    "    N = len(preds)\n",
    "\n",
    "    assert N == len(df) - (len(df) % 16), \\\n",
    "    \"AssertionError: number of predictions should equal to the number of examples\"\n",
    "\n",
    "    # change the last column name\n",
    "    last_column_name = df.columns[-1]\n",
    "    df = df.rename(columns={last_column_name: \"label\"})\n",
    "\n",
    "    # add new column for model predictions\n",
    "    df = df[: N]\n",
    "    df[\"pred\"] = preds\n",
    "\n",
    "    # tag \"TP\", \"TN\", \"FP\", \"FN\" for each pair\n",
    "    df['tag'] = df.apply(get_tag, axis=1)\n",
    "\n",
    "    return df"
   ]
  },
  {
   "attachments": {},
   "cell_type": "markdown",
   "metadata": {},
   "source": [
    "## Compare Different Models"
   ]
  },
  {
   "attachments": {},
   "cell_type": "markdown",
   "metadata": {},
   "source": [
    "#### REPORT 1.1 `best_model_0` with 10 epochs:"
   ]
  },
  {
   "cell_type": "code",
   "execution_count": 30,
   "metadata": {},
   "outputs": [
    {
     "name": "stdout",
     "output_type": "stream",
     "text": [
      "Start training...\n",
      "\n",
      " Epoch  |  Train Loss  |  Val Loss  |  Val Acc  |  Elapsed \n",
      "------------------------------------------------------------\n",
      "   1    |   0.528128   |  0.399364  |   85.30   |  226.91  \n",
      "   2    |   0.363661   |  0.317377  |   87.72   |  229.22  \n",
      "   3    |   0.311483   |  0.287456  |   88.62   |  228.62  \n",
      "   4    |   0.283751   |  0.271325  |   89.22   |  226.00  \n",
      "   5    |   0.268967   |  0.261541  |   89.65   |  212.46  \n",
      "   6    |   0.258044   |  0.254281  |   89.94   |  199.25  \n",
      "   7    |   0.248379   |  0.248118  |   90.05   |  203.42  \n",
      "   8    |   0.240250   |  0.243319  |   90.29   |  205.28  \n",
      "   9    |   0.232290   |  0.239913  |   90.67   |  205.68  \n",
      "  10    |   0.225141   |  0.236111  |   90.58   |  236.86  \n",
      "\n",
      "\n",
      "Training complete! Best accuracy: 90.67%.\n"
     ]
    }
   ],
   "source": [
    "# train model with 10 epocks\n",
    "cnn_model, optimizer = initilize_model()\n",
    "best_model_0, val_accuracies_0, val_losses_0 = train(cnn_model, optimizer, train_dataloader, val_dataloader)"
   ]
  },
  {
   "cell_type": "code",
   "execution_count": 42,
   "metadata": {},
   "outputs": [
    {
     "data": {
      "text/plain": [
       "Text(0.5, 1.0, 'Validation accuracy of `best_model_0` (10 epochs)')"
      ]
     },
     "execution_count": 42,
     "metadata": {},
     "output_type": "execute_result"
    },
    {
     "data": {
      "image/png": "[encoded data removed]",
      "text/plain": [
       "<Figure size 640x480 with 1 Axes>"
      ]
     },
     "metadata": {},
     "output_type": "display_data"
    }
   ],
   "source": [
    "epochs = [x+1 for x in range(10)]\n",
    "val_accuracies_0 = [85.30, 87.72, 88.62, 89.22, 89.65, 89.94, 90.05, 90.29, 90.67, 90.58]\n",
    "\n",
    "plt.plot(epochs, val_accuracies_0)\n",
    "plt.xticks(range(0, 11))\n",
    "plt.xlabel('epoch')\n",
    "plt.ylabel('validation accuracy')\n",
    "plt.title('Validation accuracy of `best_model_0` (10 epochs)')\n"
   ]
  },
  {
   "attachments": {},
   "cell_type": "markdown",
   "metadata": {},
   "source": [
    "\n",
    "**Report:** </p>\n",
    "\n",
    "```python\n",
    "\n",
    "(CNN_NLP(\n",
    "   (conv1d_list): ModuleList(\n",
    "     (0): Conv1d(300, 64, kernel_size=(2,), stride=(1,))\n",
    "     (1): Conv1d(300, 64, kernel_size=(3,), stride=(1,))\n",
    "     (2): Conv1d(300, 64, kernel_size=(4,), stride=(1,))\n",
    "     (3): Conv1d(300, 64, kernel_size=(5,), stride=(1,))\n",
    "   )\n",
    "   (fc): Linear(in_features=256, out_features=2, bias=True)\n",
    "   (dropout): Dropout(p=0.5, inplace=False)\n",
    " )\n",
    "```\n",
    "\n",
    "**Training performance:**\n",
    "\n",
    "| Epoch  |  Train Loss  |  Val Loss  |  Val Acc  |  Elapsed \n",
    "|:------:|:------------:|:----------:|:---------:|:-------:|\n",
    "|   1    |   0.515071   |  0.387810  |   85.50   |  222.95 | \n",
    "|   2    |   0.357476   |  0.314949  |   87.84   |  214.95 |\n",
    "|   3    |   0.307458   |  0.286911  |   88.58   |  217.30 |\n",
    "|   4    |   0.283827   |  0.271694  |   89.29   |  212.41 |\n",
    "|   5    |   0.269294   |  0.261957  |   89.29   |  217.79 |\n",
    "|   6    |   0.257123   |  0.254316  |   89.50   |  238.22 |\n",
    "|   7    |   0.247575   |  0.248300  |   89.76   |  223.09 |\n",
    "|   8    |   0.239426   |  0.243885  |   89.81   |  216.53 |\n",
    "|   9    |   0.233904   |  0.239794  |   90.08   |  210.70 |\n",
    "|  10    |   0.227885   |  0.236559  |   90.17   |  221.15 |\n"
   ]
  },
  {
   "attachments": {},
   "cell_type": "markdown",
   "metadata": {},
   "source": [
    "Next, let's see some of the false prediction results:"
   ]
  },
  {
   "cell_type": "code",
   "execution_count": 84,
   "metadata": {},
   "outputs": [],
   "source": [
    "preds = get_predictions(best_model_0, test_dataloader)\n",
    "results_cnn_0 = tag_performances(preds, test_df)"
   ]
  },
  {
   "cell_type": "code",
   "execution_count": 105,
   "metadata": {},
   "outputs": [
    {
     "data": {
      "text/html": [
       "<div>\n",
       "<style scoped>\n",
       "    .dataframe tbody tr th:only-of-type {\n",
       "        vertical-align: middle;\n",
       "    }\n",
       "\n",
       "    .dataframe tbody tr th {\n",
       "        vertical-align: top;\n",
       "    }\n",
       "\n",
       "    .dataframe thead th {\n",
       "        text-align: right;\n",
       "    }\n",
       "</style>\n",
       "<table border=\"1\" class=\"dataframe\">\n",
       "  <thead>\n",
       "    <tr style=\"text-align: right;\">\n",
       "      <th></th>\n",
       "      <th>id</th>\n",
       "      <th>comment_text</th>\n",
       "      <th>label</th>\n",
       "      <th>pred</th>\n",
       "      <th>tag</th>\n",
       "    </tr>\n",
       "  </thead>\n",
       "  <tbody>\n",
       "    <tr>\n",
       "      <th>1841</th>\n",
       "      <td>12a1805ef86d1267</td>\n",
       "      <td>He is not gay in Rugrats, but on the internet,...</td>\n",
       "      <td>1</td>\n",
       "      <td>0</td>\n",
       "      <td>FN</td>\n",
       "    </tr>\n",
       "    <tr>\n",
       "      <th>1154</th>\n",
       "      <td>9e25d9bb1e79ede6</td>\n",
       "      <td>Unfairly blocked as Mattythewhite got the hump...</td>\n",
       "      <td>1</td>\n",
       "      <td>0</td>\n",
       "      <td>FN</td>\n",
       "    </tr>\n",
       "    <tr>\n",
       "      <th>28361</th>\n",
       "      <td>a3b68ab21bbd0439</td>\n",
       "      <td>WHY DID THEY DELETED IT BECAUSE I MADE IT THAT...</td>\n",
       "      <td>1</td>\n",
       "      <td>0</td>\n",
       "      <td>FN</td>\n",
       "    </tr>\n",
       "    <tr>\n",
       "      <th>24142</th>\n",
       "      <td>13d34f8041fbec39</td>\n",
       "      <td>Cease and defuck\\nYour work is a fuckability. ...</td>\n",
       "      <td>1</td>\n",
       "      <td>0</td>\n",
       "      <td>FN</td>\n",
       "    </tr>\n",
       "    <tr>\n",
       "      <th>19656</th>\n",
       "      <td>24d25ca2fe7e07ea</td>\n",
       "      <td>User, YOU ARE MISTAKEN.  THE CAPITAL HILL BLUE...</td>\n",
       "      <td>1</td>\n",
       "      <td>0</td>\n",
       "      <td>FN</td>\n",
       "    </tr>\n",
       "  </tbody>\n",
       "</table>\n",
       "</div>"
      ],
      "text/plain": [
       "                     id                                       comment_text   \n",
       "1841   12a1805ef86d1267  He is not gay in Rugrats, but on the internet,...  \\\n",
       "1154   9e25d9bb1e79ede6  Unfairly blocked as Mattythewhite got the hump...   \n",
       "28361  a3b68ab21bbd0439  WHY DID THEY DELETED IT BECAUSE I MADE IT THAT...   \n",
       "24142  13d34f8041fbec39  Cease and defuck\\nYour work is a fuckability. ...   \n",
       "19656  24d25ca2fe7e07ea  User, YOU ARE MISTAKEN.  THE CAPITAL HILL BLUE...   \n",
       "\n",
       "       label  pred tag  \n",
       "1841       1     0  FN  \n",
       "1154       1     0  FN  \n",
       "28361      1     0  FN  \n",
       "24142      1     0  FN  \n",
       "19656      1     0  FN  "
      ]
     },
     "execution_count": 105,
     "metadata": {},
     "output_type": "execute_result"
    }
   ],
   "source": [
    "# check some of the false negative predictions\n",
    "false_neg_cnn_0 = results_cnn_0[results_cnn_0[\"tag\"] == \"FN\"]\n",
    "false_neg_cnn_0.to_csv(\"FN_model0.csv\")\n",
    "false_neg_cnn_0.head(5)"
   ]
  },
  {
   "cell_type": "code",
   "execution_count": 106,
   "metadata": {},
   "outputs": [
    {
     "data": {
      "text/html": [
       "<div>\n",
       "<style scoped>\n",
       "    .dataframe tbody tr th:only-of-type {\n",
       "        vertical-align: middle;\n",
       "    }\n",
       "\n",
       "    .dataframe tbody tr th {\n",
       "        vertical-align: top;\n",
       "    }\n",
       "\n",
       "    .dataframe thead th {\n",
       "        text-align: right;\n",
       "    }\n",
       "</style>\n",
       "<table border=\"1\" class=\"dataframe\">\n",
       "  <thead>\n",
       "    <tr style=\"text-align: right;\">\n",
       "      <th></th>\n",
       "      <th>id</th>\n",
       "      <th>comment_text</th>\n",
       "      <th>label</th>\n",
       "      <th>pred</th>\n",
       "      <th>tag</th>\n",
       "    </tr>\n",
       "  </thead>\n",
       "  <tbody>\n",
       "    <tr>\n",
       "      <th>19916</th>\n",
       "      <td>7ab55f5165ed9291</td>\n",
       "      <td>The failure of Fagreterion \\n\\nFagreterion can...</td>\n",
       "      <td>0</td>\n",
       "      <td>1</td>\n",
       "      <td>FP</td>\n",
       "    </tr>\n",
       "    <tr>\n",
       "      <th>6032</th>\n",
       "      <td>0be7965b23078261</td>\n",
       "      <td>\"Just face the truth: you can't escape it!==\\n...</td>\n",
       "      <td>0</td>\n",
       "      <td>1</td>\n",
       "      <td>FP</td>\n",
       "    </tr>\n",
       "    <tr>\n",
       "      <th>7878</th>\n",
       "      <td>7f0f1a7286ecbc51</td>\n",
       "      <td>hayyyyyyyyy \\n\\nyeah this karoolzzz hay k hayy...</td>\n",
       "      <td>0</td>\n",
       "      <td>1</td>\n",
       "      <td>FP</td>\n",
       "    </tr>\n",
       "    <tr>\n",
       "      <th>26972</th>\n",
       "      <td>96b055eca6cc56b0</td>\n",
       "      <td>a debate to see why he was so virulently anti-...</td>\n",
       "      <td>0</td>\n",
       "      <td>1</td>\n",
       "      <td>FP</td>\n",
       "    </tr>\n",
       "    <tr>\n",
       "      <th>5618</th>\n",
       "      <td>f97e67368b5eee9d</td>\n",
       "      <td>Well, I seemed to be able to change it just fi...</td>\n",
       "      <td>0</td>\n",
       "      <td>1</td>\n",
       "      <td>FP</td>\n",
       "    </tr>\n",
       "  </tbody>\n",
       "</table>\n",
       "</div>"
      ],
      "text/plain": [
       "                     id                                       comment_text   \n",
       "19916  7ab55f5165ed9291  The failure of Fagreterion \\n\\nFagreterion can...  \\\n",
       "6032   0be7965b23078261  \"Just face the truth: you can't escape it!==\\n...   \n",
       "7878   7f0f1a7286ecbc51  hayyyyyyyyy \\n\\nyeah this karoolzzz hay k hayy...   \n",
       "26972  96b055eca6cc56b0  a debate to see why he was so virulently anti-...   \n",
       "5618   f97e67368b5eee9d  Well, I seemed to be able to change it just fi...   \n",
       "\n",
       "       label  pred tag  \n",
       "19916      0     1  FP  \n",
       "6032       0     1  FP  \n",
       "7878       0     1  FP  \n",
       "26972      0     1  FP  \n",
       "5618       0     1  FP  "
      ]
     },
     "execution_count": 106,
     "metadata": {},
     "output_type": "execute_result"
    }
   ],
   "source": [
    "# check some of the false positive predictions\n",
    "false_pos_cnn_0 = results_cnn_0[results_cnn_0[\"tag\"] == \"FP\"]\n",
    "false_pos_cnn_0.to_csv(\"FP_model0.csv\")\n",
    "false_pos_cnn_0.head(5)"
   ]
  },
  {
   "cell_type": "code",
   "execution_count": 109,
   "metadata": {},
   "outputs": [],
   "source": [
    "# for i, row in false_neg_cnn_0.iterrows():\n",
    "#     id = row[\"id\"]\n",
    "#     sent = row[\"comment_text\"]\n",
    "#     print(\"id:\")\n",
    "#     print(id)\n",
    "#     print(\"comment: \")\n",
    "#     print(sent)\n",
    "#     print(\"============\")"
   ]
  },
  {
   "attachments": {},
   "cell_type": "markdown",
   "metadata": {},
   "source": [
    "#### REPORT 1.2 `best_model_0` with 20 epochs:"
   ]
  },
  {
   "cell_type": "code",
   "execution_count": 22,
   "metadata": {},
   "outputs": [
    {
     "name": "stdout",
     "output_type": "stream",
     "text": [
      "Start training...\n",
      "\n",
      " Epoch  |  Train Loss  |  Val Loss  |  Val Acc  |  Elapsed \n",
      "------------------------------------------------------------\n",
      "   1    |   0.518177   |  0.390717  |   85.49   |  206.55  \n",
      "   2    |   0.356052   |  0.314333  |   87.69   |  213.67  \n",
      "   3    |   0.305211   |  0.285256  |   88.55   |  216.24  \n",
      "   4    |   0.282695   |  0.270456  |   89.24   |  276.86  \n",
      "   5    |   0.267897   |  0.261121  |   89.39   |  263.94  \n",
      "   6    |   0.258804   |  0.254165  |   89.70   |  269.75  \n",
      "   7    |   0.247487   |  0.248454  |   90.01   |  231.39  \n",
      "   8    |   0.237717   |  0.243787  |   90.10   |  206.41  \n",
      "   9    |   0.233450   |  0.240119  |   90.24   |  205.30  \n",
      "  10    |   0.227105   |  0.237166  |   90.38   |  205.57  \n",
      "  11    |   0.220388   |  0.234342  |   90.53   |  205.35  \n",
      "  12    |   0.215990   |  0.231839  |   90.53   |  205.72  \n",
      "  13    |   0.212377   |  0.229920  |   90.63   |  210.60  \n",
      "  14    |   0.207373   |  0.228286  |   90.65   |  208.69  \n",
      "  15    |   0.204846   |  0.227199  |   90.86   |  209.43  \n",
      "  16    |   0.198263   |  0.225998  |   90.84   |  207.99  \n",
      "  17    |   0.195395   |  0.224842  |   91.01   |  207.73  \n",
      "  18    |   0.189093   |  0.223940  |   90.89   |  208.72  \n",
      "  19    |   0.188172   |  0.222998  |   91.00   |  203.57  \n",
      "  20    |   0.184841   |  0.222217  |   91.17   |  351.67  \n",
      "\n",
      "\n",
      "Training complete! Best accuracy: 91.17%.\n"
     ]
    }
   ],
   "source": [
    "# train model with 20 epocks\n",
    "cnn_model, optimizer = initilize_model()\n",
    "best_model_0_20e, val_accuracies_0_20e, val_losses_0_20e, train_losses_0_20e = \\\n",
    "    train(cnn_model, optimizer, train_dataloader, val_dataloader, epochs=20, check_train_loss=True)"
   ]
  },
  {
   "cell_type": "code",
   "execution_count": 25,
   "metadata": {},
   "outputs": [],
   "source": [
    "# # pickle the model\n",
    "# with open('best_model_0_20e.pkl', 'wb') as file:\n",
    "#     pickle.dump(best_model_0_20e, file)\n",
    "\n",
    "# load the pickled model\n",
    "with open('best_model_0_20e.pkl', 'rb') as file:\n",
    "    best_model_0_20e = pickle.load(file)"
   ]
  },
  {
   "cell_type": "code",
   "execution_count": 39,
   "metadata": {},
   "outputs": [
    {
     "data": {
      "text/plain": [
       "Text(0.5, 1.0, 'Validation accuracy of `best_model_0` (20 epochs)')"
      ]
     },
     "execution_count": 39,
     "metadata": {},
     "output_type": "execute_result"
    },
    {
     "data": {
      "image/png": "[encoded data removed]",
      "text/plain": [
       "<Figure size 640x480 with 1 Axes>"
      ]
     },
     "metadata": {},
     "output_type": "display_data"
    }
   ],
   "source": [
    "epochs = [x + 1 for x in range(20)]\n",
    "\n",
    "plt.plot(epochs, val_accuracies_0_20e)\n",
    "plt.xticks(range(0, 21, 2))\n",
    "plt.xlabel('epoch')\n",
    "plt.ylabel('validation accuracy')\n",
    "plt.title('Validation accuracy of `best_model_0` (20 epochs)')"
   ]
  },
  {
   "cell_type": "code",
   "execution_count": 38,
   "metadata": {},
   "outputs": [
    {
     "data": {
      "text/plain": [
       "<matplotlib.legend.Legend at 0x7fef035999f0>"
      ]
     },
     "execution_count": 38,
     "metadata": {},
     "output_type": "execute_result"
    },
    {
     "data": {
      "image/png": "[encoded data removed]",
      "text/plain": [
       "<Figure size 640x480 with 1 Axes>"
      ]
     },
     "metadata": {},
     "output_type": "display_data"
    }
   ],
   "source": [
    "epochs = [x + 1 for x in range(20)]\n",
    "\n",
    "plt.plot(epochs, train_losses_0_20e, label=\"train\")\n",
    "plt.plot(epochs, val_losses_0_20e, label=\"validation\")\n",
    "plt.xticks(range(0, 21, 2))\n",
    "plt.xlabel('epoch')\n",
    "plt.ylabel('loss')\n",
    "plt.title('Training and Validation loss of `best_model_0` (20 epochs)')\n",
    "\n",
    "plt.legend()"
   ]
  },
  {
   "attachments": {},
   "cell_type": "markdown",
   "metadata": {},
   "source": [
    "\n",
    "**Report:** </p>\n",
    "\n",
    "**Training performance:**\n",
    "\n",
    "| Epoch  |  Train Loss  |  Val Loss  |  Val Acc  |  Elapsed \n",
    "|:------:|:------------:|:----------:|:---------:|:-------:|\n",
    "   1     |   0.518177   |  0.390717  |   85.49   |  206.55  \n",
    "   2     |   0.356052   |  0.314333  |   87.69   |  213.67  \n",
    "   3     |   0.305211   |  0.285256  |   88.55   |  216.24  \n",
    "   4     |   0.282695   |  0.270456  |   89.24   |  276.86  \n",
    "   5     |   0.267897   |  0.261121  |   89.39   |  263.94  \n",
    "   6     |   0.258804   |  0.254165  |   89.70   |  269.75  \n",
    "   7     |   0.247487   |  0.248454  |   90.01   |  231.39  \n",
    "   8     |   0.237717   |  0.243787  |   90.10   |  206.41  \n",
    "   9     |   0.233450   |  0.240119  |   90.24   |  205.30  \n",
    "  10     |   0.227105   |  0.237166  |   90.38   |  205.57  \n",
    "  11     |   0.220388   |  0.234342  |   90.53   |  205.35  \n",
    "  12     |   0.215990   |  0.231839  |   90.53   |  205.72  \n",
    "  13     |   0.212377   |  0.229920  |   90.63   |  210.60  \n",
    "  14     |   0.207373   |  0.228286  |   90.65   |  208.69  \n",
    "  15     |   0.204846   |  0.227199  |   90.86   |  209.43  \n",
    "  16     |   0.198263   |  0.225998  |   90.84   |  207.99  \n",
    "  17     |   0.195395   |  0.224842  |   91.01   |  207.73  \n",
    "  18     |   0.189093   |  0.223940  |   90.89   |  208.72  \n",
    "  19     |   0.188172   |  0.222998  |   91.00   |  203.57  \n",
    "  20     |   0.184841   |  0.222217  |   91.17   |  351.67 \n"
   ]
  },
  {
   "cell_type": "code",
   "execution_count": 57,
   "metadata": {},
   "outputs": [
    {
     "name": "stdout",
     "output_type": "stream",
     "text": [
      "After 20 epochs of training, the model_0 has testing loss of 0.199\n"
     ]
    }
   ],
   "source": [
    "test_loss_0_20e, cm_0_20e = test_model(best_model_0_20e, test_dataloader)\n",
    "\n",
    "print(\"After 20 epochs of training, the model_0 has testing loss of {}\"\\\n",
    "      .format(round(test_loss_0_20e, 3)))"
   ]
  },
  {
   "cell_type": "code",
   "execution_count": 63,
   "metadata": {},
   "outputs": [
    {
     "data": {
      "text/html": [
       "<div>\n",
       "<style scoped>\n",
       "    .dataframe tbody tr th:only-of-type {\n",
       "        vertical-align: middle;\n",
       "    }\n",
       "\n",
       "    .dataframe tbody tr th {\n",
       "        vertical-align: top;\n",
       "    }\n",
       "\n",
       "    .dataframe thead th {\n",
       "        text-align: right;\n",
       "    }\n",
       "</style>\n",
       "<table border=\"1\" class=\"dataframe\">\n",
       "  <thead>\n",
       "    <tr style=\"text-align: right;\">\n",
       "      <th></th>\n",
       "      <th>Accuracy</th>\n",
       "      <th>Precision</th>\n",
       "      <th>Recall</th>\n",
       "      <th>F1</th>\n",
       "    </tr>\n",
       "  </thead>\n",
       "  <tbody>\n",
       "    <tr>\n",
       "      <th>0</th>\n",
       "      <td>0.92074</td>\n",
       "      <td>0.918882</td>\n",
       "      <td>0.925824</td>\n",
       "      <td>0.92234</td>\n",
       "    </tr>\n",
       "  </tbody>\n",
       "</table>\n",
       "</div>"
      ],
      "text/plain": [
       "   Accuracy  Precision    Recall       F1\n",
       "0   0.92074   0.918882  0.925824  0.92234"
      ]
     },
     "execution_count": 63,
     "metadata": {},
     "output_type": "execute_result"
    }
   ],
   "source": [
    "eval_cm(cm_0_20e)"
   ]
  },
  {
   "cell_type": "code",
   "execution_count": 60,
   "metadata": {},
   "outputs": [],
   "source": [
    "preds_0_20e = get_predictions(best_model_0_20e, test_dataloader)\n",
    "results_cnn_0_20e = tag_performances(preds_0_20e, test_df)"
   ]
  },
  {
   "cell_type": "code",
   "execution_count": 61,
   "metadata": {},
   "outputs": [
    {
     "data": {
      "text/html": [
       "<div>\n",
       "<style scoped>\n",
       "    .dataframe tbody tr th:only-of-type {\n",
       "        vertical-align: middle;\n",
       "    }\n",
       "\n",
       "    .dataframe tbody tr th {\n",
       "        vertical-align: top;\n",
       "    }\n",
       "\n",
       "    .dataframe thead th {\n",
       "        text-align: right;\n",
       "    }\n",
       "</style>\n",
       "<table border=\"1\" class=\"dataframe\">\n",
       "  <thead>\n",
       "    <tr style=\"text-align: right;\">\n",
       "      <th></th>\n",
       "      <th>id</th>\n",
       "      <th>comment_text</th>\n",
       "      <th>label</th>\n",
       "      <th>pred</th>\n",
       "      <th>tag</th>\n",
       "    </tr>\n",
       "  </thead>\n",
       "  <tbody>\n",
       "    <tr>\n",
       "      <th>12453</th>\n",
       "      <td>25f3d4d49e64ff85</td>\n",
       "      <td>Fantastic idea! Since Family Guy uses music so...</td>\n",
       "      <td>0</td>\n",
       "      <td>0</td>\n",
       "      <td>TN</td>\n",
       "    </tr>\n",
       "    <tr>\n",
       "      <th>5000</th>\n",
       "      <td>a1c2aa7bde634a77</td>\n",
       "      <td>talk) 17:51, 19 February 2010 (UTC</td>\n",
       "      <td>0</td>\n",
       "      <td>0</td>\n",
       "      <td>TN</td>\n",
       "    </tr>\n",
       "    <tr>\n",
       "      <th>1005</th>\n",
       "      <td>5a90be816134dff3</td>\n",
       "      <td>Sockpuppet allegation \\ni do have a good expla...</td>\n",
       "      <td>0</td>\n",
       "      <td>0</td>\n",
       "      <td>TN</td>\n",
       "    </tr>\n",
       "    <tr>\n",
       "      <th>13014</th>\n",
       "      <td>6c4551436fd00f16</td>\n",
       "      <td>Um Dude I hate to FUCKING break this to you, b...</td>\n",
       "      <td>1</td>\n",
       "      <td>1</td>\n",
       "      <td>TP</td>\n",
       "    </tr>\n",
       "    <tr>\n",
       "      <th>11527</th>\n",
       "      <td>c3d0e629126c5076</td>\n",
       "      <td>yo, , if u r going 2 impersonate me, at least ...</td>\n",
       "      <td>1</td>\n",
       "      <td>1</td>\n",
       "      <td>TP</td>\n",
       "    </tr>\n",
       "    <tr>\n",
       "      <th>...</th>\n",
       "      <td>...</td>\n",
       "      <td>...</td>\n",
       "      <td>...</td>\n",
       "      <td>...</td>\n",
       "      <td>...</td>\n",
       "    </tr>\n",
       "    <tr>\n",
       "      <th>28724</th>\n",
       "      <td>f215256a453b7b28</td>\n",
       "      <td>Re: Latest Blocking - see above \\n\\nDear Mr. A...</td>\n",
       "      <td>1</td>\n",
       "      <td>1</td>\n",
       "      <td>TP</td>\n",
       "    </tr>\n",
       "    <tr>\n",
       "      <th>25125</th>\n",
       "      <td>7b7f0c1b18c3a4da</td>\n",
       "      <td>\"\\n\\nFirst of all, Alankc, you have been on my...</td>\n",
       "      <td>0</td>\n",
       "      <td>0</td>\n",
       "      <td>TN</td>\n",
       "    </tr>\n",
       "    <tr>\n",
       "      <th>6430</th>\n",
       "      <td>99dd9bc3cc3fc589</td>\n",
       "      <td>ME TO U PEDOFILER JUST CAUS UV NEVER SEEN A BL...</td>\n",
       "      <td>1</td>\n",
       "      <td>1</td>\n",
       "      <td>TP</td>\n",
       "    </tr>\n",
       "    <tr>\n",
       "      <th>10880</th>\n",
       "      <td>0306a238bc6adcb5</td>\n",
       "      <td>Im getting warnings from two individuals for m...</td>\n",
       "      <td>0</td>\n",
       "      <td>0</td>\n",
       "      <td>TN</td>\n",
       "    </tr>\n",
       "    <tr>\n",
       "      <th>6741</th>\n",
       "      <td>f7e055aa620fa154</td>\n",
       "      <td>I don't see how its POV.  They're accusations ...</td>\n",
       "      <td>0</td>\n",
       "      <td>0</td>\n",
       "      <td>TN</td>\n",
       "    </tr>\n",
       "  </tbody>\n",
       "</table>\n",
       "<p>2864 rows × 5 columns</p>\n",
       "</div>"
      ],
      "text/plain": [
       "                     id                                       comment_text   \n",
       "12453  25f3d4d49e64ff85  Fantastic idea! Since Family Guy uses music so...  \\\n",
       "5000   a1c2aa7bde634a77                 talk) 17:51, 19 February 2010 (UTC   \n",
       "1005   5a90be816134dff3  Sockpuppet allegation \\ni do have a good expla...   \n",
       "13014  6c4551436fd00f16  Um Dude I hate to FUCKING break this to you, b...   \n",
       "11527  c3d0e629126c5076  yo, , if u r going 2 impersonate me, at least ...   \n",
       "...                 ...                                                ...   \n",
       "28724  f215256a453b7b28  Re: Latest Blocking - see above \\n\\nDear Mr. A...   \n",
       "25125  7b7f0c1b18c3a4da  \"\\n\\nFirst of all, Alankc, you have been on my...   \n",
       "6430   99dd9bc3cc3fc589  ME TO U PEDOFILER JUST CAUS UV NEVER SEEN A BL...   \n",
       "10880  0306a238bc6adcb5  Im getting warnings from two individuals for m...   \n",
       "6741   f7e055aa620fa154  I don't see how its POV.  They're accusations ...   \n",
       "\n",
       "       label  pred tag  \n",
       "12453      0     0  TN  \n",
       "5000       0     0  TN  \n",
       "1005       0     0  TN  \n",
       "13014      1     1  TP  \n",
       "11527      1     1  TP  \n",
       "...      ...   ...  ..  \n",
       "28724      1     1  TP  \n",
       "25125      0     0  TN  \n",
       "6430       1     1  TP  \n",
       "10880      0     0  TN  \n",
       "6741       0     0  TN  \n",
       "\n",
       "[2864 rows x 5 columns]"
      ]
     },
     "execution_count": 61,
     "metadata": {},
     "output_type": "execute_result"
    }
   ],
   "source": [
    "results_cnn_0_20e"
   ]
  },
  {
   "cell_type": "code",
   "execution_count": 64,
   "metadata": {},
   "outputs": [
    {
     "data": {
      "text/html": [
       "<div>\n",
       "<style scoped>\n",
       "    .dataframe tbody tr th:only-of-type {\n",
       "        vertical-align: middle;\n",
       "    }\n",
       "\n",
       "    .dataframe tbody tr th {\n",
       "        vertical-align: top;\n",
       "    }\n",
       "\n",
       "    .dataframe thead th {\n",
       "        text-align: right;\n",
       "    }\n",
       "</style>\n",
       "<table border=\"1\" class=\"dataframe\">\n",
       "  <thead>\n",
       "    <tr style=\"text-align: right;\">\n",
       "      <th></th>\n",
       "      <th>id</th>\n",
       "      <th>comment_text</th>\n",
       "      <th>label</th>\n",
       "      <th>pred</th>\n",
       "      <th>tag</th>\n",
       "    </tr>\n",
       "  </thead>\n",
       "  <tbody>\n",
       "    <tr>\n",
       "      <th>1154</th>\n",
       "      <td>9e25d9bb1e79ede6</td>\n",
       "      <td>Unfairly blocked as Mattythewhite got the hump...</td>\n",
       "      <td>1</td>\n",
       "      <td>0</td>\n",
       "      <td>FN</td>\n",
       "    </tr>\n",
       "    <tr>\n",
       "      <th>28361</th>\n",
       "      <td>a3b68ab21bbd0439</td>\n",
       "      <td>WHY DID THEY DELETED IT BECAUSE I MADE IT THAT...</td>\n",
       "      <td>1</td>\n",
       "      <td>0</td>\n",
       "      <td>FN</td>\n",
       "    </tr>\n",
       "    <tr>\n",
       "      <th>24142</th>\n",
       "      <td>13d34f8041fbec39</td>\n",
       "      <td>Cease and defuck\\nYour work is a fuckability. ...</td>\n",
       "      <td>1</td>\n",
       "      <td>0</td>\n",
       "      <td>FN</td>\n",
       "    </tr>\n",
       "    <tr>\n",
       "      <th>19656</th>\n",
       "      <td>24d25ca2fe7e07ea</td>\n",
       "      <td>User, YOU ARE MISTAKEN.  THE CAPITAL HILL BLUE...</td>\n",
       "      <td>1</td>\n",
       "      <td>0</td>\n",
       "      <td>FN</td>\n",
       "    </tr>\n",
       "    <tr>\n",
       "      <th>17439</th>\n",
       "      <td>07534b98fe714294</td>\n",
       "      <td>\"\\n\\nCrappy organization\\nPeople should be lis...</td>\n",
       "      <td>1</td>\n",
       "      <td>0</td>\n",
       "      <td>FN</td>\n",
       "    </tr>\n",
       "  </tbody>\n",
       "</table>\n",
       "</div>"
      ],
      "text/plain": [
       "                     id                                       comment_text   \n",
       "1154   9e25d9bb1e79ede6  Unfairly blocked as Mattythewhite got the hump...  \\\n",
       "28361  a3b68ab21bbd0439  WHY DID THEY DELETED IT BECAUSE I MADE IT THAT...   \n",
       "24142  13d34f8041fbec39  Cease and defuck\\nYour work is a fuckability. ...   \n",
       "19656  24d25ca2fe7e07ea  User, YOU ARE MISTAKEN.  THE CAPITAL HILL BLUE...   \n",
       "17439  07534b98fe714294  \"\\n\\nCrappy organization\\nPeople should be lis...   \n",
       "\n",
       "       label  pred tag  \n",
       "1154       1     0  FN  \n",
       "28361      1     0  FN  \n",
       "24142      1     0  FN  \n",
       "19656      1     0  FN  \n",
       "17439      1     0  FN  "
      ]
     },
     "execution_count": 64,
     "metadata": {},
     "output_type": "execute_result"
    }
   ],
   "source": [
    "# check some of the false negative predictions\n",
    "false_neg_cnn_0_20e = results_cnn_0_20e[results_cnn_0_20e[\"tag\"] == \"FN\"]\n",
    "false_neg_cnn_0_20e.to_csv(\"FN_model0_20e.csv\")\n",
    "false_neg_cnn_0_20e.head(5)"
   ]
  },
  {
   "cell_type": "code",
   "execution_count": 65,
   "metadata": {},
   "outputs": [
    {
     "data": {
      "text/html": [
       "<div>\n",
       "<style scoped>\n",
       "    .dataframe tbody tr th:only-of-type {\n",
       "        vertical-align: middle;\n",
       "    }\n",
       "\n",
       "    .dataframe tbody tr th {\n",
       "        vertical-align: top;\n",
       "    }\n",
       "\n",
       "    .dataframe thead th {\n",
       "        text-align: right;\n",
       "    }\n",
       "</style>\n",
       "<table border=\"1\" class=\"dataframe\">\n",
       "  <thead>\n",
       "    <tr style=\"text-align: right;\">\n",
       "      <th></th>\n",
       "      <th>id</th>\n",
       "      <th>comment_text</th>\n",
       "      <th>label</th>\n",
       "      <th>pred</th>\n",
       "      <th>tag</th>\n",
       "    </tr>\n",
       "  </thead>\n",
       "  <tbody>\n",
       "    <tr>\n",
       "      <th>19916</th>\n",
       "      <td>7ab55f5165ed9291</td>\n",
       "      <td>The failure of Fagreterion \\n\\nFagreterion can...</td>\n",
       "      <td>0</td>\n",
       "      <td>1</td>\n",
       "      <td>FP</td>\n",
       "    </tr>\n",
       "    <tr>\n",
       "      <th>6032</th>\n",
       "      <td>0be7965b23078261</td>\n",
       "      <td>\"Just face the truth: you can't escape it!==\\n...</td>\n",
       "      <td>0</td>\n",
       "      <td>1</td>\n",
       "      <td>FP</td>\n",
       "    </tr>\n",
       "    <tr>\n",
       "      <th>7878</th>\n",
       "      <td>7f0f1a7286ecbc51</td>\n",
       "      <td>hayyyyyyyyy \\n\\nyeah this karoolzzz hay k hayy...</td>\n",
       "      <td>0</td>\n",
       "      <td>1</td>\n",
       "      <td>FP</td>\n",
       "    </tr>\n",
       "    <tr>\n",
       "      <th>5619</th>\n",
       "      <td>d1495b979d59dd6b</td>\n",
       "      <td>BUT User:Amortias i didnt attack you. Is it A-...</td>\n",
       "      <td>0</td>\n",
       "      <td>1</td>\n",
       "      <td>FP</td>\n",
       "    </tr>\n",
       "    <tr>\n",
       "      <th>26972</th>\n",
       "      <td>96b055eca6cc56b0</td>\n",
       "      <td>a debate to see why he was so virulently anti-...</td>\n",
       "      <td>0</td>\n",
       "      <td>1</td>\n",
       "      <td>FP</td>\n",
       "    </tr>\n",
       "  </tbody>\n",
       "</table>\n",
       "</div>"
      ],
      "text/plain": [
       "                     id                                       comment_text   \n",
       "19916  7ab55f5165ed9291  The failure of Fagreterion \\n\\nFagreterion can...  \\\n",
       "6032   0be7965b23078261  \"Just face the truth: you can't escape it!==\\n...   \n",
       "7878   7f0f1a7286ecbc51  hayyyyyyyyy \\n\\nyeah this karoolzzz hay k hayy...   \n",
       "5619   d1495b979d59dd6b  BUT User:Amortias i didnt attack you. Is it A-...   \n",
       "26972  96b055eca6cc56b0  a debate to see why he was so virulently anti-...   \n",
       "\n",
       "       label  pred tag  \n",
       "19916      0     1  FP  \n",
       "6032       0     1  FP  \n",
       "7878       0     1  FP  \n",
       "5619       0     1  FP  \n",
       "26972      0     1  FP  "
      ]
     },
     "execution_count": 65,
     "metadata": {},
     "output_type": "execute_result"
    }
   ],
   "source": [
    "# check some of the false positive predictions\n",
    "false_pos_cnn_0_20e = results_cnn_0_20e[results_cnn_0_20e[\"tag\"] == \"FP\"]\n",
    "false_pos_cnn_0_20e.to_csv(\"FP_model0_20e.csv\")\n",
    "false_pos_cnn_0_20e.head(5)"
   ]
  },
  {
   "attachments": {},
   "cell_type": "markdown",
   "metadata": {},
   "source": [
    "#### Model 1"
   ]
  },
  {
   "cell_type": "code",
   "execution_count": 70,
   "metadata": {},
   "outputs": [
    {
     "name": "stdout",
     "output_type": "stream",
     "text": [
      "Start training...\n",
      "\n",
      " Epoch  |  Train Loss  |  Val Loss  |  Val Acc  |  Elapsed \n",
      "------------------------------------------------------------\n",
      "   1    |   0.506373   |  0.377858  |   85.73   |  462.22  \n",
      "   2    |   0.345917   |  0.305038  |   87.81   |  373.24  \n",
      "   3    |   0.295109   |  0.278059  |   88.91   |  504.20  \n",
      "   4    |   0.275325   |  0.263998  |   89.26   |  438.93  \n",
      "   5    |   0.257907   |  0.254276  |   89.63   |  470.95  \n",
      "   6    |   0.244734   |  0.246747  |   89.89   |  421.86  \n",
      "   7    |   0.236345   |  0.241287  |   90.12   |  393.28  \n",
      "   8    |   0.227738   |  0.236645  |   90.34   |  401.90  \n",
      "   9    |   0.219088   |  0.232958  |   90.46   |  389.10  \n",
      "  10    |   0.215200   |  0.230048  |   90.70   |  393.34  \n",
      "\n",
      "\n",
      "Training complete! Best accuracy: 90.70%.\n"
     ]
    }
   ],
   "source": [
    "cnn_model, optimizer = initilize_model(embed_dim=EMBED_DIM, filter_sizes=[2, 3, 4, 5], num_filters=[128, 128, 128, 128], \n",
    "                    num_classes=2, dropout=0.5, learning_rate=0.01)\n",
    "\n",
    "best_model_1_10e, val_accuracies_1_10e, val_losses_1_10e, train_losses_1_10e = \\\n",
    "    train(cnn_model, optimizer, train_dataloader, val_dataloader, epochs=10, check_train_loss=True)"
   ]
  },
  {
   "cell_type": "code",
   "execution_count": 71,
   "metadata": {},
   "outputs": [],
   "source": [
    "# with open('best_model_1_10e.pkl', 'wb') as file:\n",
    "#     pickle.dump(best_model_1_10e, file)"
   ]
  },
  {
   "cell_type": "code",
   "execution_count": 73,
   "metadata": {},
   "outputs": [
    {
     "data": {
      "text/plain": [
       "Text(0.5, 1.0, 'Validation accuracy of `best_model_1` (10 epochs)')"
      ]
     },
     "execution_count": 73,
     "metadata": {},
     "output_type": "execute_result"
    },
    {
     "data": {
      "image/png": "[encoded data removed]",
      "text/plain": [
       "<Figure size 640x480 with 1 Axes>"
      ]
     },
     "metadata": {},
     "output_type": "display_data"
    }
   ],
   "source": [
    "epochs = [x + 1 for x in range(10)]\n",
    "\n",
    "plt.plot(epochs, val_accuracies_1_10e)\n",
    "plt.xticks(range(0, 11))\n",
    "plt.xlabel('epoch')\n",
    "plt.ylabel('validation accuracy')\n",
    "plt.title('Validation accuracy of `best_model_1` (10 epochs)')"
   ]
  },
  {
   "cell_type": "code",
   "execution_count": 75,
   "metadata": {},
   "outputs": [
    {
     "data": {
      "text/plain": [
       "<matplotlib.legend.Legend at 0x7feef0ad93f0>"
      ]
     },
     "execution_count": 75,
     "metadata": {},
     "output_type": "execute_result"
    },
    {
     "data": {
      "image/png": "[encoded data removed]",
      "text/plain": [
       "<Figure size 640x480 with 1 Axes>"
      ]
     },
     "metadata": {},
     "output_type": "display_data"
    }
   ],
   "source": [
    "epochs = [x + 1 for x in range(10)]\n",
    "\n",
    "plt.plot(epochs, train_losses_1_10e, label=\"train\")\n",
    "plt.plot(epochs, val_losses_1_10e, label=\"validation\")\n",
    "plt.xticks(range(0, 11))\n",
    "plt.xlabel('epoch')\n",
    "plt.ylabel('loss')\n",
    "plt.title('Training and Validation loss of `best_model_1` (20 epochs)')\n",
    "\n",
    "plt.legend()"
   ]
  },
  {
   "cell_type": "code",
   "execution_count": 76,
   "metadata": {},
   "outputs": [
    {
     "name": "stdout",
     "output_type": "stream",
     "text": [
      "After 10 epochs of training, the model_1 has testing loss of 0.209\n"
     ]
    }
   ],
   "source": [
    "test_loss_1_10e, cm_1_10e = test_model(best_model_1_10e, test_dataloader)\n",
    "\n",
    "print(\"After 10 epochs of training, the model_1 has testing loss of {}\"\\\n",
    "      .format(round(test_loss_1_10e, 3)))"
   ]
  },
  {
   "cell_type": "code",
   "execution_count": 77,
   "metadata": {},
   "outputs": [
    {
     "data": {
      "text/html": [
       "<div>\n",
       "<style scoped>\n",
       "    .dataframe tbody tr th:only-of-type {\n",
       "        vertical-align: middle;\n",
       "    }\n",
       "\n",
       "    .dataframe tbody tr th {\n",
       "        vertical-align: top;\n",
       "    }\n",
       "\n",
       "    .dataframe thead th {\n",
       "        text-align: right;\n",
       "    }\n",
       "</style>\n",
       "<table border=\"1\" class=\"dataframe\">\n",
       "  <thead>\n",
       "    <tr style=\"text-align: right;\">\n",
       "      <th></th>\n",
       "      <th>Accuracy</th>\n",
       "      <th>Precision</th>\n",
       "      <th>Recall</th>\n",
       "      <th>F1</th>\n",
       "    </tr>\n",
       "  </thead>\n",
       "  <tbody>\n",
       "    <tr>\n",
       "      <th>0</th>\n",
       "      <td>0.915852</td>\n",
       "      <td>0.917526</td>\n",
       "      <td>0.916896</td>\n",
       "      <td>0.917211</td>\n",
       "    </tr>\n",
       "  </tbody>\n",
       "</table>\n",
       "</div>"
      ],
      "text/plain": [
       "   Accuracy  Precision    Recall        F1\n",
       "0  0.915852   0.917526  0.916896  0.917211"
      ]
     },
     "execution_count": 77,
     "metadata": {},
     "output_type": "execute_result"
    }
   ],
   "source": [
    "eval_cm(cm_1_10e)"
   ]
  },
  {
   "cell_type": "code",
   "execution_count": 79,
   "metadata": {},
   "outputs": [],
   "source": [
    "preds_1_10e = get_predictions(best_model_1_10e, test_dataloader)\n",
    "results_cnn_1_10e = tag_performances(preds_1_10e, test_df)"
   ]
  },
  {
   "cell_type": "code",
   "execution_count": 80,
   "metadata": {},
   "outputs": [
    {
     "data": {
      "text/html": [
       "<div>\n",
       "<style scoped>\n",
       "    .dataframe tbody tr th:only-of-type {\n",
       "        vertical-align: middle;\n",
       "    }\n",
       "\n",
       "    .dataframe tbody tr th {\n",
       "        vertical-align: top;\n",
       "    }\n",
       "\n",
       "    .dataframe thead th {\n",
       "        text-align: right;\n",
       "    }\n",
       "</style>\n",
       "<table border=\"1\" class=\"dataframe\">\n",
       "  <thead>\n",
       "    <tr style=\"text-align: right;\">\n",
       "      <th></th>\n",
       "      <th>id</th>\n",
       "      <th>comment_text</th>\n",
       "      <th>label</th>\n",
       "      <th>pred</th>\n",
       "      <th>tag</th>\n",
       "    </tr>\n",
       "  </thead>\n",
       "  <tbody>\n",
       "    <tr>\n",
       "      <th>1841</th>\n",
       "      <td>12a1805ef86d1267</td>\n",
       "      <td>He is not gay in Rugrats, but on the internet,...</td>\n",
       "      <td>1</td>\n",
       "      <td>0</td>\n",
       "      <td>FN</td>\n",
       "    </tr>\n",
       "    <tr>\n",
       "      <th>1154</th>\n",
       "      <td>9e25d9bb1e79ede6</td>\n",
       "      <td>Unfairly blocked as Mattythewhite got the hump...</td>\n",
       "      <td>1</td>\n",
       "      <td>0</td>\n",
       "      <td>FN</td>\n",
       "    </tr>\n",
       "    <tr>\n",
       "      <th>28361</th>\n",
       "      <td>a3b68ab21bbd0439</td>\n",
       "      <td>WHY DID THEY DELETED IT BECAUSE I MADE IT THAT...</td>\n",
       "      <td>1</td>\n",
       "      <td>0</td>\n",
       "      <td>FN</td>\n",
       "    </tr>\n",
       "    <tr>\n",
       "      <th>24142</th>\n",
       "      <td>13d34f8041fbec39</td>\n",
       "      <td>Cease and defuck\\nYour work is a fuckability. ...</td>\n",
       "      <td>1</td>\n",
       "      <td>0</td>\n",
       "      <td>FN</td>\n",
       "    </tr>\n",
       "    <tr>\n",
       "      <th>19656</th>\n",
       "      <td>24d25ca2fe7e07ea</td>\n",
       "      <td>User, YOU ARE MISTAKEN.  THE CAPITAL HILL BLUE...</td>\n",
       "      <td>1</td>\n",
       "      <td>0</td>\n",
       "      <td>FN</td>\n",
       "    </tr>\n",
       "  </tbody>\n",
       "</table>\n",
       "</div>"
      ],
      "text/plain": [
       "                     id                                       comment_text   \n",
       "1841   12a1805ef86d1267  He is not gay in Rugrats, but on the internet,...  \\\n",
       "1154   9e25d9bb1e79ede6  Unfairly blocked as Mattythewhite got the hump...   \n",
       "28361  a3b68ab21bbd0439  WHY DID THEY DELETED IT BECAUSE I MADE IT THAT...   \n",
       "24142  13d34f8041fbec39  Cease and defuck\\nYour work is a fuckability. ...   \n",
       "19656  24d25ca2fe7e07ea  User, YOU ARE MISTAKEN.  THE CAPITAL HILL BLUE...   \n",
       "\n",
       "       label  pred tag  \n",
       "1841       1     0  FN  \n",
       "1154       1     0  FN  \n",
       "28361      1     0  FN  \n",
       "24142      1     0  FN  \n",
       "19656      1     0  FN  "
      ]
     },
     "execution_count": 80,
     "metadata": {},
     "output_type": "execute_result"
    }
   ],
   "source": [
    "# check some of the false negative predictions\n",
    "false_neg_cnn_1_10e = results_cnn_1_10e[results_cnn_1_10e[\"tag\"] == \"FN\"]\n",
    "false_neg_cnn_1_10e.to_csv(\"FN_model1_10e.csv\")\n",
    "false_neg_cnn_1_10e.head(5)"
   ]
  },
  {
   "cell_type": "code",
   "execution_count": 81,
   "metadata": {},
   "outputs": [
    {
     "data": {
      "text/html": [
       "<div>\n",
       "<style scoped>\n",
       "    .dataframe tbody tr th:only-of-type {\n",
       "        vertical-align: middle;\n",
       "    }\n",
       "\n",
       "    .dataframe tbody tr th {\n",
       "        vertical-align: top;\n",
       "    }\n",
       "\n",
       "    .dataframe thead th {\n",
       "        text-align: right;\n",
       "    }\n",
       "</style>\n",
       "<table border=\"1\" class=\"dataframe\">\n",
       "  <thead>\n",
       "    <tr style=\"text-align: right;\">\n",
       "      <th></th>\n",
       "      <th>id</th>\n",
       "      <th>comment_text</th>\n",
       "      <th>label</th>\n",
       "      <th>pred</th>\n",
       "      <th>tag</th>\n",
       "    </tr>\n",
       "  </thead>\n",
       "  <tbody>\n",
       "    <tr>\n",
       "      <th>19916</th>\n",
       "      <td>7ab55f5165ed9291</td>\n",
       "      <td>The failure of Fagreterion \\n\\nFagreterion can...</td>\n",
       "      <td>0</td>\n",
       "      <td>1</td>\n",
       "      <td>FP</td>\n",
       "    </tr>\n",
       "    <tr>\n",
       "      <th>6032</th>\n",
       "      <td>0be7965b23078261</td>\n",
       "      <td>\"Just face the truth: you can't escape it!==\\n...</td>\n",
       "      <td>0</td>\n",
       "      <td>1</td>\n",
       "      <td>FP</td>\n",
       "    </tr>\n",
       "    <tr>\n",
       "      <th>7878</th>\n",
       "      <td>7f0f1a7286ecbc51</td>\n",
       "      <td>hayyyyyyyyy \\n\\nyeah this karoolzzz hay k hayy...</td>\n",
       "      <td>0</td>\n",
       "      <td>1</td>\n",
       "      <td>FP</td>\n",
       "    </tr>\n",
       "    <tr>\n",
       "      <th>26972</th>\n",
       "      <td>96b055eca6cc56b0</td>\n",
       "      <td>a debate to see why he was so virulently anti-...</td>\n",
       "      <td>0</td>\n",
       "      <td>1</td>\n",
       "      <td>FP</td>\n",
       "    </tr>\n",
       "    <tr>\n",
       "      <th>5618</th>\n",
       "      <td>f97e67368b5eee9d</td>\n",
       "      <td>Well, I seemed to be able to change it just fi...</td>\n",
       "      <td>0</td>\n",
       "      <td>1</td>\n",
       "      <td>FP</td>\n",
       "    </tr>\n",
       "  </tbody>\n",
       "</table>\n",
       "</div>"
      ],
      "text/plain": [
       "                     id                                       comment_text   \n",
       "19916  7ab55f5165ed9291  The failure of Fagreterion \\n\\nFagreterion can...  \\\n",
       "6032   0be7965b23078261  \"Just face the truth: you can't escape it!==\\n...   \n",
       "7878   7f0f1a7286ecbc51  hayyyyyyyyy \\n\\nyeah this karoolzzz hay k hayy...   \n",
       "26972  96b055eca6cc56b0  a debate to see why he was so virulently anti-...   \n",
       "5618   f97e67368b5eee9d  Well, I seemed to be able to change it just fi...   \n",
       "\n",
       "       label  pred tag  \n",
       "19916      0     1  FP  \n",
       "6032       0     1  FP  \n",
       "7878       0     1  FP  \n",
       "26972      0     1  FP  \n",
       "5618       0     1  FP  "
      ]
     },
     "execution_count": 81,
     "metadata": {},
     "output_type": "execute_result"
    }
   ],
   "source": [
    "# check some of the false negative predictions\n",
    "false_pos_cnn_1_10e = results_cnn_1_10e[results_cnn_1_10e[\"tag\"] == \"FP\"]\n",
    "false_pos_cnn_1_10e.to_csv(\"FP_model1_10e.csv\")\n",
    "false_pos_cnn_1_10e.head(5)"
   ]
  },
  {
   "attachments": {},
   "cell_type": "markdown",
   "metadata": {},
   "source": [
    "Testing the same model with lower dropout rate"
   ]
  },
  {
   "cell_type": "code",
   "execution_count": 82,
   "metadata": {},
   "outputs": [
    {
     "name": "stdout",
     "output_type": "stream",
     "text": [
      "Start training...\n",
      "\n",
      " Epoch  |  Train Loss  |  Val Loss  |  Val Acc  |  Elapsed \n",
      "------------------------------------------------------------\n",
      "   1    |   0.484271   |  0.359648  |   86.42   |  515.38  \n",
      "   2    |   0.319347   |  0.291350  |   88.26   |  392.47  \n",
      "   3    |   0.274069   |  0.266804  |   89.48   |  495.30  \n",
      "   4    |   0.252581   |  0.253344  |   89.79   |  507.19  \n",
      "   5    |   0.236946   |  0.244121  |   90.22   |  477.03  \n",
      "   6    |   0.223432   |  0.237353  |   90.63   |  442.00  \n",
      "   7    |   0.212933   |  0.232069  |   90.62   |  358.87  \n",
      "   8    |   0.205137   |  0.228138  |   90.74   |  345.05  \n",
      "   9    |   0.195082   |  0.224814  |   90.86   |  345.05  \n",
      "  10    |   0.188928   |  0.222327  |   91.12   |  343.36  \n",
      "\n",
      "\n",
      "Training complete! Best accuracy: 91.12%.\n"
     ]
    }
   ],
   "source": [
    "# train model with 10 epocks, dropout = 0.2\n",
    "cnn_model, optimizer = initilize_model(embed_dim=EMBED_DIM, filter_sizes=[2, 3, 4, 5], num_filters=[128, 128, 128, 128], \n",
    "                    num_classes=2, dropout=0.2, learning_rate=0.01)\n",
    "best_model_1_10e_ldp, val_accuracies_1_10e_ldp, val_losses_1_10e_ldp, train_losses_1_10e_ldp = \\\n",
    "    train(cnn_model, optimizer, train_dataloader, val_dataloader, epochs=10, check_train_loss=True)"
   ]
  },
  {
   "cell_type": "code",
   "execution_count": 84,
   "metadata": {},
   "outputs": [],
   "source": [
    "# with open('best_model_1_10e_ldp.pkl', 'wb') as file:\n",
    "#     pickle.dump(best_model_1_10e_ldp, file)"
   ]
  },
  {
   "cell_type": "code",
   "execution_count": 85,
   "metadata": {},
   "outputs": [
    {
     "name": "stdout",
     "output_type": "stream",
     "text": [
      "After 10 epochs of training, the model_1 with low Dropout has testing loss of 0.199\n"
     ]
    }
   ],
   "source": [
    "test_loss_1_10e_ldp, cm_1_10e_ldp = test_model(best_model_0_20e, test_dataloader)\n",
    "\n",
    "print(\"After 10 epochs of training, the model_1 with low Dropout has testing loss of {}\"\\\n",
    "      .format(round(test_loss_0_20e, 3)))"
   ]
  },
  {
   "cell_type": "code",
   "execution_count": 86,
   "metadata": {},
   "outputs": [
    {
     "data": {
      "text/html": [
       "<div>\n",
       "<style scoped>\n",
       "    .dataframe tbody tr th:only-of-type {\n",
       "        vertical-align: middle;\n",
       "    }\n",
       "\n",
       "    .dataframe tbody tr th {\n",
       "        vertical-align: top;\n",
       "    }\n",
       "\n",
       "    .dataframe thead th {\n",
       "        text-align: right;\n",
       "    }\n",
       "</style>\n",
       "<table border=\"1\" class=\"dataframe\">\n",
       "  <thead>\n",
       "    <tr style=\"text-align: right;\">\n",
       "      <th></th>\n",
       "      <th>Accuracy</th>\n",
       "      <th>Precision</th>\n",
       "      <th>Recall</th>\n",
       "      <th>F1</th>\n",
       "    </tr>\n",
       "  </thead>\n",
       "  <tbody>\n",
       "    <tr>\n",
       "      <th>0</th>\n",
       "      <td>0.92074</td>\n",
       "      <td>0.918882</td>\n",
       "      <td>0.925824</td>\n",
       "      <td>0.92234</td>\n",
       "    </tr>\n",
       "  </tbody>\n",
       "</table>\n",
       "</div>"
      ],
      "text/plain": [
       "   Accuracy  Precision    Recall       F1\n",
       "0   0.92074   0.918882  0.925824  0.92234"
      ]
     },
     "execution_count": 86,
     "metadata": {},
     "output_type": "execute_result"
    }
   ],
   "source": [
    "eval_cm(cm_1_10e_ldp)"
   ]
  },
  {
   "cell_type": "code",
   "execution_count": 87,
   "metadata": {},
   "outputs": [],
   "source": [
    "preds_1_10e_ldp = get_predictions(best_model_1_10e_ldp, test_dataloader)\n",
    "results_cnn_1_10e_ldp = tag_performances(preds_1_10e_ldp, test_df)"
   ]
  },
  {
   "cell_type": "code",
   "execution_count": 88,
   "metadata": {},
   "outputs": [
    {
     "data": {
      "text/html": [
       "<div>\n",
       "<style scoped>\n",
       "    .dataframe tbody tr th:only-of-type {\n",
       "        vertical-align: middle;\n",
       "    }\n",
       "\n",
       "    .dataframe tbody tr th {\n",
       "        vertical-align: top;\n",
       "    }\n",
       "\n",
       "    .dataframe thead th {\n",
       "        text-align: right;\n",
       "    }\n",
       "</style>\n",
       "<table border=\"1\" class=\"dataframe\">\n",
       "  <thead>\n",
       "    <tr style=\"text-align: right;\">\n",
       "      <th></th>\n",
       "      <th>id</th>\n",
       "      <th>comment_text</th>\n",
       "      <th>label</th>\n",
       "      <th>pred</th>\n",
       "      <th>tag</th>\n",
       "    </tr>\n",
       "  </thead>\n",
       "  <tbody>\n",
       "    <tr>\n",
       "      <th>1841</th>\n",
       "      <td>12a1805ef86d1267</td>\n",
       "      <td>He is not gay in Rugrats, but on the internet,...</td>\n",
       "      <td>1</td>\n",
       "      <td>0</td>\n",
       "      <td>FN</td>\n",
       "    </tr>\n",
       "    <tr>\n",
       "      <th>1154</th>\n",
       "      <td>9e25d9bb1e79ede6</td>\n",
       "      <td>Unfairly blocked as Mattythewhite got the hump...</td>\n",
       "      <td>1</td>\n",
       "      <td>0</td>\n",
       "      <td>FN</td>\n",
       "    </tr>\n",
       "    <tr>\n",
       "      <th>28361</th>\n",
       "      <td>a3b68ab21bbd0439</td>\n",
       "      <td>WHY DID THEY DELETED IT BECAUSE I MADE IT THAT...</td>\n",
       "      <td>1</td>\n",
       "      <td>0</td>\n",
       "      <td>FN</td>\n",
       "    </tr>\n",
       "    <tr>\n",
       "      <th>24142</th>\n",
       "      <td>13d34f8041fbec39</td>\n",
       "      <td>Cease and defuck\\nYour work is a fuckability. ...</td>\n",
       "      <td>1</td>\n",
       "      <td>0</td>\n",
       "      <td>FN</td>\n",
       "    </tr>\n",
       "    <tr>\n",
       "      <th>19656</th>\n",
       "      <td>24d25ca2fe7e07ea</td>\n",
       "      <td>User, YOU ARE MISTAKEN.  THE CAPITAL HILL BLUE...</td>\n",
       "      <td>1</td>\n",
       "      <td>0</td>\n",
       "      <td>FN</td>\n",
       "    </tr>\n",
       "  </tbody>\n",
       "</table>\n",
       "</div>"
      ],
      "text/plain": [
       "                     id                                       comment_text   \n",
       "1841   12a1805ef86d1267  He is not gay in Rugrats, but on the internet,...  \\\n",
       "1154   9e25d9bb1e79ede6  Unfairly blocked as Mattythewhite got the hump...   \n",
       "28361  a3b68ab21bbd0439  WHY DID THEY DELETED IT BECAUSE I MADE IT THAT...   \n",
       "24142  13d34f8041fbec39  Cease and defuck\\nYour work is a fuckability. ...   \n",
       "19656  24d25ca2fe7e07ea  User, YOU ARE MISTAKEN.  THE CAPITAL HILL BLUE...   \n",
       "\n",
       "       label  pred tag  \n",
       "1841       1     0  FN  \n",
       "1154       1     0  FN  \n",
       "28361      1     0  FN  \n",
       "24142      1     0  FN  \n",
       "19656      1     0  FN  "
      ]
     },
     "execution_count": 88,
     "metadata": {},
     "output_type": "execute_result"
    }
   ],
   "source": [
    "# check some of the false negative predictions\n",
    "false_neg_cnn_1_10e_ldp = results_cnn_1_10e_ldp[results_cnn_1_10e_ldp[\"tag\"] == \"FN\"]\n",
    "false_neg_cnn_1_10e.head(5)"
   ]
  },
  {
   "attachments": {},
   "cell_type": "markdown",
   "metadata": {},
   "source": [
    "Testing the same model on 20 epochs"
   ]
  },
  {
   "cell_type": "code",
   "execution_count": null,
   "metadata": {},
   "outputs": [],
   "source": [
    "# train model with 20 epocks\n",
    "cnn_model, optimizer = initilize_model(embed_dim=EMBED_DIM, filter_sizes=[2, 3, 4, 5], num_filters=[128, 128, 128, 128], \n",
    "                    num_classes=2, dropout=0.5, learning_rate=0.01)\n",
    "best_model_1_20e, val_accuracies_1_20e, val_losses_1_20e, train_losses_1_20e = \\\n",
    "    train(cnn_model, optimizer, train_dataloader, val_dataloader, epochs=20, check_train_loss=True)"
   ]
  },
  {
   "attachments": {},
   "cell_type": "markdown",
   "metadata": {},
   "source": [
    "## Multiclass CNN\n"
   ]
  },
  {
   "attachments": {},
   "cell_type": "markdown",
   "metadata": {},
   "source": []
  },
  {
   "cell_type": "code",
   "execution_count": null,
   "metadata": {},
   "outputs": [],
   "source": []
  },
  {
   "cell_type": "code",
   "execution_count": 31,
   "metadata": {},
   "outputs": [],
   "source": [
    "\n",
    "# # pickle a model\n",
    "# with open('best_model_0.pkl', 'wb') as file:\n",
    "#     pickle.dump(best_model_0, file)\n",
    "\n",
    "# # load the pickled model\n",
    "# with open('best_model_0.pkl', 'rb') as file:\n",
    "#     best_model_0 = pickle.load(file)"
   ]
  }
 ],
 "metadata": {
  "kernelspec": {
   "display_name": "capp30255",
   "language": "python",
   "name": "python3"
  },
  "language_info": {
   "codemirror_mode": {
    "name": "ipython",
    "version": 3
   },
   "file_extension": ".py",
   "mimetype": "text/x-python",
   "name": "python",
   "nbconvert_exporter": "python",
   "pygments_lexer": "ipython3",
   "version": "3.10.10"
  },
  "orig_nbformat": 4
 },
 "nbformat": 4,
 "nbformat_minor": 2
}
