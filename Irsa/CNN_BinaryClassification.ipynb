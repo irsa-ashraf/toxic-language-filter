{
 "cells": [
  {
   "cell_type": "markdown",
   "id": "b98d2688",
   "metadata": {},
   "source": [
    "## CNN For Text Classification"
   ]
  },
  {
   "cell_type": "markdown",
   "id": "1e94a4cd",
   "metadata": {},
   "source": [
    "Train a CNN on a dataset of labelled toxic (1) and non-toxic (0) comments (train dataset) and use the model to classify a test dataset of comments as either toxic or non-toxic. \n",
    "\n",
    "This model uses the keras library and we compared our metrics with those returned by the CNN model created using PyTorch and a simple baseline bag of words model. For consistency and a fair comparison, we applied the same pre-processing functions to the data for all models. \n",
    "\n",
    "Reference:\n",
    "https://medium.com/saarthi-ai/sentence-classification-using-convolutional-neural-networks-ddad72c7048c"
   ]
  },
  {
   "cell_type": "code",
   "execution_count": 1,
   "id": "3154dfa1",
   "metadata": {},
   "outputs": [],
   "source": [
    "import pandas as pd\n",
    "import numpy as np \n",
    "import matplotlib.pyplot as plt\n",
    "from torchtext.vocab import GloVe\n",
    "from itertools import combinations\n",
    "import torch\n",
    "import os\n",
    "import time\n",
    "from sklearn.metrics import classification_report"
   ]
  },
  {
   "cell_type": "code",
   "execution_count": 2,
   "id": "41994280",
   "metadata": {},
   "outputs": [],
   "source": [
    "def plot_history(history):\n",
    "    acc = history.history['accuracy']\n",
    "    val_acc = history.history['val_accuracy']\n",
    "    loss = history.history['loss']\n",
    "    val_loss = history.history['val_loss']\n",
    "    x = range(1, len(acc) + 1)\n",
    "\n",
    "    plt.figure(figsize=(12, 5))\n",
    "    plt.subplot(1, 2, 1)\n",
    "    plt.plot(x, acc, 'b', label='Training acc')\n",
    "    plt.plot(x, val_acc, 'r', label='Validation acc')\n",
    "    plt.title('Training and validation accuracy')\n",
    "    plt.legend()\n",
    "    plt.subplot(1, 2, 2)\n",
    "    plt.plot(x, loss, 'b', label='Training loss')\n",
    "    plt.plot(x, val_loss, 'r', label='Validation loss')\n",
    "    plt.title('Training and validation loss')\n",
    "    plt.legend()"
   ]
  },
  {
   "cell_type": "markdown",
   "id": "b73551c5",
   "metadata": {},
   "source": [
    "Toxic and non-toxic first"
   ]
  },
  {
   "cell_type": "markdown",
   "id": "c4366a39",
   "metadata": {},
   "source": [
    "Dealing with imbalanced data. Keep all 15294 rows for toxic comments and 16000 rows from non-toxic comments"
   ]
  },
  {
   "cell_type": "code",
   "execution_count": 3,
   "id": "3d35848d",
   "metadata": {},
   "outputs": [
    {
     "data": {
      "text/html": [
       "<div>\n",
       "<style scoped>\n",
       "    .dataframe tbody tr th:only-of-type {\n",
       "        vertical-align: middle;\n",
       "    }\n",
       "\n",
       "    .dataframe tbody tr th {\n",
       "        vertical-align: top;\n",
       "    }\n",
       "\n",
       "    .dataframe thead th {\n",
       "        text-align: right;\n",
       "    }\n",
       "</style>\n",
       "<table border=\"1\" class=\"dataframe\">\n",
       "  <thead>\n",
       "    <tr style=\"text-align: right;\">\n",
       "      <th></th>\n",
       "      <th>id</th>\n",
       "      <th>comment_text</th>\n",
       "      <th>toxic</th>\n",
       "      <th>severe_toxic</th>\n",
       "      <th>obscene</th>\n",
       "      <th>threat</th>\n",
       "      <th>insult</th>\n",
       "      <th>identity_hate</th>\n",
       "      <th>length</th>\n",
       "      <th>word_count</th>\n",
       "    </tr>\n",
       "  </thead>\n",
       "  <tbody>\n",
       "    <tr>\n",
       "      <th>0</th>\n",
       "      <td>1b7fe21f6b20f176</td>\n",
       "      <td>The Wack Pack \\n\\nYou're fucking insane and dr...</td>\n",
       "      <td>1</td>\n",
       "      <td>0</td>\n",
       "      <td>1</td>\n",
       "      <td>0</td>\n",
       "      <td>1</td>\n",
       "      <td>0</td>\n",
       "      <td>220</td>\n",
       "      <td>37</td>\n",
       "    </tr>\n",
       "    <tr>\n",
       "      <th>1</th>\n",
       "      <td>2b77b61ee27ab6fb</td>\n",
       "      <td>Not according to Wikipedia policy. With respec...</td>\n",
       "      <td>0</td>\n",
       "      <td>0</td>\n",
       "      <td>0</td>\n",
       "      <td>0</td>\n",
       "      <td>0</td>\n",
       "      <td>0</td>\n",
       "      <td>77</td>\n",
       "      <td>11</td>\n",
       "    </tr>\n",
       "    <tr>\n",
       "      <th>2</th>\n",
       "      <td>626d12d910b34c40</td>\n",
       "      <td>You just revert my and a lot of peoples work, ...</td>\n",
       "      <td>1</td>\n",
       "      <td>0</td>\n",
       "      <td>1</td>\n",
       "      <td>0</td>\n",
       "      <td>1</td>\n",
       "      <td>0</td>\n",
       "      <td>222</td>\n",
       "      <td>39</td>\n",
       "    </tr>\n",
       "    <tr>\n",
       "      <th>3</th>\n",
       "      <td>2ed8095b9ee464b0</td>\n",
       "      <td>Frank O'Hara, Anti-Beat? \\nSeriously, dude, yo...</td>\n",
       "      <td>0</td>\n",
       "      <td>0</td>\n",
       "      <td>0</td>\n",
       "      <td>0</td>\n",
       "      <td>0</td>\n",
       "      <td>0</td>\n",
       "      <td>544</td>\n",
       "      <td>93</td>\n",
       "    </tr>\n",
       "    <tr>\n",
       "      <th>4</th>\n",
       "      <td>86f8607fd0572b9f</td>\n",
       "      <td>\"\\n\\nreverting\\nUser:Baristarim decides that t...</td>\n",
       "      <td>0</td>\n",
       "      <td>0</td>\n",
       "      <td>0</td>\n",
       "      <td>0</td>\n",
       "      <td>0</td>\n",
       "      <td>0</td>\n",
       "      <td>440</td>\n",
       "      <td>72</td>\n",
       "    </tr>\n",
       "  </tbody>\n",
       "</table>\n",
       "</div>"
      ],
      "text/plain": [
       "                 id                                       comment_text  toxic  \\\n",
       "0  1b7fe21f6b20f176  The Wack Pack \\n\\nYou're fucking insane and dr...      1   \n",
       "1  2b77b61ee27ab6fb  Not according to Wikipedia policy. With respec...      0   \n",
       "2  626d12d910b34c40  You just revert my and a lot of peoples work, ...      1   \n",
       "3  2ed8095b9ee464b0  Frank O'Hara, Anti-Beat? \\nSeriously, dude, yo...      0   \n",
       "4  86f8607fd0572b9f  \"\\n\\nreverting\\nUser:Baristarim decides that t...      0   \n",
       "\n",
       "   severe_toxic  obscene  threat  insult  identity_hate  length  word_count  \n",
       "0             0        1       0       1              0     220          37  \n",
       "1             0        0       0       0              0      77          11  \n",
       "2             0        1       0       1              0     222          39  \n",
       "3             0        0       0       0              0     544          93  \n",
       "4             0        0       0       0              0     440          72  "
      ]
     },
     "execution_count": 3,
     "metadata": {},
     "output_type": "execute_result"
    }
   ],
   "source": [
    "# Read in balanced dataset \n",
    "\n",
    "data_path = '/Users/irsaashraf/Desktop/UChicago/Spring_23/Advanced ML/Project/Irsa_project/balanced_data.csv'\n",
    "df = pd.read_csv(data_path)\n",
    "df.head()"
   ]
  },
  {
   "cell_type": "code",
   "execution_count": 4,
   "id": "f050f3de",
   "metadata": {},
   "outputs": [
    {
     "name": "stdout",
     "output_type": "stream",
     "text": [
      "No GPU available, using the CPU instead.\n"
     ]
    }
   ],
   "source": [
    "if torch.cuda.is_available():       \n",
    "    device = torch.device(\"cuda\")\n",
    "    print(f'There are {torch.cuda.device_count()} GPU(s) available.')\n",
    "    print('Device name:', torch.cuda.get_device_name(0))\n",
    "\n",
    "else:\n",
    "    print('No GPU available, using the CPU instead.')\n",
    "    device = torch.device(\"cpu\")"
   ]
  },
  {
   "cell_type": "markdown",
   "id": "50d88b19",
   "metadata": {},
   "source": [
    "### Tokenize using keras"
   ]
  },
  {
   "cell_type": "code",
   "execution_count": 5,
   "id": "2a2efc8e",
   "metadata": {},
   "outputs": [],
   "source": [
    "MAX_SENT_LENGTH = 200\n",
    "BATCH_SIZE = 16\n",
    "EMBEDDING_DIM = 300"
   ]
  },
  {
   "cell_type": "code",
   "execution_count": 6,
   "id": "eab924fb",
   "metadata": {},
   "outputs": [
    {
     "name": "stderr",
     "output_type": "stream",
     "text": [
      "2023-05-21 16:25:34.133078: I tensorflow/core/platform/cpu_feature_guard.cc:193] This TensorFlow binary is optimized with oneAPI Deep Neural Network Library (oneDNN) to use the following CPU instructions in performance-critical operations:  SSE4.1 SSE4.2\n",
      "To enable them in other operations, rebuild TensorFlow with the appropriate compiler flags.\n"
     ]
    }
   ],
   "source": [
    "from keras.preprocessing.text import Tokenizer\n",
    "from keras_preprocessing.sequence import pad_sequences\n",
    "from sklearn.model_selection import train_test_split"
   ]
  },
  {
   "cell_type": "code",
   "execution_count": 7,
   "id": "c3f704f4",
   "metadata": {},
   "outputs": [
    {
     "name": "stdout",
     "output_type": "stream",
     "text": [
      "2.11.1\n"
     ]
    }
   ],
   "source": [
    "import tensorflow as tf\n",
    "print(tf.__version__)"
   ]
  },
  {
   "cell_type": "code",
   "execution_count": 8,
   "id": "3c8dec2b",
   "metadata": {},
   "outputs": [
    {
     "data": {
      "text/plain": [
       "array([\"The Wack Pack \\n\\nYou're fucking insane and drunk with power. Instead of totally removing big Howard Stern guys like Crackhead Bob and Fred the Elephant Boy, why not just remove the parts that your majesty finds offensive?\",\n",
       "       'Not according to Wikipedia policy. With respect 99.231.50.255  Pavel Golikov.',\n",
       "       \"You just revert my and a lot of peoples work, to improve wiki. So you're a motherfucker. How dare you block an user or users, just because he or she reverted your destructive activite. Shame on you.\\nShitface Anna Frodesiak\",\n",
       "       ...,\n",
       "       'The Criticism section \\n\\nThe way the criticism section reads at the time of this writing is quite okay, in my opinion. It brings up the most important, on point criticisms of the mainstream in a very readable, well sourced manner, without superfluous ad hominem comments. It also include a reasonable level of Austrian responses to the criticisms. In my view, there is no need for any further changes.\\n\\nThe Mises-slur is, again, completely redundant and serves no purpose whatsoever. I therefore suggest that the section is left as it is.',\n",
       "       'Piss on me \\n\\nP!SS ON ME, YOU BIMBO!',\n",
       "       \"''' Gogo giving blowjobs on demand\"], dtype=object)"
      ]
     },
     "execution_count": 8,
     "metadata": {},
     "output_type": "execute_result"
    }
   ],
   "source": [
    "sentences = df['comment_text'].values\n",
    "y = df['toxic'].values\n",
    "sentences"
   ]
  },
  {
   "cell_type": "code",
   "execution_count": 9,
   "id": "ea7eff39",
   "metadata": {},
   "outputs": [
    {
     "name": "stdout",
     "output_type": "stream",
     "text": [
      "train: 21411 validation: 6148 test 3029\n"
     ]
    }
   ],
   "source": [
    "\n",
    "# Create a train, validate and test dataset \n",
    "# train 70%, validation 20%, test 10%\n",
    "\n",
    "X_train, X_rest, y_train, y_rest = train_test_split(sentences, y, test_size=0.3, random_state=1)\n",
    "X_val, X_test, y_val, y_test = train_test_split(X_rest, y_rest, test_size=0.33, random_state=1)\n",
    "\n",
    "print(\"train:\", len(X_train), \"validation:\", len(X_val), \"test\", len(X_test))\n",
    "\n"
   ]
  },
  {
   "cell_type": "code",
   "execution_count": 10,
   "id": "5fbc73c4",
   "metadata": {},
   "outputs": [],
   "source": [
    "# Preprocess the data\n",
    "\n",
    "NUM_WORDS = 10000\n",
    "\n",
    "# Using max_len = 200 for consistency \n",
    "MAX_LEN = 200\n",
    "\n",
    "tokenizer = Tokenizer(num_words=NUM_WORDS)\n",
    "tokenizer.fit_on_texts(X_train)\n",
    "X_train = tokenizer.texts_to_sequences(X_train)\n",
    "X_val = tokenizer.texts_to_sequences(X_val)\n",
    "X_test = tokenizer.texts_to_sequences(X_test)\n",
    "\n",
    "X_train = pad_sequences(X_train, padding='post', maxlen=MAX_LEN)\n",
    "X_val = pad_sequences(X_val, padding='post', maxlen=MAX_LEN)\n",
    "X_test = pad_sequences(X_test, padding='post', maxlen=MAX_LEN)"
   ]
  },
  {
   "cell_type": "markdown",
   "id": "d094146f",
   "metadata": {},
   "source": [
    "### Create Embedding Matrix \n",
    "\n",
    "\n",
    "Using pre-tarined embeddings from GloVe"
   ]
  },
  {
   "cell_type": "code",
   "execution_count": 18,
   "id": "e1a3b54d",
   "metadata": {},
   "outputs": [],
   "source": [
    "# VECTOR_CACHE_DIR = '/Users/irsaashraf/Desktop/UChicago/Spring_23/Advanced ML/Project/Irsa_project'\n",
    "\n",
    "glove = GloVe(name='6B')\n",
    "\n",
    "\n",
    "words = [\"hello\", \"hi\", \"king\", \"president\"]\n",
    "vecs = glove.get_vecs_by_tokens(words)"
   ]
  },
  {
   "cell_type": "code",
   "execution_count": 19,
   "id": "2454b478",
   "metadata": {},
   "outputs": [],
   "source": [
    "def create_embedding_matrix(filepath, word_index, embedding_dim):\n",
    "    \n",
    "    vocab_size = len(word_index) + 1 \n",
    "    # Adding 1 because of reserved 0 index\n",
    "    \n",
    "    embedding_matrix = np.zeros((vocab_size, embedding_dim))\n",
    "    \n",
    "    # Load the pre-trained GloVe embeddings\n",
    "    embeddings_index = {}\n",
    "    with open(filepath, encoding='utf-8') as f:\n",
    "        for line in f:\n",
    "            values = line.split()\n",
    "            word = values[0]\n",
    "            coefs = np.asarray(values[1:], dtype='float32')\n",
    "            if word in word_index:\n",
    "                idx = word_index[word]\n",
    "                embedding_matrix[idx] = coefs\n",
    "\n",
    "    return embedding_matrix"
   ]
  },
  {
   "cell_type": "code",
   "execution_count": 20,
   "id": "bf27c684",
   "metadata": {},
   "outputs": [],
   "source": [
    "EMBEDDING_DIM = 300\n",
    "glove_filename = 'glove.6B.300d.txt'\n",
    "glove_filepath = '/Users/irsaashraf/Desktop/UChicago/Spring_23/Advanced ML/Project/Irsa_project/glove.6B'\n",
    "glove_filepath_final = os.path.join(glove_filepath, glove_filename)\n",
    "\n",
    "word_index = tokenizer.word_index\n",
    "\n",
    "embedding_matrix = create_embedding_matrix(glove_filepath_final, word_index, EMBEDDING_DIM)\n",
    "\n"
   ]
  },
  {
   "cell_type": "code",
   "execution_count": 21,
   "id": "955c05ba",
   "metadata": {},
   "outputs": [],
   "source": [
    "from keras.models import Sequential\n",
    "from keras.layers import Embedding, Conv1D, GlobalMaxPooling1D, Dense, Dropout"
   ]
  },
  {
   "cell_type": "code",
   "execution_count": 22,
   "id": "27d90b9f",
   "metadata": {},
   "outputs": [],
   "source": [
    "# Use keras to define the model architecture of the CNN\n",
    "\n",
    "FILTERS= 128\n",
    "KERNEL_SIZE=5\n",
    "ACTIVATION='relu'\n",
    "ACTIVATION_LAST='sigmoid'\n",
    "VOCAB_SIZE = len(word_index)+1\n",
    "DROPOUT = 0.5\n",
    "UNITS_FIRST = 64\n",
    "UNITS_SECOND = 1\n",
    "\n",
    "\n",
    "model = Sequential()\n",
    "model.add(Embedding(input_dim=VOCAB_SIZE, output_dim=EMBEDDING_DIM, weights=[embedding_matrix],input_length=MAX_LEN, trainable=False))\n",
    "model.add(Conv1D(filters=FILTERS, kernel_size=KERNEL_SIZE, activation=ACTIVATION))\n",
    "model.add(GlobalMaxPooling1D())\n",
    "model.add(Dense(units=UNITS_FIRST, activation=ACTIVATION))\n",
    "model.add(Dropout(DROPOUT))\n",
    "model.add(Dense(units=UNITS_SECOND, activation=ACTIVATION_LAST))\n"
   ]
  },
  {
   "cell_type": "code",
   "execution_count": 23,
   "id": "980fc608",
   "metadata": {},
   "outputs": [],
   "source": [
    "# Compile the model\n",
    "\n",
    "model.compile(optimizer='adam',\n",
    "              loss='binary_crossentropy',\n",
    "              metrics=['accuracy'])\n",
    "\n"
   ]
  },
  {
   "cell_type": "code",
   "execution_count": 24,
   "id": "fa0fa844",
   "metadata": {},
   "outputs": [
    {
     "name": "stdout",
     "output_type": "stream",
     "text": [
      "Model: \"sequential\"\n",
      "_________________________________________________________________\n",
      " Layer (type)                Output Shape              Param #   \n",
      "=================================================================\n",
      " embedding (Embedding)       (None, 200, 300)          16449300  \n",
      "                                                                 \n",
      " conv1d (Conv1D)             (None, 196, 128)          192128    \n",
      "                                                                 \n",
      " global_max_pooling1d (Globa  (None, 128)              0         \n",
      " lMaxPooling1D)                                                  \n",
      "                                                                 \n",
      " dense (Dense)               (None, 64)                8256      \n",
      "                                                                 \n",
      " dropout (Dropout)           (None, 64)                0         \n",
      "                                                                 \n",
      " dense_1 (Dense)             (None, 1)                 65        \n",
      "                                                                 \n",
      "=================================================================\n",
      "Total params: 16,649,749\n",
      "Trainable params: 200,449\n",
      "Non-trainable params: 16,449,300\n",
      "_________________________________________________________________\n"
     ]
    }
   ],
   "source": [
    "model.summary()"
   ]
  },
  {
   "cell_type": "code",
   "execution_count": 25,
   "id": "355cad4b",
   "metadata": {},
   "outputs": [
    {
     "name": "stdout",
     "output_type": "stream",
     "text": [
      "Epoch 1/50\n",
      "1339/1339 [==============================] - 29s 21ms/step - loss: 0.2956 - accuracy: 0.8767 - val_loss: 0.2502 - val_accuracy: 0.8977\n",
      "Epoch 2/50\n",
      "1339/1339 [==============================] - 28s 21ms/step - loss: 0.2127 - accuracy: 0.9171 - val_loss: 0.2529 - val_accuracy: 0.9024\n",
      "Epoch 3/50\n",
      "1339/1339 [==============================] - 29s 21ms/step - loss: 0.1682 - accuracy: 0.9346 - val_loss: 0.3248 - val_accuracy: 0.8857\n",
      "Epoch 4/50\n",
      "1339/1339 [==============================] - 28s 21ms/step - loss: 0.1185 - accuracy: 0.9553 - val_loss: 0.3134 - val_accuracy: 0.8954\n",
      "Epoch 5/50\n",
      "1339/1339 [==============================] - 29s 22ms/step - loss: 0.0830 - accuracy: 0.9702 - val_loss: 0.4176 - val_accuracy: 0.8884\n",
      "Epoch 6/50\n",
      "1339/1339 [==============================] - 29s 22ms/step - loss: 0.0580 - accuracy: 0.9791 - val_loss: 0.3885 - val_accuracy: 0.8931\n",
      "Epoch 7/50\n",
      "1339/1339 [==============================] - 32s 24ms/step - loss: 0.0450 - accuracy: 0.9841 - val_loss: 0.5334 - val_accuracy: 0.8920\n",
      "Epoch 8/50\n",
      "1339/1339 [==============================] - 28s 21ms/step - loss: 0.0418 - accuracy: 0.9842 - val_loss: 0.3762 - val_accuracy: 0.8912\n",
      "Epoch 9/50\n",
      "1339/1339 [==============================] - 28s 21ms/step - loss: 0.0352 - accuracy: 0.9869 - val_loss: 0.5808 - val_accuracy: 0.8907\n",
      "Epoch 10/50\n",
      "1339/1339 [==============================] - 28s 21ms/step - loss: 0.0280 - accuracy: 0.9897 - val_loss: 0.6679 - val_accuracy: 0.8948\n",
      "Epoch 11/50\n",
      "1339/1339 [==============================] - 28s 21ms/step - loss: 0.0216 - accuracy: 0.9923 - val_loss: 0.7643 - val_accuracy: 0.8887\n",
      "Epoch 12/50\n",
      "1339/1339 [==============================] - 29s 22ms/step - loss: 0.0262 - accuracy: 0.9911 - val_loss: 0.7177 - val_accuracy: 0.8928\n",
      "Epoch 13/50\n",
      "1339/1339 [==============================] - 28s 21ms/step - loss: 0.0238 - accuracy: 0.9909 - val_loss: 0.6456 - val_accuracy: 0.8925\n",
      "Epoch 14/50\n",
      "1339/1339 [==============================] - 29s 21ms/step - loss: 0.0228 - accuracy: 0.9920 - val_loss: 0.6903 - val_accuracy: 0.8905\n",
      "Epoch 15/50\n",
      "1339/1339 [==============================] - 28s 21ms/step - loss: 0.0214 - accuracy: 0.9922 - val_loss: 0.7694 - val_accuracy: 0.8949\n",
      "Epoch 16/50\n",
      "1339/1339 [==============================] - 30s 22ms/step - loss: 0.0188 - accuracy: 0.9939 - val_loss: 0.7428 - val_accuracy: 0.8926\n",
      "Epoch 17/50\n",
      "1339/1339 [==============================] - 28s 21ms/step - loss: 0.0172 - accuracy: 0.9948 - val_loss: 0.7853 - val_accuracy: 0.8925\n",
      "Epoch 18/50\n",
      "1339/1339 [==============================] - 28s 21ms/step - loss: 0.0170 - accuracy: 0.9945 - val_loss: 0.7812 - val_accuracy: 0.8907\n",
      "Epoch 19/50\n",
      "1339/1339 [==============================] - 28s 21ms/step - loss: 0.0181 - accuracy: 0.9936 - val_loss: 0.8787 - val_accuracy: 0.8925\n",
      "Epoch 20/50\n",
      "1339/1339 [==============================] - 30s 22ms/step - loss: 0.0182 - accuracy: 0.9940 - val_loss: 0.6322 - val_accuracy: 0.8879\n",
      "Epoch 21/50\n",
      "1339/1339 [==============================] - 28s 21ms/step - loss: 0.0167 - accuracy: 0.9950 - val_loss: 0.8442 - val_accuracy: 0.8923\n",
      "Epoch 22/50\n",
      "1339/1339 [==============================] - 28s 21ms/step - loss: 0.0131 - accuracy: 0.9956 - val_loss: 1.0431 - val_accuracy: 0.8839\n",
      "Epoch 23/50\n",
      "1339/1339 [==============================] - 29s 21ms/step - loss: 0.0155 - accuracy: 0.9950 - val_loss: 0.8939 - val_accuracy: 0.8920\n",
      "Epoch 24/50\n",
      "1339/1339 [==============================] - 28s 21ms/step - loss: 0.0138 - accuracy: 0.9956 - val_loss: 1.0248 - val_accuracy: 0.8910\n",
      "Epoch 25/50\n",
      "1339/1339 [==============================] - 28s 21ms/step - loss: 0.0118 - accuracy: 0.9958 - val_loss: 0.9557 - val_accuracy: 0.8886\n",
      "Epoch 26/50\n",
      "1339/1339 [==============================] - 28s 21ms/step - loss: 0.0111 - accuracy: 0.9958 - val_loss: 0.8649 - val_accuracy: 0.8912\n",
      "Epoch 27/50\n",
      "1339/1339 [==============================] - 28s 21ms/step - loss: 0.0147 - accuracy: 0.9948 - val_loss: 0.8373 - val_accuracy: 0.8957\n",
      "Epoch 28/50\n",
      "1339/1339 [==============================] - 28s 21ms/step - loss: 0.0094 - accuracy: 0.9969 - val_loss: 1.0146 - val_accuracy: 0.8979\n",
      "Epoch 29/50\n",
      "1339/1339 [==============================] - 29s 22ms/step - loss: 0.0125 - accuracy: 0.9960 - val_loss: 0.7949 - val_accuracy: 0.8956\n",
      "Epoch 30/50\n",
      "1339/1339 [==============================] - 28s 21ms/step - loss: 0.0144 - accuracy: 0.9950 - val_loss: 0.9165 - val_accuracy: 0.8941\n",
      "Epoch 31/50\n",
      "1339/1339 [==============================] - 28s 21ms/step - loss: 0.0110 - accuracy: 0.9968 - val_loss: 1.1904 - val_accuracy: 0.8899\n",
      "Epoch 32/50\n",
      "1339/1339 [==============================] - 28s 21ms/step - loss: 0.0111 - accuracy: 0.9968 - val_loss: 1.0197 - val_accuracy: 0.8969\n",
      "Epoch 33/50\n",
      "1339/1339 [==============================] - 28s 21ms/step - loss: 0.0099 - accuracy: 0.9967 - val_loss: 1.1431 - val_accuracy: 0.8944\n",
      "Epoch 34/50\n",
      "1339/1339 [==============================] - 28s 21ms/step - loss: 0.0094 - accuracy: 0.9968 - val_loss: 1.2056 - val_accuracy: 0.8871\n",
      "Epoch 35/50\n",
      "1339/1339 [==============================] - 30s 22ms/step - loss: 0.0128 - accuracy: 0.9957 - val_loss: 1.0440 - val_accuracy: 0.8913\n",
      "Epoch 36/50\n",
      "1339/1339 [==============================] - 30s 23ms/step - loss: 0.0085 - accuracy: 0.9974 - val_loss: 1.0071 - val_accuracy: 0.8956\n",
      "Epoch 37/50\n",
      "1339/1339 [==============================] - 29s 22ms/step - loss: 0.0126 - accuracy: 0.9955 - val_loss: 1.0097 - val_accuracy: 0.8925\n",
      "Epoch 38/50\n",
      "1339/1339 [==============================] - 29s 22ms/step - loss: 0.0065 - accuracy: 0.9976 - val_loss: 1.0442 - val_accuracy: 0.8944\n",
      "Epoch 39/50\n",
      "1339/1339 [==============================] - 29s 22ms/step - loss: 0.0101 - accuracy: 0.9966 - val_loss: 1.0032 - val_accuracy: 0.8939\n",
      "Epoch 40/50\n",
      "1339/1339 [==============================] - 29s 21ms/step - loss: 0.0039 - accuracy: 0.9982 - val_loss: 1.3424 - val_accuracy: 0.8899\n",
      "Epoch 41/50\n",
      "1339/1339 [==============================] - 28s 21ms/step - loss: 0.0126 - accuracy: 0.9964 - val_loss: 1.1545 - val_accuracy: 0.8918\n",
      "Epoch 42/50\n",
      "1339/1339 [==============================] - 28s 21ms/step - loss: 0.0051 - accuracy: 0.9982 - val_loss: 1.3320 - val_accuracy: 0.8928\n",
      "Epoch 43/50\n",
      "1339/1339 [==============================] - 30s 22ms/step - loss: 0.0113 - accuracy: 0.9963 - val_loss: 0.9819 - val_accuracy: 0.8941\n",
      "Epoch 44/50\n",
      "1339/1339 [==============================] - 29s 21ms/step - loss: 0.0093 - accuracy: 0.9974 - val_loss: 1.3183 - val_accuracy: 0.8871\n",
      "Epoch 45/50\n",
      "1339/1339 [==============================] - 29s 21ms/step - loss: 0.0092 - accuracy: 0.9970 - val_loss: 1.1844 - val_accuracy: 0.8951\n",
      "Epoch 46/50\n",
      "1339/1339 [==============================] - 28s 21ms/step - loss: 0.0073 - accuracy: 0.9982 - val_loss: 1.2398 - val_accuracy: 0.8928\n",
      "Epoch 47/50\n",
      "1339/1339 [==============================] - 28s 21ms/step - loss: 0.0073 - accuracy: 0.9981 - val_loss: 1.3318 - val_accuracy: 0.8865\n",
      "Epoch 48/50\n",
      "1339/1339 [==============================] - 28s 21ms/step - loss: 0.0104 - accuracy: 0.9970 - val_loss: 1.1918 - val_accuracy: 0.8886\n",
      "Epoch 49/50\n",
      "1339/1339 [==============================] - 28s 21ms/step - loss: 0.0060 - accuracy: 0.9979 - val_loss: 1.5220 - val_accuracy: 0.8902\n",
      "Epoch 50/50\n",
      "1339/1339 [==============================] - 28s 21ms/step - loss: 0.0108 - accuracy: 0.9972 - val_loss: 1.1017 - val_accuracy: 0.8892\n",
      "Time taken to complete all 50 epochs: 1426.9079658985138 seconds\n"
     ]
    }
   ],
   "source": [
    "# Train the model\n",
    "EPOCHS = 50\n",
    "\n",
    "start_time = time.time()\n",
    "history = model.fit(X_train, y_train,\n",
    "                    epochs=EPOCHS,\n",
    "                    validation_data=(X_val, y_val),\n",
    "                    batch_size=BATCH_SIZE)\n",
    "\n",
    "print(f'Time taken to complete all {EPOCHS} epochs: {time.time() - start_time} seconds')"
   ]
  },
  {
   "cell_type": "code",
   "execution_count": 26,
   "id": "6da230d4",
   "metadata": {},
   "outputs": [
    {
     "name": "stdout",
     "output_type": "stream",
     "text": [
      "95/95 [==============================] - 2s 16ms/step\n",
      "              precision    recall  f1-score   support\n",
      "\n",
      "           0       0.92      0.86      0.89      1510\n",
      "           1       0.87      0.92      0.90      1519\n",
      "\n",
      "    accuracy                           0.89      3029\n",
      "   macro avg       0.89      0.89      0.89      3029\n",
      "weighted avg       0.89      0.89      0.89      3029\n",
      "\n"
     ]
    }
   ],
   "source": [
    "# Get prediction metrics\n",
    "\n",
    "y_pred = model.predict(X_test)\n",
    "y_pred = (y_pred > 0.5).astype(int)\n",
    "print(classification_report(y_test, y_pred))"
   ]
  },
  {
   "cell_type": "code",
   "execution_count": 27,
   "id": "1f795956",
   "metadata": {},
   "outputs": [
    {
     "name": "stdout",
     "output_type": "stream",
     "text": [
      "670/670 [==============================] - 12s 17ms/step - loss: 0.0054 - accuracy: 0.9983\n",
      "Training Accuracy: 0.9983\n",
      "Validation Accuracy:  0.8892\n",
      "Testing Accuracy:  0.8930\n"
     ]
    },
    {
     "data": {
      "image/png": "[encoded data removed]",
      "text/plain": [
       "<Figure size 1200x500 with 2 Axes>"
      ]
     },
     "metadata": {},
     "output_type": "display_data"
    }
   ],
   "source": [
    "# Plot results \n",
    "\n",
    "loss_train, accuracy_train = model.evaluate(X_train, y_train)\n",
    "print(\"Training Accuracy: {:.4f}\".format(accuracy_train))\n",
    "loss_val, accuracy_val = model.evaluate(X_val, y_val, verbose=False)\n",
    "print(\"Validation Accuracy:  {:.4f}\".format(accuracy_val))\n",
    "loss_test, accuracy_test = model.evaluate(X_test, y_test, verbose=False)\n",
    "print(\"Testing Accuracy:  {:.4f}\".format(accuracy_test))\n",
    "plot_history(history)"
   ]
  },
  {
   "cell_type": "code",
   "execution_count": 28,
   "id": "8f82ea52",
   "metadata": {},
   "outputs": [
    {
     "data": {
      "image/png": "[encoded data removed]",
      "text/plain": [
       "<Figure size 800x500 with 1 Axes>"
      ]
     },
     "metadata": {},
     "output_type": "display_data"
    }
   ],
   "source": [
    "acc_dict = {'train': accuracy_train, 'validate':accuracy_val, 'test':accuracy_test}\n",
    "x_ = list(acc_dict.keys())\n",
    "values = list(acc_dict.values())\n",
    "\n",
    "  \n",
    "fig = plt.figure(figsize = (8, 5))\n",
    " \n",
    "# creating the bar plot\n",
    "plt.bar(x_, values, color ='green',\n",
    "        width = 0.3)\n",
    " \n",
    "# plt.xlabel(\"Dataset\")\n",
    "plt.ylabel(\"Accuracy\")\n",
    "plt.title(\"Accuracy for Train, Validate and Test Datasets\")\n",
    "plt.show()"
   ]
  },
  {
   "cell_type": "code",
   "execution_count": 29,
   "id": "fd2a421e",
   "metadata": {},
   "outputs": [
    {
     "name": "stdout",
     "output_type": "stream",
     "text": [
      "Saved model to disk\n"
     ]
    }
   ],
   "source": [
    "## SAVE THE MODEL TO DISK ##\n",
    "\n",
    "model.save(\"model2_50epochs.h5\")\n",
    "print(\"Saved model to disk\")"
   ]
  },
  {
   "cell_type": "markdown",
   "id": "70ad6c2c",
   "metadata": {},
   "source": [
    "### Loading models to create confusion matrix"
   ]
  },
  {
   "cell_type": "code",
   "execution_count": 56,
   "id": "0802caba",
   "metadata": {},
   "outputs": [
    {
     "name": "stdout",
     "output_type": "stream",
     "text": [
      "Model: \"sequential_3\"\n",
      "_________________________________________________________________\n",
      " Layer (type)                Output Shape              Param #   \n",
      "=================================================================\n",
      " embedding_3 (Embedding)     (None, 200, 300)          16449300  \n",
      "                                                                 \n",
      " conv1d_3 (Conv1D)           (None, 196, 64)           96064     \n",
      "                                                                 \n",
      " global_max_pooling1d_3 (Glo  (None, 64)               0         \n",
      " balMaxPooling1D)                                                \n",
      "                                                                 \n",
      " dense_6 (Dense)             (None, 64)                4160      \n",
      "                                                                 \n",
      " dropout_3 (Dropout)         (None, 64)                0         \n",
      "                                                                 \n",
      " dense_7 (Dense)             (None, 1)                 65        \n",
      "                                                                 \n",
      "=================================================================\n",
      "Total params: 16,549,589\n",
      "Trainable params: 100,289\n",
      "Non-trainable params: 16,449,300\n",
      "_________________________________________________________________\n"
     ]
    }
   ],
   "source": [
    "# test load the model \n",
    "from tensorflow.keras.models import load_model\n",
    "# load model\n",
    "model_name = 'model1_50epochs.h5'\n",
    "model_path = f\"/Users/irsaashraf/Desktop/UChicago/Spring_23/Advanced ML/Project/Irsa_project/{model_name}\"\n",
    "model = load_model(model_path)\n",
    "# print summary\n",
    "model.summary()"
   ]
  },
  {
   "cell_type": "code",
   "execution_count": 57,
   "id": "66c5166b",
   "metadata": {},
   "outputs": [
    {
     "name": "stdout",
     "output_type": "stream",
     "text": [
      "95/95 [==============================] - 1s 11ms/step\n",
      "              precision    recall  f1-score   support\n",
      "\n",
      "           0       0.89      0.91      0.90      1510\n",
      "           1       0.91      0.89      0.90      1519\n",
      "\n",
      "    accuracy                           0.90      3029\n",
      "   macro avg       0.90      0.90      0.90      3029\n",
      "weighted avg       0.90      0.90      0.90      3029\n",
      "\n"
     ]
    }
   ],
   "source": [
    "# Making predictions using loaded model \n",
    "\n",
    "y_pred = model.predict(X_test)\n",
    "y_pred = (y_pred > 0.5).astype(int)\n",
    "print(classification_report(y_test, y_pred))"
   ]
  },
  {
   "cell_type": "code",
   "execution_count": 58,
   "id": "7125dcff",
   "metadata": {},
   "outputs": [
    {
     "data": {
      "text/plain": [
       "Text(0, 0.5, 'Performance')"
      ]
     },
     "execution_count": 58,
     "metadata": {},
     "output_type": "execute_result"
    },
    {
     "data": {
      "image/png": "[encoded data removed]",
      "text/plain": [
       "<Figure size 800x500 with 1 Axes>"
      ]
     },
     "metadata": {},
     "output_type": "display_data"
    }
   ],
   "source": [
    "class_dict = {'accuracy':0.90,'precision':0.91, 'recall':0.89 , 'f1-score':0.90}\n",
    "x_ = list(class_dict.keys())\n",
    "values = list(class_dict.values())\n",
    "\n",
    "fig = plt.figure(figsize = (8, 5))\n",
    " \n",
    "# creating the bar plot\n",
    "plt.bar(x_, values, color ='maroon',\n",
    "        width = 0.4)\n",
    "plt.title('Metrics Score')\n",
    "plt.ylim(0, 1)\n",
    "plt.ylabel('Performance')"
   ]
  },
  {
   "cell_type": "code",
   "execution_count": 59,
   "id": "fe2ae70d",
   "metadata": {},
   "outputs": [
    {
     "data": {
      "image/png": "[encoded data removed]",
      "text/plain": [
       "<Figure size 640x480 with 2 Axes>"
      ]
     },
     "metadata": {},
     "output_type": "display_data"
    }
   ],
   "source": [
    "from sklearn.metrics import confusion_matrix\n",
    "\n",
    "labels = ['Not Toxic', 'Toxic']\n",
    "\n",
    "cm = confusion_matrix(y_test, y_pred)\n",
    "cm\n",
    "\n",
    "# Plot confusion matrix\n",
    "plt.imshow(cm, interpolation='nearest', cmap=plt.cm.Blues)\n",
    "plt.title(\"Confusion Matrix\")\n",
    "plt.colorbar()\n",
    "tick_marks = np.arange(len(labels))\n",
    "plt.xticks(tick_marks, labels)\n",
    "plt.yticks(tick_marks, labels)\n",
    "\n",
    "# Label each grid cell with the respective count\n",
    "thresh = cm.max() / 2\n",
    "for i in range(cm.shape[0]):\n",
    "    for j in range(cm.shape[1]):\n",
    "        plt.text(j, i, format(cm[i, j], 'd'),\n",
    "                 horizontalalignment=\"center\",\n",
    "                 color=\"white\" if cm[i, j] > thresh else \"black\")\n",
    "\n",
    "plt.ylabel('True label')\n",
    "plt.xlabel('Predicted label')\n",
    "plt.tight_layout()\n",
    "plt.show()"
   ]
  },
  {
   "cell_type": "code",
   "execution_count": null,
   "id": "044b0a80",
   "metadata": {},
   "outputs": [],
   "source": []
  }
 ],
 "metadata": {
  "kernelspec": {
   "display_name": "Python [conda env:capp30255]",
   "language": "python",
   "name": "conda-env-capp30255-py"
  },
  "language_info": {
   "codemirror_mode": {
    "name": "ipython",
    "version": 3
   },
   "file_extension": ".py",
   "mimetype": "text/x-python",
   "name": "python",
   "nbconvert_exporter": "python",
   "pygments_lexer": "ipython3",
   "version": "3.10.11"
  }
 },
 "nbformat": 4,
 "nbformat_minor": 5
}
