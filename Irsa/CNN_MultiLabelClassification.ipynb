{
 "cells": [
  {
   "cell_type": "markdown",
   "id": "6824d23c",
   "metadata": {},
   "source": [
    "### Hierarchical Classfication "
   ]
  },
  {
   "cell_type": "code",
   "execution_count": 1,
   "id": "41778832",
   "metadata": {},
   "outputs": [],
   "source": [
    "import pandas as pd\n",
    "import numpy as np \n",
    "import matplotlib.pyplot as plt\n",
    "from torchtext.vocab import GloVe\n",
    "from itertools import combinations\n",
    "import torch\n",
    "import os\n",
    "import time\n",
    "from sklearn.metrics import classification_report"
   ]
  },
  {
   "cell_type": "code",
   "execution_count": 2,
   "id": "4a389101",
   "metadata": {},
   "outputs": [
    {
     "data": {
      "text/html": [
       "<div>\n",
       "<style scoped>\n",
       "    .dataframe tbody tr th:only-of-type {\n",
       "        vertical-align: middle;\n",
       "    }\n",
       "\n",
       "    .dataframe tbody tr th {\n",
       "        vertical-align: top;\n",
       "    }\n",
       "\n",
       "    .dataframe thead th {\n",
       "        text-align: right;\n",
       "    }\n",
       "</style>\n",
       "<table border=\"1\" class=\"dataframe\">\n",
       "  <thead>\n",
       "    <tr style=\"text-align: right;\">\n",
       "      <th></th>\n",
       "      <th>id</th>\n",
       "      <th>comment_text</th>\n",
       "      <th>toxic</th>\n",
       "      <th>severe_toxic</th>\n",
       "      <th>obscene</th>\n",
       "      <th>threat</th>\n",
       "      <th>insult</th>\n",
       "      <th>identity_hate</th>\n",
       "      <th>length</th>\n",
       "      <th>word_count</th>\n",
       "    </tr>\n",
       "  </thead>\n",
       "  <tbody>\n",
       "    <tr>\n",
       "      <th>0</th>\n",
       "      <td>1b7fe21f6b20f176</td>\n",
       "      <td>The Wack Pack \\n\\nYou're fucking insane and dr...</td>\n",
       "      <td>1</td>\n",
       "      <td>0</td>\n",
       "      <td>1</td>\n",
       "      <td>0</td>\n",
       "      <td>1</td>\n",
       "      <td>0</td>\n",
       "      <td>220</td>\n",
       "      <td>37</td>\n",
       "    </tr>\n",
       "    <tr>\n",
       "      <th>1</th>\n",
       "      <td>2b77b61ee27ab6fb</td>\n",
       "      <td>Not according to Wikipedia policy. With respec...</td>\n",
       "      <td>0</td>\n",
       "      <td>0</td>\n",
       "      <td>0</td>\n",
       "      <td>0</td>\n",
       "      <td>0</td>\n",
       "      <td>0</td>\n",
       "      <td>77</td>\n",
       "      <td>11</td>\n",
       "    </tr>\n",
       "    <tr>\n",
       "      <th>2</th>\n",
       "      <td>626d12d910b34c40</td>\n",
       "      <td>You just revert my and a lot of peoples work, ...</td>\n",
       "      <td>1</td>\n",
       "      <td>0</td>\n",
       "      <td>1</td>\n",
       "      <td>0</td>\n",
       "      <td>1</td>\n",
       "      <td>0</td>\n",
       "      <td>222</td>\n",
       "      <td>39</td>\n",
       "    </tr>\n",
       "    <tr>\n",
       "      <th>3</th>\n",
       "      <td>2ed8095b9ee464b0</td>\n",
       "      <td>Frank O'Hara, Anti-Beat? \\nSeriously, dude, yo...</td>\n",
       "      <td>0</td>\n",
       "      <td>0</td>\n",
       "      <td>0</td>\n",
       "      <td>0</td>\n",
       "      <td>0</td>\n",
       "      <td>0</td>\n",
       "      <td>544</td>\n",
       "      <td>93</td>\n",
       "    </tr>\n",
       "    <tr>\n",
       "      <th>4</th>\n",
       "      <td>86f8607fd0572b9f</td>\n",
       "      <td>\"\\n\\nreverting\\nUser:Baristarim decides that t...</td>\n",
       "      <td>0</td>\n",
       "      <td>0</td>\n",
       "      <td>0</td>\n",
       "      <td>0</td>\n",
       "      <td>0</td>\n",
       "      <td>0</td>\n",
       "      <td>440</td>\n",
       "      <td>72</td>\n",
       "    </tr>\n",
       "  </tbody>\n",
       "</table>\n",
       "</div>"
      ],
      "text/plain": [
       "                 id                                       comment_text  toxic  \\\n",
       "0  1b7fe21f6b20f176  The Wack Pack \\n\\nYou're fucking insane and dr...      1   \n",
       "1  2b77b61ee27ab6fb  Not according to Wikipedia policy. With respec...      0   \n",
       "2  626d12d910b34c40  You just revert my and a lot of peoples work, ...      1   \n",
       "3  2ed8095b9ee464b0  Frank O'Hara, Anti-Beat? \\nSeriously, dude, yo...      0   \n",
       "4  86f8607fd0572b9f  \"\\n\\nreverting\\nUser:Baristarim decides that t...      0   \n",
       "\n",
       "   severe_toxic  obscene  threat  insult  identity_hate  length  word_count  \n",
       "0             0        1       0       1              0     220          37  \n",
       "1             0        0       0       0              0      77          11  \n",
       "2             0        1       0       1              0     222          39  \n",
       "3             0        0       0       0              0     544          93  \n",
       "4             0        0       0       0              0     440          72  "
      ]
     },
     "execution_count": 2,
     "metadata": {},
     "output_type": "execute_result"
    }
   ],
   "source": [
    "# Read in balanced dataset \n",
    "\n",
    "data_path = '/Users/irsaashraf/Desktop/UChicago/Spring_23/Advanced ML/Project/Irsa_project/balanced_data.csv'\n",
    "df = pd.read_csv(data_path)\n",
    "df.head()"
   ]
  },
  {
   "cell_type": "code",
   "execution_count": 7,
   "id": "95addb56",
   "metadata": {},
   "outputs": [
    {
     "name": "stdout",
     "output_type": "stream",
     "text": [
      "30588\n"
     ]
    },
    {
     "data": {
      "text/plain": [
       "toxic            15294\n",
       "severe_toxic      1595\n",
       "obscene           7987\n",
       "threat             451\n",
       "insult            7401\n",
       "identity_hate     1306\n",
       "dtype: int64"
      ]
     },
     "execution_count": 7,
     "metadata": {},
     "output_type": "execute_result"
    }
   ],
   "source": [
    "classes = ['toxic', 'severe_toxic', 'obscene', 'threat', 'insult', 'identity_hate']\n",
    "print(len(df))\n",
    "df[classes].sum()"
   ]
  },
  {
   "cell_type": "code",
   "execution_count": 3,
   "id": "864b695c",
   "metadata": {},
   "outputs": [
    {
     "name": "stdout",
     "output_type": "stream",
     "text": [
      "No GPU available, using the CPU instead.\n"
     ]
    }
   ],
   "source": [
    "if torch.cuda.is_available():       \n",
    "    device = torch.device(\"cuda\")\n",
    "    print(f'There are {torch.cuda.device_count()} GPU(s) available.')\n",
    "    print('Device name:', torch.cuda.get_device_name(0))\n",
    "\n",
    "else:\n",
    "    print('No GPU available, using the CPU instead.')\n",
    "    device = torch.device(\"cpu\")"
   ]
  },
  {
   "cell_type": "code",
   "execution_count": 4,
   "id": "2f0308ad",
   "metadata": {},
   "outputs": [
    {
     "name": "stderr",
     "output_type": "stream",
     "text": [
      "2023-05-19 23:02:58.722889: I tensorflow/core/platform/cpu_feature_guard.cc:193] This TensorFlow binary is optimized with oneAPI Deep Neural Network Library (oneDNN) to use the following CPU instructions in performance-critical operations:  SSE4.1 SSE4.2\n",
      "To enable them in other operations, rebuild TensorFlow with the appropriate compiler flags.\n"
     ]
    },
    {
     "name": "stdout",
     "output_type": "stream",
     "text": [
      "2.11.1\n"
     ]
    }
   ],
   "source": [
    "from keras.preprocessing.text import Tokenizer\n",
    "from keras_preprocessing.sequence import pad_sequences\n",
    "from sklearn.model_selection import train_test_split\n",
    "import tensorflow as tf\n",
    "print(tf.__version__)"
   ]
  },
  {
   "cell_type": "code",
   "execution_count": 8,
   "id": "944675a4",
   "metadata": {},
   "outputs": [
    {
     "data": {
      "text/plain": [
       "array([\"The Wack Pack \\n\\nYou're fucking insane and drunk with power. Instead of totally removing big Howard Stern guys like Crackhead Bob and Fred the Elephant Boy, why not just remove the parts that your majesty finds offensive?\",\n",
       "       'Not according to Wikipedia policy. With respect 99.231.50.255  Pavel Golikov.',\n",
       "       \"You just revert my and a lot of peoples work, to improve wiki. So you're a motherfucker. How dare you block an user or users, just because he or she reverted your destructive activite. Shame on you.\\nShitface Anna Frodesiak\",\n",
       "       ...,\n",
       "       'The Criticism section \\n\\nThe way the criticism section reads at the time of this writing is quite okay, in my opinion. It brings up the most important, on point criticisms of the mainstream in a very readable, well sourced manner, without superfluous ad hominem comments. It also include a reasonable level of Austrian responses to the criticisms. In my view, there is no need for any further changes.\\n\\nThe Mises-slur is, again, completely redundant and serves no purpose whatsoever. I therefore suggest that the section is left as it is.',\n",
       "       'Piss on me \\n\\nP!SS ON ME, YOU BIMBO!',\n",
       "       \"''' Gogo giving blowjobs on demand\"], dtype=object)"
      ]
     },
     "execution_count": 8,
     "metadata": {},
     "output_type": "execute_result"
    }
   ],
   "source": [
    "sentences = df['comment_text'].values\n",
    "y_classes = df[['toxic', 'severe_toxic', 'obscene', 'threat', 'insult', 'identity_hate']].values\n",
    "sentences"
   ]
  },
  {
   "cell_type": "code",
   "execution_count": 9,
   "id": "6fa6f292",
   "metadata": {},
   "outputs": [
    {
     "data": {
      "text/plain": [
       "array([[1, 0, 1, 0, 1, 0],\n",
       "       [0, 0, 0, 0, 0, 0],\n",
       "       [1, 0, 1, 0, 1, 0],\n",
       "       ...,\n",
       "       [0, 0, 0, 0, 0, 0],\n",
       "       [1, 0, 1, 0, 1, 0],\n",
       "       [1, 0, 1, 0, 0, 0]])"
      ]
     },
     "execution_count": 9,
     "metadata": {},
     "output_type": "execute_result"
    }
   ],
   "source": [
    "y_classes"
   ]
  },
  {
   "cell_type": "code",
   "execution_count": 11,
   "id": "673a8eac",
   "metadata": {},
   "outputs": [
    {
     "name": "stdout",
     "output_type": "stream",
     "text": [
      "train: 21411 validation: 6148 test 3029\n"
     ]
    }
   ],
   "source": [
    "# Create a train, validate and test dataset \n",
    "# train 70%, validation 20%, test 10%\n",
    "\n",
    "X_train, X_rest, y_train, y_rest = train_test_split(sentences, y_classes, test_size=0.3, random_state=1)\n",
    "X_val, X_test, y_val, y_test = train_test_split(X_rest, y_rest, test_size=0.33, random_state=1)\n",
    "\n",
    "print(\"train:\", len(X_train), \"validation:\", len(X_val), \"test\", len(X_test))"
   ]
  },
  {
   "cell_type": "code",
   "execution_count": 12,
   "id": "7acca70d",
   "metadata": {},
   "outputs": [],
   "source": [
    "# Preprocess the data\n",
    "\n",
    "NUM_WORDS = 10000\n",
    "\n",
    "# Using max_len = 200 for consistency \n",
    "MAX_LEN = 200\n",
    "\n",
    "tokenizer = Tokenizer(num_words=NUM_WORDS)\n",
    "tokenizer.fit_on_texts(X_train)\n",
    "X_train = tokenizer.texts_to_sequences(X_train)\n",
    "X_val = tokenizer.texts_to_sequences(X_val)\n",
    "X_test = tokenizer.texts_to_sequences(X_test)\n",
    "# maxlen = max([len(x) for x in X_train])\n",
    "# 325\n",
    "# print(f\"X_train max len: {maxlen}\")\n",
    "X_train = pad_sequences(X_train, padding='post', maxlen=MAX_LEN)\n",
    "X_val = pad_sequences(X_val, padding='post', maxlen=MAX_LEN)\n",
    "X_test = pad_sequences(X_test, padding='post', maxlen=MAX_LEN)"
   ]
  },
  {
   "cell_type": "markdown",
   "id": "b185d964",
   "metadata": {},
   "source": [
    "### Embedding Matrix "
   ]
  },
  {
   "cell_type": "code",
   "execution_count": 14,
   "id": "269d7f49",
   "metadata": {},
   "outputs": [],
   "source": [
    "glove = GloVe(name='6B')"
   ]
  },
  {
   "cell_type": "code",
   "execution_count": 15,
   "id": "380468dc",
   "metadata": {},
   "outputs": [],
   "source": [
    "def create_embedding_matrix(filepath, word_index, embedding_dim):\n",
    "    \n",
    "    vocab_size = len(word_index) + 1 \n",
    "    # Adding 1 because of reserved 0 index\n",
    "    \n",
    "    embedding_matrix = np.zeros((vocab_size, embedding_dim))\n",
    "    \n",
    "    # Load the pre-trained GloVe embeddings\n",
    "    embeddings_index = {}\n",
    "    with open(filepath, encoding='utf-8') as f:\n",
    "        for line in f:\n",
    "            values = line.split()\n",
    "            word = values[0]\n",
    "            coefs = np.asarray(values[1:], dtype='float32')\n",
    "            if word in word_index:\n",
    "                idx = word_index[word]\n",
    "                embedding_matrix[idx] = coefs\n",
    "\n",
    "    return embedding_matrix"
   ]
  },
  {
   "cell_type": "code",
   "execution_count": 16,
   "id": "268e43bc",
   "metadata": {},
   "outputs": [],
   "source": [
    "EMBEDDING_DIM = 300\n",
    "glove_filename = 'glove.6B.300d.txt'\n",
    "glove_filepath = '/Users/irsaashraf/Desktop/UChicago/Spring_23/Advanced ML/Project/Irsa_project/glove.6B'\n",
    "glove_filepath_final = os.path.join(glove_filepath, glove_filename)\n",
    "\n",
    "word_index = tokenizer.word_index\n",
    "embedding_matrix = create_embedding_matrix(glove_filepath_final, word_index, EMBEDDING_DIM)"
   ]
  },
  {
   "cell_type": "code",
   "execution_count": 18,
   "id": "fd380254",
   "metadata": {},
   "outputs": [],
   "source": [
    "from keras.models import Sequential\n",
    "from keras.layers import Embedding, Conv1D, GlobalMaxPooling1D, Dense, Dropout"
   ]
  },
  {
   "cell_type": "code",
   "execution_count": 31,
   "id": "c47fc0d5",
   "metadata": {},
   "outputs": [],
   "source": [
    "# Use keras to define the model architecture of the CNN\n",
    "\n",
    "FILTERS= 128\n",
    "KERNEL_SIZE = 5\n",
    "ACTIVATION='relu'\n",
    "ACTIVATION_LAST='sigmoid'\n",
    "VOCAB_SIZE = len(word_index)+1\n",
    "DROPOUT = 0.5\n",
    "UNITS_FIRST = 128\n",
    "UNITS_SECOND = 6\n",
    "\n",
    "\n",
    "model = Sequential()\n",
    "model.add(Embedding(input_dim=VOCAB_SIZE, output_dim=EMBEDDING_DIM, weights=[embedding_matrix],input_length=MAX_LEN, trainable=False))\n",
    "model.add(Conv1D(filters=FILTERS, kernel_size=KERNEL_SIZE, activation=ACTIVATION))\n",
    "model.add(GlobalMaxPooling1D())\n",
    "model.add(Dense(units=UNITS_FIRST, activation=ACTIVATION))\n",
    "model.add(Dropout(DROPOUT))\n",
    "model.add(Dense(units=UNITS_SECOND, activation=ACTIVATION_LAST))"
   ]
  },
  {
   "cell_type": "code",
   "execution_count": 32,
   "id": "39bd5d42",
   "metadata": {},
   "outputs": [],
   "source": [
    "# Compile the model\n",
    "\n",
    "model.compile(optimizer='adam',\n",
    "              loss='binary_crossentropy',\n",
    "              metrics=['accuracy'])"
   ]
  },
  {
   "cell_type": "code",
   "execution_count": 33,
   "id": "212c28de",
   "metadata": {},
   "outputs": [
    {
     "name": "stdout",
     "output_type": "stream",
     "text": [
      "Model: \"sequential_1\"\n",
      "_________________________________________________________________\n",
      " Layer (type)                Output Shape              Param #   \n",
      "=================================================================\n",
      " embedding_1 (Embedding)     (None, 200, 300)          16449300  \n",
      "                                                                 \n",
      " conv1d_1 (Conv1D)           (None, 196, 128)          192128    \n",
      "                                                                 \n",
      " global_max_pooling1d_1 (Glo  (None, 128)              0         \n",
      " balMaxPooling1D)                                                \n",
      "                                                                 \n",
      " dense_2 (Dense)             (None, 128)               16512     \n",
      "                                                                 \n",
      " dropout_1 (Dropout)         (None, 128)               0         \n",
      "                                                                 \n",
      " dense_3 (Dense)             (None, 6)                 774       \n",
      "                                                                 \n",
      "=================================================================\n",
      "Total params: 16,658,714\n",
      "Trainable params: 209,414\n",
      "Non-trainable params: 16,449,300\n",
      "_________________________________________________________________\n"
     ]
    }
   ],
   "source": [
    "model.summary()"
   ]
  },
  {
   "cell_type": "code",
   "execution_count": 34,
   "id": "4312f26d",
   "metadata": {},
   "outputs": [
    {
     "name": "stdout",
     "output_type": "stream",
     "text": [
      "Epoch 1/50\n",
      "1339/1339 [==============================] - 29s 21ms/step - loss: 0.2141 - accuracy: 0.9386 - val_loss: 0.1758 - val_accuracy: 0.9963\n",
      "Epoch 2/50\n",
      "1339/1339 [==============================] - 29s 22ms/step - loss: 0.1674 - accuracy: 0.9900 - val_loss: 0.1727 - val_accuracy: 0.9963\n",
      "Epoch 3/50\n",
      "1339/1339 [==============================] - 28s 21ms/step - loss: 0.1469 - accuracy: 0.9861 - val_loss: 0.1739 - val_accuracy: 0.9963\n",
      "Epoch 4/50\n",
      "1339/1339 [==============================] - 28s 21ms/step - loss: 0.1292 - accuracy: 0.9851 - val_loss: 0.1856 - val_accuracy: 0.9959\n",
      "Epoch 5/50\n",
      "1339/1339 [==============================] - 28s 21ms/step - loss: 0.1145 - accuracy: 0.9759 - val_loss: 0.1900 - val_accuracy: 0.9954\n",
      "Epoch 6/50\n",
      "1339/1339 [==============================] - 28s 21ms/step - loss: 0.1025 - accuracy: 0.9742 - val_loss: 0.2111 - val_accuracy: 0.9925\n",
      "Epoch 7/50\n",
      "1339/1339 [==============================] - 28s 21ms/step - loss: 0.0920 - accuracy: 0.9503 - val_loss: 0.2265 - val_accuracy: 0.9803\n",
      "Epoch 8/50\n",
      "1339/1339 [==============================] - 28s 21ms/step - loss: 0.0830 - accuracy: 0.9385 - val_loss: 0.2449 - val_accuracy: 0.9663\n",
      "Epoch 9/50\n",
      "1339/1339 [==============================] - 28s 21ms/step - loss: 0.0767 - accuracy: 0.9171 - val_loss: 0.2869 - val_accuracy: 0.9771\n",
      "Epoch 10/50\n",
      "1339/1339 [==============================] - 28s 21ms/step - loss: 0.0699 - accuracy: 0.9137 - val_loss: 0.3121 - val_accuracy: 0.9418\n",
      "Epoch 11/50\n",
      "1339/1339 [==============================] - 29s 21ms/step - loss: 0.0642 - accuracy: 0.8825 - val_loss: 0.2789 - val_accuracy: 0.8938\n",
      "Epoch 12/50\n",
      "1339/1339 [==============================] - 31s 23ms/step - loss: 0.0601 - accuracy: 0.8902 - val_loss: 0.3165 - val_accuracy: 0.9177\n",
      "Epoch 13/50\n",
      "1339/1339 [==============================] - 28s 21ms/step - loss: 0.0547 - accuracy: 0.8774 - val_loss: 0.3422 - val_accuracy: 0.9543\n",
      "Epoch 14/50\n",
      "1339/1339 [==============================] - 28s 21ms/step - loss: 0.0520 - accuracy: 0.8692 - val_loss: 0.3951 - val_accuracy: 0.9761\n",
      "Epoch 15/50\n",
      "1339/1339 [==============================] - 28s 21ms/step - loss: 0.0498 - accuracy: 0.8753 - val_loss: 0.4107 - val_accuracy: 0.9450\n",
      "Epoch 16/50\n",
      "1339/1339 [==============================] - 28s 21ms/step - loss: 0.0447 - accuracy: 0.8590 - val_loss: 0.4628 - val_accuracy: 0.9574\n",
      "Epoch 17/50\n",
      "1339/1339 [==============================] - 28s 21ms/step - loss: 0.0444 - accuracy: 0.8515 - val_loss: 0.4182 - val_accuracy: 0.8939\n",
      "Epoch 18/50\n",
      "1339/1339 [==============================] - 29s 21ms/step - loss: 0.0417 - accuracy: 0.8296 - val_loss: 0.4392 - val_accuracy: 0.8629\n",
      "Epoch 19/50\n",
      "1339/1339 [==============================] - 28s 21ms/step - loss: 0.0387 - accuracy: 0.8377 - val_loss: 0.4772 - val_accuracy: 0.9343\n",
      "Epoch 20/50\n",
      "1339/1339 [==============================] - 28s 21ms/step - loss: 0.0404 - accuracy: 0.8115 - val_loss: 0.4709 - val_accuracy: 0.8377\n",
      "Epoch 21/50\n",
      "1339/1339 [==============================] - 27s 20ms/step - loss: 0.0370 - accuracy: 0.8095 - val_loss: 0.5456 - val_accuracy: 0.9493\n",
      "Epoch 22/50\n",
      "1339/1339 [==============================] - 28s 21ms/step - loss: 0.0362 - accuracy: 0.8123 - val_loss: 0.4867 - val_accuracy: 0.8847\n",
      "Epoch 23/50\n",
      "1339/1339 [==============================] - 28s 21ms/step - loss: 0.0337 - accuracy: 0.8125 - val_loss: 0.5577 - val_accuracy: 0.8608\n",
      "Epoch 24/50\n",
      "1339/1339 [==============================] - 28s 21ms/step - loss: 0.0325 - accuracy: 0.7893 - val_loss: 0.5408 - val_accuracy: 0.8323\n",
      "Epoch 25/50\n",
      "1339/1339 [==============================] - 27s 21ms/step - loss: 0.0330 - accuracy: 0.8096 - val_loss: 0.4993 - val_accuracy: 0.8247\n",
      "Epoch 26/50\n",
      "1339/1339 [==============================] - 28s 21ms/step - loss: 0.0330 - accuracy: 0.7857 - val_loss: 0.5966 - val_accuracy: 0.8938\n",
      "Epoch 27/50\n",
      "1339/1339 [==============================] - 28s 21ms/step - loss: 0.0302 - accuracy: 0.7733 - val_loss: 0.5584 - val_accuracy: 0.7807\n",
      "Epoch 28/50\n",
      "1339/1339 [==============================] - 28s 21ms/step - loss: 0.0306 - accuracy: 0.7614 - val_loss: 0.5876 - val_accuracy: 0.7968\n",
      "Epoch 29/50\n",
      "1339/1339 [==============================] - 28s 21ms/step - loss: 0.0291 - accuracy: 0.7622 - val_loss: 0.6171 - val_accuracy: 0.8273\n",
      "Epoch 30/50\n",
      "1339/1339 [==============================] - 28s 21ms/step - loss: 0.0270 - accuracy: 0.7707 - val_loss: 0.6161 - val_accuracy: 0.8939\n",
      "Epoch 31/50\n",
      "1339/1339 [==============================] - 28s 21ms/step - loss: 0.0274 - accuracy: 0.7604 - val_loss: 0.6817 - val_accuracy: 0.9076\n",
      "Epoch 32/50\n",
      "1339/1339 [==============================] - 27s 20ms/step - loss: 0.0277 - accuracy: 0.7517 - val_loss: 0.6252 - val_accuracy: 0.7724\n",
      "Epoch 33/50\n",
      "1339/1339 [==============================] - 28s 21ms/step - loss: 0.0268 - accuracy: 0.7754 - val_loss: 0.6373 - val_accuracy: 0.8793\n",
      "Epoch 34/50\n",
      "1339/1339 [==============================] - 28s 21ms/step - loss: 0.0252 - accuracy: 0.7918 - val_loss: 0.6430 - val_accuracy: 0.8365\n",
      "Epoch 35/50\n",
      "1339/1339 [==============================] - 28s 21ms/step - loss: 0.0247 - accuracy: 0.7804 - val_loss: 0.6080 - val_accuracy: 0.8121\n",
      "Epoch 36/50\n",
      "1339/1339 [==============================] - 27s 21ms/step - loss: 0.0257 - accuracy: 0.7959 - val_loss: 0.6274 - val_accuracy: 0.8385\n",
      "Epoch 37/50\n",
      "1339/1339 [==============================] - 28s 21ms/step - loss: 0.0239 - accuracy: 0.7724 - val_loss: 0.6999 - val_accuracy: 0.8077\n",
      "Epoch 38/50\n",
      "1339/1339 [==============================] - 28s 21ms/step - loss: 0.0243 - accuracy: 0.7623 - val_loss: 0.7658 - val_accuracy: 0.8569\n",
      "Epoch 39/50\n",
      "1339/1339 [==============================] - 27s 21ms/step - loss: 0.0234 - accuracy: 0.7810 - val_loss: 0.6881 - val_accuracy: 0.8661\n",
      "Epoch 40/50\n",
      "1339/1339 [==============================] - 27s 21ms/step - loss: 0.0214 - accuracy: 0.7815 - val_loss: 0.7739 - val_accuracy: 0.8232\n",
      "Epoch 41/50\n",
      "1339/1339 [==============================] - 28s 21ms/step - loss: 0.0229 - accuracy: 0.7877 - val_loss: 0.9367 - val_accuracy: 0.8572\n",
      "Epoch 42/50\n",
      "1339/1339 [==============================] - 28s 21ms/step - loss: 0.0253 - accuracy: 0.7934 - val_loss: 0.6808 - val_accuracy: 0.8783\n",
      "Epoch 43/50\n",
      "1339/1339 [==============================] - 28s 21ms/step - loss: 0.0226 - accuracy: 0.7831 - val_loss: 0.7620 - val_accuracy: 0.8652\n",
      "Epoch 44/50\n",
      "1339/1339 [==============================] - 28s 21ms/step - loss: 0.0211 - accuracy: 0.7895 - val_loss: 0.8628 - val_accuracy: 0.8198\n",
      "Epoch 45/50\n",
      "1339/1339 [==============================] - 28s 21ms/step - loss: 0.0218 - accuracy: 0.7454 - val_loss: 0.8051 - val_accuracy: 0.8954\n",
      "Epoch 46/50\n",
      "1339/1339 [==============================] - 28s 21ms/step - loss: 0.0208 - accuracy: 0.7660 - val_loss: 0.7505 - val_accuracy: 0.8346\n",
      "Epoch 47/50\n",
      "1339/1339 [==============================] - 28s 21ms/step - loss: 0.0210 - accuracy: 0.7456 - val_loss: 0.8500 - val_accuracy: 0.7399\n",
      "Epoch 48/50\n",
      "1339/1339 [==============================] - 29s 22ms/step - loss: 0.0204 - accuracy: 0.7329 - val_loss: 0.7953 - val_accuracy: 0.7890\n",
      "Epoch 49/50\n",
      "1339/1339 [==============================] - 28s 21ms/step - loss: 0.0190 - accuracy: 0.7343 - val_loss: 0.8539 - val_accuracy: 0.7913\n",
      "Epoch 50/50\n",
      "1339/1339 [==============================] - 28s 21ms/step - loss: 0.0216 - accuracy: 0.7199 - val_loss: 0.8348 - val_accuracy: 0.8066\n",
      "Time taken to complete all 50 epochs: 1399.3261818885803 seconds\n"
     ]
    }
   ],
   "source": [
    "# Train the model\n",
    "EPOCHS = 50\n",
    "BATCH_SIZE = 16\n",
    "\n",
    "start_time = time.time()\n",
    "history = model.fit(X_train, y_train,\n",
    "                    epochs=EPOCHS,\n",
    "                    validation_data=(X_val, y_val),\n",
    "                    batch_size=BATCH_SIZE)\n",
    "\n",
    "print(f'Time taken to complete all {EPOCHS} epochs: {time.time() - start_time} seconds')"
   ]
  },
  {
   "cell_type": "code",
   "execution_count": 35,
   "id": "0e9c3c4a",
   "metadata": {},
   "outputs": [
    {
     "name": "stdout",
     "output_type": "stream",
     "text": [
      "95/95 [==============================] - 2s 17ms/step\n",
      "               precision    recall  f1-score   support\n",
      "\n",
      "        toxic       0.88      0.92      0.90      1519\n",
      " severe_toxic       0.46      0.31      0.37       175\n",
      "      obscene       0.81      0.79      0.80       843\n",
      "       threat       0.70      0.34      0.46        41\n",
      "       insult       0.70      0.74      0.72       742\n",
      "identity_hate       0.48      0.37      0.42       126\n",
      "\n",
      "    micro avg       0.79      0.79      0.79      3446\n",
      "    macro avg       0.67      0.58      0.61      3446\n",
      " weighted avg       0.79      0.79      0.79      3446\n",
      "  samples avg       0.41      0.40      0.39      3446\n",
      "\n"
     ]
    },
    {
     "name": "stderr",
     "output_type": "stream",
     "text": [
      "/Users/irsaashraf/anaconda3/envs/capp30255/lib/python3.10/site-packages/sklearn/metrics/_classification.py:1344: UndefinedMetricWarning: Precision and F-score are ill-defined and being set to 0.0 in samples with no predicted labels. Use `zero_division` parameter to control this behavior.\n",
      "  _warn_prf(average, modifier, msg_start, len(result))\n",
      "/Users/irsaashraf/anaconda3/envs/capp30255/lib/python3.10/site-packages/sklearn/metrics/_classification.py:1344: UndefinedMetricWarning: Recall and F-score are ill-defined and being set to 0.0 in samples with no true labels. Use `zero_division` parameter to control this behavior.\n",
      "  _warn_prf(average, modifier, msg_start, len(result))\n"
     ]
    }
   ],
   "source": [
    "# Get prediction metrics\n",
    "\n",
    "label_names = ['toxic', 'severe_toxic', 'obscene', 'threat', 'insult', 'identity_hate']\n",
    "y_pred = model.predict(X_test)\n",
    "y_pred = (y_pred > 0.5).astype(int)\n",
    "print(classification_report(y_test, y_pred, target_names = label_names))"
   ]
  },
  {
   "cell_type": "code",
   "execution_count": 37,
   "id": "0f02706e",
   "metadata": {},
   "outputs": [
    {
     "name": "stdout",
     "output_type": "stream",
     "text": [
      "Saved model to disk\n"
     ]
    }
   ],
   "source": [
    "## SAVE THE MODEL TO DISK ##\n",
    "\n",
    "model.save(\"ml_model1_50epochs.h5\")\n",
    "print(\"Saved model to disk\")"
   ]
  },
  {
   "cell_type": "code",
   "execution_count": 38,
   "id": "1fa94c8a",
   "metadata": {},
   "outputs": [
    {
     "data": {
      "text/plain": [
       "array([[0, 0, 0, 0, 0, 0],\n",
       "       [1, 0, 1, 0, 1, 0],\n",
       "       [1, 0, 1, 0, 1, 0],\n",
       "       ...,\n",
       "       [0, 0, 0, 0, 0, 0],\n",
       "       [1, 0, 0, 0, 0, 0],\n",
       "       [0, 0, 0, 0, 0, 0]])"
      ]
     },
     "execution_count": 38,
     "metadata": {},
     "output_type": "execute_result"
    }
   ],
   "source": [
    "y_pred"
   ]
  },
  {
   "cell_type": "code",
   "execution_count": 36,
   "id": "babcd60a",
   "metadata": {},
   "outputs": [
    {
     "name": "stdout",
     "output_type": "stream",
     "text": [
      "670/670 [==============================] - 11s 16ms/step - loss: 0.0099 - accuracy: 0.7865\n",
      "Training Accuracy: 0.7865\n",
      "Validation Accuracy:  0.8066\n",
      "Testing Accuracy:  0.8260\n"
     ]
    },
    {
     "data": {
      "image/png": "[encoded data removed]",
      "text/plain": [
       "<Figure size 1200x500 with 2 Axes>"
      ]
     },
     "metadata": {},
     "output_type": "display_data"
    }
   ],
   "source": [
    "# Plot results \n",
    "\n",
    "loss_train, accuracy_train = model.evaluate(X_train, y_train)\n",
    "print(\"Training Accuracy: {:.4f}\".format(accuracy_train))\n",
    "loss_val, accuracy_val = model.evaluate(X_val, y_val, verbose=False)\n",
    "print(\"Validation Accuracy:  {:.4f}\".format(accuracy_val))\n",
    "loss_test, accuracy_test = model.evaluate(X_test, y_test, verbose=False)\n",
    "print(\"Testing Accuracy:  {:.4f}\".format(accuracy_test))\n",
    "plot_history(history)"
   ]
  },
  {
   "cell_type": "code",
   "execution_count": 41,
   "id": "8f059568",
   "metadata": {},
   "outputs": [
    {
     "data": {
      "image/png": "[encoded data removed]",
      "text/plain": [
       "<Figure size 800x500 with 1 Axes>"
      ]
     },
     "metadata": {},
     "output_type": "display_data"
    }
   ],
   "source": [
    "acc_dict = {'train': accuracy_train, 'validate':accuracy_val, 'test':accuracy_test}\n",
    "x_ = list(acc_dict.keys())\n",
    "values = list(acc_dict.values())\n",
    "\n",
    "  \n",
    "fig = plt.figure(figsize = (8, 5))\n",
    " \n",
    "# creating the bar plot\n",
    "plt.bar(x_, values, color ='green',\n",
    "        width = 0.3)\n",
    " \n",
    "# plt.xlabel(\"Dataset\")\n",
    "plt.ylabel(\"Accuracy\")\n",
    "plt.title(\"Accuracy for Train, Validate and Test Datasets\")\n",
    "plt.show()"
   ]
  },
  {
   "cell_type": "markdown",
   "id": "6019e3cf",
   "metadata": {},
   "source": [
    "Training accuracy is the lowest while testing is the highest. Model is not overfitting at all."
   ]
  },
  {
   "cell_type": "code",
   "execution_count": 24,
   "id": "0462a6a5",
   "metadata": {},
   "outputs": [],
   "source": [
    "def plot_history(history):\n",
    "    acc = history.history['accuracy']\n",
    "    val_acc = history.history['val_accuracy']\n",
    "    loss = history.history['loss']\n",
    "    val_loss = history.history['val_loss']\n",
    "    x = range(1, len(acc) + 1)\n",
    "\n",
    "    plt.figure(figsize=(12, 5))\n",
    "    plt.subplot(1, 2, 1)\n",
    "    plt.plot(x, acc, 'b', label='Training acc')\n",
    "    plt.plot(x, val_acc, 'r', label='Validation acc')\n",
    "    plt.title('Training and validation accuracy')\n",
    "    plt.legend()\n",
    "    plt.subplot(1, 2, 2)\n",
    "    plt.plot(x, loss, 'b', label='Training loss')\n",
    "    plt.plot(x, val_loss, 'r', label='Validation loss')\n",
    "    plt.title('Training and validation loss')\n",
    "    plt.legend()"
   ]
  },
  {
   "cell_type": "code",
   "execution_count": null,
   "id": "bce51ae3",
   "metadata": {},
   "outputs": [],
   "source": []
  },
  {
   "cell_type": "code",
   "execution_count": null,
   "id": "54395b2a",
   "metadata": {},
   "outputs": [],
   "source": []
  }
 ],
 "metadata": {
  "kernelspec": {
   "display_name": "Python [conda env:capp30255]",
   "language": "python",
   "name": "conda-env-capp30255-py"
  },
  "language_info": {
   "codemirror_mode": {
    "name": "ipython",
    "version": 3
   },
   "file_extension": ".py",
   "mimetype": "text/x-python",
   "name": "python",
   "nbconvert_exporter": "python",
   "pygments_lexer": "ipython3",
   "version": "3.10.11"
  }
 },
 "nbformat": 4,
 "nbformat_minor": 5
}
