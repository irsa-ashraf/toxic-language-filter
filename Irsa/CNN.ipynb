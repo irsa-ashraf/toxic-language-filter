{
 "cells": [
  {
   "cell_type": "markdown",
   "id": "b98d2688",
   "metadata": {},
   "source": [
    "## CNN For Text Classification"
   ]
  },
  {
   "cell_type": "markdown",
   "id": "1e94a4cd",
   "metadata": {},
   "source": [
    "Train a CNN on a dataset of labelled toxic (1) and non-toxic (0) comments (train dataset) and use the model to classify a test dataset of comments as either toxic or non-toxic. \n",
    "\n",
    "This model uses the keras library and we compared our metrics with those returned by the CNN model created using PyTorch and a simple baseline bag of words model. For consistency and a fair comparison, we applied the same pre-processing functions to the data for all models. \n",
    "\n",
    "Reference:\n",
    "https://medium.com/saarthi-ai/sentence-classification-using-convolutional-neural-networks-ddad72c7048c"
   ]
  },
  {
   "cell_type": "code",
   "execution_count": 1,
   "id": "3154dfa1",
   "metadata": {},
   "outputs": [],
   "source": [
    "import pandas as pd\n",
    "import numpy as np \n",
    "import matplotlib.pyplot as plt\n",
    "from torchtext.vocab import GloVe\n",
    "from itertools import combinations\n",
    "import torch\n",
    "import os\n",
    "import time\n",
    "from sklearn.metrics import classification_report"
   ]
  },
  {
   "cell_type": "code",
   "execution_count": 150,
   "id": "ade6695f",
   "metadata": {},
   "outputs": [],
   "source": [
    "# file_path = '/Users/irsaashraf/Desktop/UChicago/Spring_23/Advanced ML/Project/Irsa_project/train.csv'\n",
    "# df = pd.read_csv(file_path)\n",
    "# df.head()"
   ]
  },
  {
   "cell_type": "code",
   "execution_count": 2,
   "id": "41994280",
   "metadata": {},
   "outputs": [],
   "source": [
    "def plot_history(history):\n",
    "    acc = history.history['accuracy']\n",
    "    val_acc = history.history['val_accuracy']\n",
    "    loss = history.history['loss']\n",
    "    val_loss = history.history['val_loss']\n",
    "    x = range(1, len(acc) + 1)\n",
    "\n",
    "    plt.figure(figsize=(12, 5))\n",
    "    plt.subplot(1, 2, 1)\n",
    "    plt.plot(x, acc, 'b', label='Training acc')\n",
    "    plt.plot(x, val_acc, 'r', label='Validation acc')\n",
    "    plt.title('Training and validation accuracy')\n",
    "    plt.legend()\n",
    "    plt.subplot(1, 2, 2)\n",
    "    plt.plot(x, loss, 'b', label='Training loss')\n",
    "    plt.plot(x, val_loss, 'r', label='Validation loss')\n",
    "    plt.title('Training and validation loss')\n",
    "    plt.legend()"
   ]
  },
  {
   "cell_type": "markdown",
   "id": "b73551c5",
   "metadata": {},
   "source": [
    "Toxic and non-toxic first"
   ]
  },
  {
   "cell_type": "markdown",
   "id": "c4366a39",
   "metadata": {},
   "source": [
    "Dealing with imbalanced data. Keep all 15294 rows for toxic comments and 16000 rows from non-toxic comments"
   ]
  },
  {
   "cell_type": "code",
   "execution_count": 152,
   "id": "99151c0d",
   "metadata": {},
   "outputs": [],
   "source": [
    "# # filter for only non-toxic comments \n",
    "# non_toxic_df = df[df['toxic'] == 0]\n",
    "\n",
    "# # randomly sample 16000 rows from this dataframe \n",
    "# non_toxic_df_sample = non_toxic_df.sample(n=16000, random_state=42)\n",
    "\n",
    "# # get only the rows with toxic comments \n",
    "# toxic_df = df[df['toxic'] == 1]\n",
    "\n",
    "# # concat both dataframes and shuffle the rows \n",
    "# comment_df = pd.concat([non_toxic_df_sample, toxic_df])\n",
    "# comment_df = comment_df.sample(frac=1).reset_index(drop=True)\n",
    "# comment_df\n"
   ]
  },
  {
   "cell_type": "code",
   "execution_count": 153,
   "id": "e37345fd",
   "metadata": {},
   "outputs": [],
   "source": [
    "# plt.hist(comment_df['toxic'])\n",
    "# plt.show()"
   ]
  },
  {
   "cell_type": "code",
   "execution_count": 154,
   "id": "3d35848d",
   "metadata": {},
   "outputs": [
    {
     "data": {
      "text/html": [
       "<div>\n",
       "<style scoped>\n",
       "    .dataframe tbody tr th:only-of-type {\n",
       "        vertical-align: middle;\n",
       "    }\n",
       "\n",
       "    .dataframe tbody tr th {\n",
       "        vertical-align: top;\n",
       "    }\n",
       "\n",
       "    .dataframe thead th {\n",
       "        text-align: right;\n",
       "    }\n",
       "</style>\n",
       "<table border=\"1\" class=\"dataframe\">\n",
       "  <thead>\n",
       "    <tr style=\"text-align: right;\">\n",
       "      <th></th>\n",
       "      <th>id</th>\n",
       "      <th>comment_text</th>\n",
       "      <th>toxic</th>\n",
       "      <th>severe_toxic</th>\n",
       "      <th>obscene</th>\n",
       "      <th>threat</th>\n",
       "      <th>insult</th>\n",
       "      <th>identity_hate</th>\n",
       "      <th>length</th>\n",
       "      <th>word_count</th>\n",
       "    </tr>\n",
       "  </thead>\n",
       "  <tbody>\n",
       "    <tr>\n",
       "      <th>0</th>\n",
       "      <td>1b7fe21f6b20f176</td>\n",
       "      <td>The Wack Pack \\n\\nYou're fucking insane and dr...</td>\n",
       "      <td>1</td>\n",
       "      <td>0</td>\n",
       "      <td>1</td>\n",
       "      <td>0</td>\n",
       "      <td>1</td>\n",
       "      <td>0</td>\n",
       "      <td>220</td>\n",
       "      <td>37</td>\n",
       "    </tr>\n",
       "    <tr>\n",
       "      <th>1</th>\n",
       "      <td>2b77b61ee27ab6fb</td>\n",
       "      <td>Not according to Wikipedia policy. With respec...</td>\n",
       "      <td>0</td>\n",
       "      <td>0</td>\n",
       "      <td>0</td>\n",
       "      <td>0</td>\n",
       "      <td>0</td>\n",
       "      <td>0</td>\n",
       "      <td>77</td>\n",
       "      <td>11</td>\n",
       "    </tr>\n",
       "    <tr>\n",
       "      <th>2</th>\n",
       "      <td>626d12d910b34c40</td>\n",
       "      <td>You just revert my and a lot of peoples work, ...</td>\n",
       "      <td>1</td>\n",
       "      <td>0</td>\n",
       "      <td>1</td>\n",
       "      <td>0</td>\n",
       "      <td>1</td>\n",
       "      <td>0</td>\n",
       "      <td>222</td>\n",
       "      <td>39</td>\n",
       "    </tr>\n",
       "    <tr>\n",
       "      <th>3</th>\n",
       "      <td>2ed8095b9ee464b0</td>\n",
       "      <td>Frank O'Hara, Anti-Beat? \\nSeriously, dude, yo...</td>\n",
       "      <td>0</td>\n",
       "      <td>0</td>\n",
       "      <td>0</td>\n",
       "      <td>0</td>\n",
       "      <td>0</td>\n",
       "      <td>0</td>\n",
       "      <td>544</td>\n",
       "      <td>93</td>\n",
       "    </tr>\n",
       "    <tr>\n",
       "      <th>4</th>\n",
       "      <td>86f8607fd0572b9f</td>\n",
       "      <td>\"\\n\\nreverting\\nUser:Baristarim decides that t...</td>\n",
       "      <td>0</td>\n",
       "      <td>0</td>\n",
       "      <td>0</td>\n",
       "      <td>0</td>\n",
       "      <td>0</td>\n",
       "      <td>0</td>\n",
       "      <td>440</td>\n",
       "      <td>72</td>\n",
       "    </tr>\n",
       "  </tbody>\n",
       "</table>\n",
       "</div>"
      ],
      "text/plain": [
       "                 id                                       comment_text  toxic  \\\n",
       "0  1b7fe21f6b20f176  The Wack Pack \\n\\nYou're fucking insane and dr...      1   \n",
       "1  2b77b61ee27ab6fb  Not according to Wikipedia policy. With respec...      0   \n",
       "2  626d12d910b34c40  You just revert my and a lot of peoples work, ...      1   \n",
       "3  2ed8095b9ee464b0  Frank O'Hara, Anti-Beat? \\nSeriously, dude, yo...      0   \n",
       "4  86f8607fd0572b9f  \"\\n\\nreverting\\nUser:Baristarim decides that t...      0   \n",
       "\n",
       "   severe_toxic  obscene  threat  insult  identity_hate  length  word_count  \n",
       "0             0        1       0       1              0     220          37  \n",
       "1             0        0       0       0              0      77          11  \n",
       "2             0        1       0       1              0     222          39  \n",
       "3             0        0       0       0              0     544          93  \n",
       "4             0        0       0       0              0     440          72  "
      ]
     },
     "execution_count": 154,
     "metadata": {},
     "output_type": "execute_result"
    }
   ],
   "source": [
    "# Read in balanced dataset \n",
    "\n",
    "data_path = '/Users/irsaashraf/Desktop/UChicago/Spring_23/Advanced ML/Project/Irsa_project/balanced_data.csv'\n",
    "df = pd.read_csv(data_path)\n",
    "df.head()"
   ]
  },
  {
   "cell_type": "code",
   "execution_count": 3,
   "id": "f050f3de",
   "metadata": {},
   "outputs": [
    {
     "name": "stdout",
     "output_type": "stream",
     "text": [
      "No GPU available, using the CPU instead.\n"
     ]
    }
   ],
   "source": [
    "if torch.cuda.is_available():       \n",
    "    device = torch.device(\"cuda\")\n",
    "    print(f'There are {torch.cuda.device_count()} GPU(s) available.')\n",
    "    print('Device name:', torch.cuda.get_device_name(0))\n",
    "\n",
    "else:\n",
    "    print('No GPU available, using the CPU instead.')\n",
    "    device = torch.device(\"cpu\")"
   ]
  },
  {
   "cell_type": "markdown",
   "id": "50d88b19",
   "metadata": {},
   "source": [
    "### Tokenize using keras"
   ]
  },
  {
   "cell_type": "code",
   "execution_count": 156,
   "id": "2a2efc8e",
   "metadata": {},
   "outputs": [],
   "source": [
    "MAX_SENT_LENGTH = 200\n",
    "BATCH_SIZE = 16\n",
    "EMBEDDING_DIM = 300"
   ]
  },
  {
   "cell_type": "code",
   "execution_count": 157,
   "id": "c1d9837a",
   "metadata": {},
   "outputs": [],
   "source": [
    "# load balanced data\n",
    "\n",
    "# df = df[df[\"word_count\"] <= MAX_SENT_LENGTH]\n",
    "# df = df.reset_index(drop=True)\n",
    "# df = df[[\"comment_text\", \"toxic\"]]\n",
    "# df.head(5)"
   ]
  },
  {
   "cell_type": "code",
   "execution_count": 158,
   "id": "eab924fb",
   "metadata": {},
   "outputs": [],
   "source": [
    "from keras.preprocessing.text import Tokenizer\n",
    "from keras_preprocessing.sequence import pad_sequences\n",
    "from sklearn.model_selection import train_test_split"
   ]
  },
  {
   "cell_type": "code",
   "execution_count": 159,
   "id": "c3f704f4",
   "metadata": {},
   "outputs": [
    {
     "name": "stdout",
     "output_type": "stream",
     "text": [
      "2.11.1\n"
     ]
    }
   ],
   "source": [
    "import tensorflow as tf\n",
    "print(tf.__version__)"
   ]
  },
  {
   "cell_type": "code",
   "execution_count": 160,
   "id": "3c8dec2b",
   "metadata": {},
   "outputs": [
    {
     "data": {
      "text/plain": [
       "array([\"The Wack Pack \\n\\nYou're fucking insane and drunk with power. Instead of totally removing big Howard Stern guys like Crackhead Bob and Fred the Elephant Boy, why not just remove the parts that your majesty finds offensive?\",\n",
       "       'Not according to Wikipedia policy. With respect 99.231.50.255  Pavel Golikov.',\n",
       "       \"You just revert my and a lot of peoples work, to improve wiki. So you're a motherfucker. How dare you block an user or users, just because he or she reverted your destructive activite. Shame on you.\\nShitface Anna Frodesiak\",\n",
       "       ...,\n",
       "       'The Criticism section \\n\\nThe way the criticism section reads at the time of this writing is quite okay, in my opinion. It brings up the most important, on point criticisms of the mainstream in a very readable, well sourced manner, without superfluous ad hominem comments. It also include a reasonable level of Austrian responses to the criticisms. In my view, there is no need for any further changes.\\n\\nThe Mises-slur is, again, completely redundant and serves no purpose whatsoever. I therefore suggest that the section is left as it is.',\n",
       "       'Piss on me \\n\\nP!SS ON ME, YOU BIMBO!',\n",
       "       \"''' Gogo giving blowjobs on demand\"], dtype=object)"
      ]
     },
     "execution_count": 160,
     "metadata": {},
     "output_type": "execute_result"
    }
   ],
   "source": [
    "sentences = df['comment_text'].values\n",
    "y = df['toxic'].values\n",
    "sentences"
   ]
  },
  {
   "cell_type": "code",
   "execution_count": 161,
   "id": "ea7eff39",
   "metadata": {},
   "outputs": [
    {
     "name": "stdout",
     "output_type": "stream",
     "text": [
      "train: 21411 validation: 6148 test 3029\n"
     ]
    }
   ],
   "source": [
    "# sentences_train, sentences_test, y_train, y_test = train_test_split(\n",
    "#                                                 sentences, y,  \n",
    "#                                                 test_size=0.25,  \n",
    "#                                                 random_state=42)\n",
    "\n",
    "# Create a train, validate and test dataset \n",
    "# train 70%, validation 20%, test 10%\n",
    "\n",
    "X_train, X_rest, y_train, y_rest = train_test_split(sentences, y, test_size=0.3, random_state=1)\n",
    "X_val, X_test, y_val, y_test = train_test_split(X_rest, y_rest, test_size=0.33, random_state=1)\n",
    "\n",
    "print(\"train:\", len(X_train), \"validation:\", len(X_val), \"test\", len(X_test))\n",
    "\n"
   ]
  },
  {
   "cell_type": "code",
   "execution_count": 162,
   "id": "5fbc73c4",
   "metadata": {},
   "outputs": [],
   "source": [
    "# Preprocess the data\n",
    "\n",
    "NUM_WORDS = 10000\n",
    "\n",
    "# Using max_len = 200 for consistency \n",
    "MAX_LEN = 200\n",
    "\n",
    "tokenizer = Tokenizer(num_words=NUM_WORDS)\n",
    "tokenizer.fit_on_texts(X_train)\n",
    "X_train = tokenizer.texts_to_sequences(X_train)\n",
    "X_val = tokenizer.texts_to_sequences(X_val)\n",
    "X_test = tokenizer.texts_to_sequences(X_test)\n",
    "# maxlen = max([len(x) for x in X_train])\n",
    "# 325\n",
    "# print(f\"X_train max len: {maxlen}\")\n",
    "X_train = pad_sequences(X_train, padding='post', maxlen=MAX_LEN)\n",
    "X_val = pad_sequences(X_val, padding='post', maxlen=MAX_LEN)\n",
    "X_test = pad_sequences(X_test, padding='post', maxlen=MAX_LEN)"
   ]
  },
  {
   "cell_type": "code",
   "execution_count": 163,
   "id": "82f63565",
   "metadata": {},
   "outputs": [],
   "source": [
    "# Adding 1 because of  reserved 0 index\n",
    "# vocab_size = len(tokenizer.word_index) + 1\n",
    "# vocab_size = len(tokenizer.word_index)\n",
    "\n",
    "# maxlen = 100\n",
    "\n",
    "# X_train = pad_sequences(X_train, padding='post', maxlen=maxlen)\n",
    "# X_test = pad_sequences(X_test, padding='post', maxlen=maxlen)"
   ]
  },
  {
   "cell_type": "markdown",
   "id": "d094146f",
   "metadata": {},
   "source": [
    "### Create Embedding Matrix \n",
    "\n",
    "\n",
    "Using pre-tarined embeddings from GloVe"
   ]
  },
  {
   "cell_type": "code",
   "execution_count": 164,
   "id": "e1a3b54d",
   "metadata": {},
   "outputs": [],
   "source": [
    "# VECTOR_CACHE_DIR = '/Users/irsaashraf/Desktop/UChicago/Spring_23/Advanced ML/Project/Irsa_project'\n",
    "\n",
    "# glove = GloVe(name='6B', cache = VECTOR_CACHE_DIR)\n",
    "glove = GloVe(name='6B')\n",
    "\n",
    "\n",
    "words = [\"hello\", \"hi\", \"king\", \"president\"]\n",
    "vecs = glove.get_vecs_by_tokens(words)"
   ]
  },
  {
   "cell_type": "code",
   "execution_count": 165,
   "id": "2454b478",
   "metadata": {},
   "outputs": [],
   "source": [
    "def create_embedding_matrix(filepath, word_index, embedding_dim):\n",
    "    \n",
    "    vocab_size = len(word_index) + 1 \n",
    "    # Adding 1 because of reserved 0 index\n",
    "    \n",
    "    embedding_matrix = np.zeros((vocab_size, embedding_dim))\n",
    "    \n",
    "    # Load the pre-trained GloVe embeddings\n",
    "    embeddings_index = {}\n",
    "    with open(filepath, encoding='utf-8') as f:\n",
    "        for line in f:\n",
    "            values = line.split()\n",
    "            word = values[0]\n",
    "            coefs = np.asarray(values[1:], dtype='float32')\n",
    "            if word in word_index:\n",
    "                idx = word_index[word]\n",
    "                embedding_matrix[idx] = coefs\n",
    "\n",
    "    return embedding_matrix"
   ]
  },
  {
   "cell_type": "code",
   "execution_count": 166,
   "id": "563fbec7",
   "metadata": {},
   "outputs": [],
   "source": [
    "# vocab_size = len(word_index) \n",
    "\n",
    "# embedding_matrix = np.zeros((vocab_size, 300))\n",
    "# embedding_matrix"
   ]
  },
  {
   "cell_type": "code",
   "execution_count": 167,
   "id": "bf27c684",
   "metadata": {},
   "outputs": [],
   "source": [
    "EMBEDDING_DIM = 300\n",
    "glove_filename = 'glove.6B.300d.txt'\n",
    "glove_filepath = '/Users/irsaashraf/Desktop/UChicago/Spring_23/Advanced ML/Project/Irsa_project/glove.6B'\n",
    "glove_filepath_final = os.path.join(glove_filepath, glove_filename)\n",
    "\n",
    "word_index = tokenizer.word_index\n",
    "\n",
    "embedding_matrix = create_embedding_matrix(glove_filepath_final, word_index, EMBEDDING_DIM)\n",
    "\n"
   ]
  },
  {
   "cell_type": "code",
   "execution_count": 168,
   "id": "955c05ba",
   "metadata": {},
   "outputs": [],
   "source": [
    "from keras.models import Sequential\n",
    "from keras.layers import Embedding, Conv1D, GlobalMaxPooling1D, Dense, Dropout"
   ]
  },
  {
   "cell_type": "code",
   "execution_count": 169,
   "id": "27d90b9f",
   "metadata": {},
   "outputs": [],
   "source": [
    "# Use keras to define the model architecture of the CNN\n",
    "\n",
    "FILTERS= 64\n",
    "KERNEL_SIZE=5\n",
    "ACTIVATION='relu'\n",
    "ACTIVATION_LAST='sigmoid'\n",
    "VOCAB_SIZE = len(word_index)+1\n",
    "DROPOUT = 0.5\n",
    "UNITS_FIRST = 64\n",
    "UNITS_SECOND = 1\n",
    "\n",
    "\n",
    "model = Sequential()\n",
    "model.add(Embedding(input_dim=VOCAB_SIZE, output_dim=EMBEDDING_DIM, weights=[embedding_matrix],input_length=MAX_LEN, trainable=False))\n",
    "model.add(Conv1D(filters=FILTERS, kernel_size=KERNEL_SIZE, activation=ACTIVATION))\n",
    "model.add(GlobalMaxPooling1D())\n",
    "model.add(Dense(units=UNITS_FIRST, activation=ACTIVATION))\n",
    "model.add(Dropout(DROPOUT))\n",
    "model.add(Dense(units=UNITS_SECOND, activation=ACTIVATION_LAST))\n"
   ]
  },
  {
   "cell_type": "code",
   "execution_count": 170,
   "id": "980fc608",
   "metadata": {},
   "outputs": [],
   "source": [
    "# Compile the model\n",
    "\n",
    "model.compile(optimizer='adam',\n",
    "              loss='binary_crossentropy',\n",
    "              metrics=['accuracy'])\n",
    "\n"
   ]
  },
  {
   "cell_type": "code",
   "execution_count": 171,
   "id": "fa0fa844",
   "metadata": {},
   "outputs": [
    {
     "name": "stdout",
     "output_type": "stream",
     "text": [
      "Model: \"sequential_3\"\n",
      "_________________________________________________________________\n",
      " Layer (type)                Output Shape              Param #   \n",
      "=================================================================\n",
      " embedding_3 (Embedding)     (None, 200, 300)          16449300  \n",
      "                                                                 \n",
      " conv1d_3 (Conv1D)           (None, 196, 64)           96064     \n",
      "                                                                 \n",
      " global_max_pooling1d_3 (Glo  (None, 64)               0         \n",
      " balMaxPooling1D)                                                \n",
      "                                                                 \n",
      " dense_6 (Dense)             (None, 64)                4160      \n",
      "                                                                 \n",
      " dropout_3 (Dropout)         (None, 64)                0         \n",
      "                                                                 \n",
      " dense_7 (Dense)             (None, 1)                 65        \n",
      "                                                                 \n",
      "=================================================================\n",
      "Total params: 16,549,589\n",
      "Trainable params: 100,289\n",
      "Non-trainable params: 16,449,300\n",
      "_________________________________________________________________\n"
     ]
    }
   ],
   "source": [
    "model.summary()"
   ]
  },
  {
   "cell_type": "code",
   "execution_count": 172,
   "id": "355cad4b",
   "metadata": {},
   "outputs": [
    {
     "name": "stdout",
     "output_type": "stream",
     "text": [
      "Epoch 1/50\n",
      "1339/1339 [==============================] - 20s 15ms/step - loss: 0.2919 - accuracy: 0.8783 - val_loss: 0.2489 - val_accuracy: 0.8943\n",
      "Epoch 2/50\n",
      "1339/1339 [==============================] - 22s 16ms/step - loss: 0.2132 - accuracy: 0.9154 - val_loss: 0.2477 - val_accuracy: 0.8987\n",
      "Epoch 3/50\n",
      "1339/1339 [==============================] - 18s 14ms/step - loss: 0.1653 - accuracy: 0.9374 - val_loss: 0.2755 - val_accuracy: 0.8988\n",
      "Epoch 4/50\n",
      "1339/1339 [==============================] - 17s 13ms/step - loss: 0.1232 - accuracy: 0.9539 - val_loss: 0.2991 - val_accuracy: 0.8980\n",
      "Epoch 5/50\n",
      "1339/1339 [==============================] - 18s 14ms/step - loss: 0.0874 - accuracy: 0.9685 - val_loss: 0.4556 - val_accuracy: 0.8837\n",
      "Epoch 6/50\n",
      "1339/1339 [==============================] - 17s 13ms/step - loss: 0.0628 - accuracy: 0.9772 - val_loss: 0.4518 - val_accuracy: 0.8824\n",
      "Epoch 7/50\n",
      "1339/1339 [==============================] - 17s 13ms/step - loss: 0.0517 - accuracy: 0.9829 - val_loss: 0.5094 - val_accuracy: 0.8886\n",
      "Epoch 8/50\n",
      "1339/1339 [==============================] - 18s 13ms/step - loss: 0.0423 - accuracy: 0.9846 - val_loss: 0.4953 - val_accuracy: 0.8917\n",
      "Epoch 9/50\n",
      "1339/1339 [==============================] - 19s 14ms/step - loss: 0.0346 - accuracy: 0.9882 - val_loss: 0.5893 - val_accuracy: 0.8922\n",
      "Epoch 10/50\n",
      "1339/1339 [==============================] - 20s 15ms/step - loss: 0.0309 - accuracy: 0.9885 - val_loss: 0.7281 - val_accuracy: 0.8915\n",
      "Epoch 11/50\n",
      "1339/1339 [==============================] - 18s 13ms/step - loss: 0.0319 - accuracy: 0.9889 - val_loss: 0.6153 - val_accuracy: 0.8861\n",
      "Epoch 12/50\n",
      "1339/1339 [==============================] - 18s 13ms/step - loss: 0.0253 - accuracy: 0.9911 - val_loss: 0.7395 - val_accuracy: 0.8848\n",
      "Epoch 13/50\n",
      "1339/1339 [==============================] - 17s 13ms/step - loss: 0.0215 - accuracy: 0.9933 - val_loss: 0.8241 - val_accuracy: 0.8876\n",
      "Epoch 14/50\n",
      "1339/1339 [==============================] - 18s 13ms/step - loss: 0.0249 - accuracy: 0.9908 - val_loss: 0.7416 - val_accuracy: 0.8892\n",
      "Epoch 15/50\n",
      "1339/1339 [==============================] - 18s 14ms/step - loss: 0.0238 - accuracy: 0.9915 - val_loss: 0.7004 - val_accuracy: 0.8878\n",
      "Epoch 16/50\n",
      "1339/1339 [==============================] - 18s 13ms/step - loss: 0.0214 - accuracy: 0.9929 - val_loss: 0.8855 - val_accuracy: 0.8834\n",
      "Epoch 17/50\n",
      "1339/1339 [==============================] - 18s 14ms/step - loss: 0.0183 - accuracy: 0.9941 - val_loss: 0.8811 - val_accuracy: 0.8852\n",
      "Epoch 18/50\n",
      "1339/1339 [==============================] - 18s 14ms/step - loss: 0.0188 - accuracy: 0.9939 - val_loss: 0.8087 - val_accuracy: 0.8883\n",
      "Epoch 19/50\n",
      "1339/1339 [==============================] - 19s 14ms/step - loss: 0.0154 - accuracy: 0.9952 - val_loss: 1.0493 - val_accuracy: 0.8699\n",
      "Epoch 20/50\n",
      "1339/1339 [==============================] - 19s 14ms/step - loss: 0.0159 - accuracy: 0.9942 - val_loss: 0.9288 - val_accuracy: 0.8831\n",
      "Epoch 21/50\n",
      "1339/1339 [==============================] - 18s 14ms/step - loss: 0.0169 - accuracy: 0.9949 - val_loss: 0.7525 - val_accuracy: 0.8788\n",
      "Epoch 22/50\n",
      "1339/1339 [==============================] - 20s 15ms/step - loss: 0.0161 - accuracy: 0.9946 - val_loss: 0.9154 - val_accuracy: 0.8791\n",
      "Epoch 23/50\n",
      "1339/1339 [==============================] - 23s 17ms/step - loss: 0.0096 - accuracy: 0.9970 - val_loss: 0.8979 - val_accuracy: 0.8824\n",
      "Epoch 24/50\n",
      "1339/1339 [==============================] - 20s 15ms/step - loss: 0.0166 - accuracy: 0.9943 - val_loss: 0.8806 - val_accuracy: 0.8850\n",
      "Epoch 25/50\n",
      "1339/1339 [==============================] - 19s 15ms/step - loss: 0.0168 - accuracy: 0.9943 - val_loss: 0.8567 - val_accuracy: 0.8892\n",
      "Epoch 26/50\n",
      "1339/1339 [==============================] - 19s 15ms/step - loss: 0.0122 - accuracy: 0.9957 - val_loss: 1.2207 - val_accuracy: 0.8866\n",
      "Epoch 27/50\n",
      "1339/1339 [==============================] - 19s 14ms/step - loss: 0.0152 - accuracy: 0.9950 - val_loss: 0.8780 - val_accuracy: 0.8905\n",
      "Epoch 28/50\n",
      "1339/1339 [==============================] - 21s 15ms/step - loss: 0.0105 - accuracy: 0.9962 - val_loss: 0.9556 - val_accuracy: 0.8871\n",
      "Epoch 29/50\n",
      "1339/1339 [==============================] - 19s 14ms/step - loss: 0.0131 - accuracy: 0.9956 - val_loss: 0.9816 - val_accuracy: 0.8868\n",
      "Epoch 30/50\n",
      "1339/1339 [==============================] - 19s 14ms/step - loss: 0.0143 - accuracy: 0.9951 - val_loss: 0.8939 - val_accuracy: 0.8865\n",
      "Epoch 31/50\n",
      "1339/1339 [==============================] - 20s 15ms/step - loss: 0.0080 - accuracy: 0.9969 - val_loss: 1.1378 - val_accuracy: 0.8896\n",
      "Epoch 32/50\n",
      "1339/1339 [==============================] - 19s 14ms/step - loss: 0.0132 - accuracy: 0.9957 - val_loss: 0.9570 - val_accuracy: 0.8909\n",
      "Epoch 33/50\n",
      "1339/1339 [==============================] - 20s 15ms/step - loss: 0.0089 - accuracy: 0.9971 - val_loss: 1.0408 - val_accuracy: 0.8845\n",
      "Epoch 34/50\n",
      "1339/1339 [==============================] - 19s 14ms/step - loss: 0.0100 - accuracy: 0.9967 - val_loss: 1.0281 - val_accuracy: 0.8814\n",
      "Epoch 35/50\n",
      "1339/1339 [==============================] - 19s 14ms/step - loss: 0.0105 - accuracy: 0.9963 - val_loss: 1.1492 - val_accuracy: 0.8861\n",
      "Epoch 36/50\n",
      "1339/1339 [==============================] - 20s 15ms/step - loss: 0.0092 - accuracy: 0.9974 - val_loss: 1.0046 - val_accuracy: 0.8831\n",
      "Epoch 37/50\n",
      "1339/1339 [==============================] - 21s 16ms/step - loss: 0.0121 - accuracy: 0.9962 - val_loss: 1.0177 - val_accuracy: 0.8860\n",
      "Epoch 38/50\n",
      "1339/1339 [==============================] - 19s 15ms/step - loss: 0.0102 - accuracy: 0.9965 - val_loss: 1.1923 - val_accuracy: 0.8858\n",
      "Epoch 39/50\n",
      "1339/1339 [==============================] - 19s 14ms/step - loss: 0.0094 - accuracy: 0.9972 - val_loss: 1.0269 - val_accuracy: 0.8870\n",
      "Epoch 40/50\n",
      "1339/1339 [==============================] - 18s 14ms/step - loss: 0.0086 - accuracy: 0.9972 - val_loss: 1.2973 - val_accuracy: 0.8886\n",
      "Epoch 41/50\n",
      "1339/1339 [==============================] - 18s 13ms/step - loss: 0.0081 - accuracy: 0.9970 - val_loss: 1.3037 - val_accuracy: 0.8842\n",
      "Epoch 42/50\n",
      "1339/1339 [==============================] - 18s 13ms/step - loss: 0.0092 - accuracy: 0.9972 - val_loss: 1.3742 - val_accuracy: 0.8902\n",
      "Epoch 43/50\n",
      "1339/1339 [==============================] - 19s 14ms/step - loss: 0.0087 - accuracy: 0.9973 - val_loss: 1.1712 - val_accuracy: 0.8897\n",
      "Epoch 44/50\n",
      "1339/1339 [==============================] - 18s 13ms/step - loss: 0.0079 - accuracy: 0.9973 - val_loss: 1.3164 - val_accuracy: 0.8866\n",
      "Epoch 45/50\n",
      "1339/1339 [==============================] - 18s 13ms/step - loss: 0.0090 - accuracy: 0.9972 - val_loss: 1.3125 - val_accuracy: 0.8847\n",
      "Epoch 46/50\n",
      "1339/1339 [==============================] - 18s 13ms/step - loss: 0.0086 - accuracy: 0.9972 - val_loss: 1.2386 - val_accuracy: 0.8891\n",
      "Epoch 47/50\n",
      "1339/1339 [==============================] - 17s 13ms/step - loss: 0.0071 - accuracy: 0.9981 - val_loss: 1.2423 - val_accuracy: 0.8870\n",
      "Epoch 48/50\n",
      "1339/1339 [==============================] - 17s 13ms/step - loss: 0.0102 - accuracy: 0.9970 - val_loss: 1.3269 - val_accuracy: 0.8899\n",
      "Epoch 49/50\n",
      "1339/1339 [==============================] - 17s 13ms/step - loss: 0.0091 - accuracy: 0.9973 - val_loss: 1.2692 - val_accuracy: 0.8868\n",
      "Epoch 50/50\n",
      "1339/1339 [==============================] - 18s 14ms/step - loss: 0.0080 - accuracy: 0.9974 - val_loss: 1.3636 - val_accuracy: 0.8904\n",
      "Time taken to complete all 50 epochs: 936.5212516784668 seconds\n"
     ]
    }
   ],
   "source": [
    "# Train the model\n",
    "EPOCHS = 50\n",
    "\n",
    "start_time = time.time()\n",
    "history = model.fit(X_train, y_train,\n",
    "                    epochs=EPOCHS,\n",
    "                    validation_data=(X_val, y_val),\n",
    "                    batch_size=BATCH_SIZE)\n",
    "\n",
    "print(f'Time taken to complete all {EPOCHS} epochs: {time.time() - start_time} seconds')"
   ]
  },
  {
   "cell_type": "code",
   "execution_count": 173,
   "id": "6da230d4",
   "metadata": {},
   "outputs": [
    {
     "name": "stdout",
     "output_type": "stream",
     "text": [
      "95/95 [==============================] - 1s 9ms/step\n",
      "              precision    recall  f1-score   support\n",
      "\n",
      "           0       0.89      0.91      0.90      1510\n",
      "           1       0.91      0.89      0.90      1519\n",
      "\n",
      "    accuracy                           0.90      3029\n",
      "   macro avg       0.90      0.90      0.90      3029\n",
      "weighted avg       0.90      0.90      0.90      3029\n",
      "\n"
     ]
    }
   ],
   "source": [
    "# Get prediction metrics\n",
    "\n",
    "y_pred = model.predict(X_test)\n",
    "y_pred = (y_pred > 0.5).astype(int)\n",
    "print(classification_report(y_test, y_pred))"
   ]
  },
  {
   "cell_type": "code",
   "execution_count": 176,
   "id": "1f795956",
   "metadata": {},
   "outputs": [
    {
     "name": "stdout",
     "output_type": "stream",
     "text": [
      "670/670 [==============================] - 7s 10ms/step - loss: 0.0019 - accuracy: 0.9991\n",
      "Training Accuracy: 0.9991\n",
      "Validation Accuracy:  0.8904\n",
      "Testing Accuracy:  0.9000\n"
     ]
    },
    {
     "data": {
      "image/png": "[encoded data removed]",
      "text/plain": [
       "<Figure size 1200x500 with 2 Axes>"
      ]
     },
     "metadata": {},
     "output_type": "display_data"
    }
   ],
   "source": [
    "# Plot results \n",
    "\n",
    "loss_train, accuracy_train = model.evaluate(X_train, y_train)\n",
    "print(\"Training Accuracy: {:.4f}\".format(accuracy_train))\n",
    "loss_val, accuracy_val = model.evaluate(X_val, y_val, verbose=False)\n",
    "print(\"Validation Accuracy:  {:.4f}\".format(accuracy_val))\n",
    "loss_test, accuracy_test = model.evaluate(X_test, y_test, verbose=False)\n",
    "print(\"Testing Accuracy:  {:.4f}\".format(accuracy_test))\n",
    "plot_history(history)"
   ]
  },
  {
   "cell_type": "code",
   "execution_count": 185,
   "id": "8f82ea52",
   "metadata": {},
   "outputs": [
    {
     "data": {
      "image/png": "[encoded data removed]",
      "text/plain": [
       "<Figure size 800x500 with 1 Axes>"
      ]
     },
     "metadata": {},
     "output_type": "display_data"
    }
   ],
   "source": [
    "acc_dict = {'train': accuracy_train, 'validate':accuracy_val, 'test':accuracy_test}\n",
    "x_ = list(acc_dict.keys())\n",
    "values = list(acc_dict.values())\n",
    "\n",
    "  \n",
    "fig = plt.figure(figsize = (8, 5))\n",
    " \n",
    "# creating the bar plot\n",
    "plt.bar(x_, values, color ='green',\n",
    "        width = 0.3)\n",
    " \n",
    "# plt.xlabel(\"Dataset\")\n",
    "plt.ylabel(\"Accuracy\")\n",
    "plt.title(\"Accuracy for Train, Validate and Test Datasets\")\n",
    "plt.show()"
   ]
  },
  {
   "cell_type": "code",
   "execution_count": null,
   "id": "fd2a421e",
   "metadata": {},
   "outputs": [],
   "source": [
    "## SAVE THE MODEL TO DISK ##\n",
    "\n",
    "model.save(\"model1_50epochs.h5\")\n",
    "print(\"Saved model to disk\")"
   ]
  },
  {
   "cell_type": "markdown",
   "id": "03ae109b",
   "metadata": {},
   "source": [
    "## Use the model to test on unseen comment data from the youtube comments dataset"
   ]
  },
  {
   "cell_type": "code",
   "execution_count": null,
   "id": "9837c375",
   "metadata": {},
   "outputs": [],
   "source": []
  },
  {
   "cell_type": "code",
   "execution_count": null,
   "id": "0802caba",
   "metadata": {},
   "outputs": [],
   "source": [
    "# test load the model \n",
    "# from tensorflow.keras.models import load_model\n",
    "# # load model\n",
    "# model = load_model('model.h5')\n",
    "# # print summary\n",
    "# model.summary()"
   ]
  },
  {
   "cell_type": "code",
   "execution_count": null,
   "id": "fe2ae70d",
   "metadata": {},
   "outputs": [],
   "source": []
  },
  {
   "cell_type": "code",
   "execution_count": null,
   "id": "9d89c762",
   "metadata": {},
   "outputs": [],
   "source": []
  },
  {
   "cell_type": "code",
   "execution_count": null,
   "id": "d39e4451",
   "metadata": {},
   "outputs": [],
   "source": []
  },
  {
   "cell_type": "code",
   "execution_count": null,
   "id": "dc3f51e3",
   "metadata": {},
   "outputs": [],
   "source": []
  }
 ],
 "metadata": {
  "kernelspec": {
   "display_name": "Python [conda env:capp30255]",
   "language": "python",
   "name": "conda-env-capp30255-py"
  },
  "language_info": {
   "codemirror_mode": {
    "name": "ipython",
    "version": 3
   },
   "file_extension": ".py",
   "mimetype": "text/x-python",
   "name": "python",
   "nbconvert_exporter": "python",
   "pygments_lexer": "ipython3",
   "version": "3.10.11"
  }
 },
 "nbformat": 4,
 "nbformat_minor": 5
}
