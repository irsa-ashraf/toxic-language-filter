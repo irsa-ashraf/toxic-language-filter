{
 "cells": [
  {
   "cell_type": "markdown",
   "id": "1e94a4cd",
   "metadata": {},
   "source": [
    "Reference:\n",
    "\n",
    "https://medium.com/saarthi-ai/sentence-classification-using-convolutional-neural-networks-ddad72c7048c"
   ]
  },
  {
   "cell_type": "code",
   "execution_count": 1,
   "id": "3154dfa1",
   "metadata": {},
   "outputs": [],
   "source": [
    "import pandas as pd\n",
    "import numpy as np \n",
    "import matplotlib.pyplot as plt\n",
    "from torchtext.vocab import GloVe\n",
    "from itertools import combinations\n"
   ]
  },
  {
   "cell_type": "code",
   "execution_count": 2,
   "id": "ade6695f",
   "metadata": {},
   "outputs": [
    {
     "data": {
      "text/html": [
       "<div>\n",
       "<style scoped>\n",
       "    .dataframe tbody tr th:only-of-type {\n",
       "        vertical-align: middle;\n",
       "    }\n",
       "\n",
       "    .dataframe tbody tr th {\n",
       "        vertical-align: top;\n",
       "    }\n",
       "\n",
       "    .dataframe thead th {\n",
       "        text-align: right;\n",
       "    }\n",
       "</style>\n",
       "<table border=\"1\" class=\"dataframe\">\n",
       "  <thead>\n",
       "    <tr style=\"text-align: right;\">\n",
       "      <th></th>\n",
       "      <th>id</th>\n",
       "      <th>comment_text</th>\n",
       "      <th>toxic</th>\n",
       "      <th>severe_toxic</th>\n",
       "      <th>obscene</th>\n",
       "      <th>threat</th>\n",
       "      <th>insult</th>\n",
       "      <th>identity_hate</th>\n",
       "    </tr>\n",
       "  </thead>\n",
       "  <tbody>\n",
       "    <tr>\n",
       "      <th>0</th>\n",
       "      <td>0000997932d777bf</td>\n",
       "      <td>Explanation\\nWhy the edits made under my usern...</td>\n",
       "      <td>0</td>\n",
       "      <td>0</td>\n",
       "      <td>0</td>\n",
       "      <td>0</td>\n",
       "      <td>0</td>\n",
       "      <td>0</td>\n",
       "    </tr>\n",
       "    <tr>\n",
       "      <th>1</th>\n",
       "      <td>000103f0d9cfb60f</td>\n",
       "      <td>D'aww! He matches this background colour I'm s...</td>\n",
       "      <td>0</td>\n",
       "      <td>0</td>\n",
       "      <td>0</td>\n",
       "      <td>0</td>\n",
       "      <td>0</td>\n",
       "      <td>0</td>\n",
       "    </tr>\n",
       "    <tr>\n",
       "      <th>2</th>\n",
       "      <td>000113f07ec002fd</td>\n",
       "      <td>Hey man, I'm really not trying to edit war. It...</td>\n",
       "      <td>0</td>\n",
       "      <td>0</td>\n",
       "      <td>0</td>\n",
       "      <td>0</td>\n",
       "      <td>0</td>\n",
       "      <td>0</td>\n",
       "    </tr>\n",
       "    <tr>\n",
       "      <th>3</th>\n",
       "      <td>0001b41b1c6bb37e</td>\n",
       "      <td>\"\\nMore\\nI can't make any real suggestions on ...</td>\n",
       "      <td>0</td>\n",
       "      <td>0</td>\n",
       "      <td>0</td>\n",
       "      <td>0</td>\n",
       "      <td>0</td>\n",
       "      <td>0</td>\n",
       "    </tr>\n",
       "    <tr>\n",
       "      <th>4</th>\n",
       "      <td>0001d958c54c6e35</td>\n",
       "      <td>You, sir, are my hero. Any chance you remember...</td>\n",
       "      <td>0</td>\n",
       "      <td>0</td>\n",
       "      <td>0</td>\n",
       "      <td>0</td>\n",
       "      <td>0</td>\n",
       "      <td>0</td>\n",
       "    </tr>\n",
       "  </tbody>\n",
       "</table>\n",
       "</div>"
      ],
      "text/plain": [
       "                 id                                       comment_text  toxic  \\\n",
       "0  0000997932d777bf  Explanation\\nWhy the edits made under my usern...      0   \n",
       "1  000103f0d9cfb60f  D'aww! He matches this background colour I'm s...      0   \n",
       "2  000113f07ec002fd  Hey man, I'm really not trying to edit war. It...      0   \n",
       "3  0001b41b1c6bb37e  \"\\nMore\\nI can't make any real suggestions on ...      0   \n",
       "4  0001d958c54c6e35  You, sir, are my hero. Any chance you remember...      0   \n",
       "\n",
       "   severe_toxic  obscene  threat  insult  identity_hate  \n",
       "0             0        0       0       0              0  \n",
       "1             0        0       0       0              0  \n",
       "2             0        0       0       0              0  \n",
       "3             0        0       0       0              0  \n",
       "4             0        0       0       0              0  "
      ]
     },
     "execution_count": 2,
     "metadata": {},
     "output_type": "execute_result"
    }
   ],
   "source": [
    "file_path = '/Users/irsaashraf/Desktop/UChicago/Spring_23/Advanced ML/Project/Irsa_project/train.csv'\n",
    "df = pd.read_csv(file_path)\n",
    "df.head()"
   ]
  },
  {
   "cell_type": "markdown",
   "id": "b73551c5",
   "metadata": {},
   "source": [
    "Toxic and non-toxic first"
   ]
  },
  {
   "cell_type": "code",
   "execution_count": 3,
   "id": "82c3f14e",
   "metadata": {},
   "outputs": [
    {
     "data": {
      "text/plain": [
       "0    144277\n",
       "1     15294\n",
       "Name: toxic, dtype: int64"
      ]
     },
     "execution_count": 3,
     "metadata": {},
     "output_type": "execute_result"
    }
   ],
   "source": [
    "df['toxic'].value_counts()"
   ]
  },
  {
   "cell_type": "markdown",
   "id": "c4366a39",
   "metadata": {},
   "source": [
    "Dealing with imbalanced data. Keep all 15294 rows for toxic comments and 16000 rows from non-toxic comments"
   ]
  },
  {
   "cell_type": "code",
   "execution_count": 4,
   "id": "99151c0d",
   "metadata": {},
   "outputs": [
    {
     "data": {
      "text/html": [
       "<div>\n",
       "<style scoped>\n",
       "    .dataframe tbody tr th:only-of-type {\n",
       "        vertical-align: middle;\n",
       "    }\n",
       "\n",
       "    .dataframe tbody tr th {\n",
       "        vertical-align: top;\n",
       "    }\n",
       "\n",
       "    .dataframe thead th {\n",
       "        text-align: right;\n",
       "    }\n",
       "</style>\n",
       "<table border=\"1\" class=\"dataframe\">\n",
       "  <thead>\n",
       "    <tr style=\"text-align: right;\">\n",
       "      <th></th>\n",
       "      <th>id</th>\n",
       "      <th>comment_text</th>\n",
       "      <th>toxic</th>\n",
       "      <th>severe_toxic</th>\n",
       "      <th>obscene</th>\n",
       "      <th>threat</th>\n",
       "      <th>insult</th>\n",
       "      <th>identity_hate</th>\n",
       "    </tr>\n",
       "  </thead>\n",
       "  <tbody>\n",
       "    <tr>\n",
       "      <th>0</th>\n",
       "      <td>73aeca9ac47fc045</td>\n",
       "      <td>This article is a piece of dogshit written by ...</td>\n",
       "      <td>1</td>\n",
       "      <td>0</td>\n",
       "      <td>1</td>\n",
       "      <td>0</td>\n",
       "      <td>1</td>\n",
       "      <td>0</td>\n",
       "    </tr>\n",
       "    <tr>\n",
       "      <th>1</th>\n",
       "      <td>d21bd0dd8173a568</td>\n",
       "      <td>You... \\n\\nI think you are a horrible person. ...</td>\n",
       "      <td>1</td>\n",
       "      <td>0</td>\n",
       "      <td>0</td>\n",
       "      <td>0</td>\n",
       "      <td>0</td>\n",
       "      <td>0</td>\n",
       "    </tr>\n",
       "    <tr>\n",
       "      <th>2</th>\n",
       "      <td>63b2199ab0ed0bcb</td>\n",
       "      <td>Well, dark green is the color of Islam, so lig...</td>\n",
       "      <td>0</td>\n",
       "      <td>0</td>\n",
       "      <td>0</td>\n",
       "      <td>0</td>\n",
       "      <td>0</td>\n",
       "      <td>0</td>\n",
       "    </tr>\n",
       "    <tr>\n",
       "      <th>3</th>\n",
       "      <td>0273ce236b01e35f</td>\n",
       "      <td>Why?\\nDo you really have to do that. I know it...</td>\n",
       "      <td>0</td>\n",
       "      <td>0</td>\n",
       "      <td>0</td>\n",
       "      <td>0</td>\n",
       "      <td>0</td>\n",
       "      <td>0</td>\n",
       "    </tr>\n",
       "    <tr>\n",
       "      <th>4</th>\n",
       "      <td>c5430437bdd174a2</td>\n",
       "      <td>i hope you die you fucking pedophile. i gave y...</td>\n",
       "      <td>1</td>\n",
       "      <td>0</td>\n",
       "      <td>1</td>\n",
       "      <td>1</td>\n",
       "      <td>1</td>\n",
       "      <td>1</td>\n",
       "    </tr>\n",
       "    <tr>\n",
       "      <th>...</th>\n",
       "      <td>...</td>\n",
       "      <td>...</td>\n",
       "      <td>...</td>\n",
       "      <td>...</td>\n",
       "      <td>...</td>\n",
       "      <td>...</td>\n",
       "      <td>...</td>\n",
       "      <td>...</td>\n",
       "    </tr>\n",
       "    <tr>\n",
       "      <th>31289</th>\n",
       "      <td>8a989b5ff3b5b36a</td>\n",
       "      <td>, I fail to see any reason to shift away from ...</td>\n",
       "      <td>0</td>\n",
       "      <td>0</td>\n",
       "      <td>0</td>\n",
       "      <td>0</td>\n",
       "      <td>0</td>\n",
       "      <td>0</td>\n",
       "    </tr>\n",
       "    <tr>\n",
       "      <th>31290</th>\n",
       "      <td>7dbc1e99ae628417</td>\n",
       "      <td>I too am a gay pedophile</td>\n",
       "      <td>1</td>\n",
       "      <td>0</td>\n",
       "      <td>0</td>\n",
       "      <td>0</td>\n",
       "      <td>0</td>\n",
       "      <td>1</td>\n",
       "    </tr>\n",
       "    <tr>\n",
       "      <th>31291</th>\n",
       "      <td>ded9557446dce740</td>\n",
       "      <td>\"The \"\"Calypso\"\" in Pirates of the Caribbean: ...</td>\n",
       "      <td>0</td>\n",
       "      <td>0</td>\n",
       "      <td>0</td>\n",
       "      <td>0</td>\n",
       "      <td>0</td>\n",
       "      <td>0</td>\n",
       "    </tr>\n",
       "    <tr>\n",
       "      <th>31292</th>\n",
       "      <td>72c2d8fc8ff35b38</td>\n",
       "      <td>Thanks for the heads up asshole.</td>\n",
       "      <td>1</td>\n",
       "      <td>0</td>\n",
       "      <td>1</td>\n",
       "      <td>0</td>\n",
       "      <td>1</td>\n",
       "      <td>0</td>\n",
       "    </tr>\n",
       "    <tr>\n",
       "      <th>31293</th>\n",
       "      <td>1a7fe52027af85c8</td>\n",
       "      <td>Oh, guess what? This is all fucking pointless....</td>\n",
       "      <td>1</td>\n",
       "      <td>0</td>\n",
       "      <td>1</td>\n",
       "      <td>0</td>\n",
       "      <td>0</td>\n",
       "      <td>0</td>\n",
       "    </tr>\n",
       "  </tbody>\n",
       "</table>\n",
       "<p>31294 rows × 8 columns</p>\n",
       "</div>"
      ],
      "text/plain": [
       "                     id                                       comment_text  \\\n",
       "0      73aeca9ac47fc045  This article is a piece of dogshit written by ...   \n",
       "1      d21bd0dd8173a568  You... \\n\\nI think you are a horrible person. ...   \n",
       "2      63b2199ab0ed0bcb  Well, dark green is the color of Islam, so lig...   \n",
       "3      0273ce236b01e35f  Why?\\nDo you really have to do that. I know it...   \n",
       "4      c5430437bdd174a2  i hope you die you fucking pedophile. i gave y...   \n",
       "...                 ...                                                ...   \n",
       "31289  8a989b5ff3b5b36a  , I fail to see any reason to shift away from ...   \n",
       "31290  7dbc1e99ae628417                           I too am a gay pedophile   \n",
       "31291  ded9557446dce740  \"The \"\"Calypso\"\" in Pirates of the Caribbean: ...   \n",
       "31292  72c2d8fc8ff35b38                   Thanks for the heads up asshole.   \n",
       "31293  1a7fe52027af85c8  Oh, guess what? This is all fucking pointless....   \n",
       "\n",
       "       toxic  severe_toxic  obscene  threat  insult  identity_hate  \n",
       "0          1             0        1       0       1              0  \n",
       "1          1             0        0       0       0              0  \n",
       "2          0             0        0       0       0              0  \n",
       "3          0             0        0       0       0              0  \n",
       "4          1             0        1       1       1              1  \n",
       "...      ...           ...      ...     ...     ...            ...  \n",
       "31289      0             0        0       0       0              0  \n",
       "31290      1             0        0       0       0              1  \n",
       "31291      0             0        0       0       0              0  \n",
       "31292      1             0        1       0       1              0  \n",
       "31293      1             0        1       0       0              0  \n",
       "\n",
       "[31294 rows x 8 columns]"
      ]
     },
     "execution_count": 4,
     "metadata": {},
     "output_type": "execute_result"
    }
   ],
   "source": [
    "# filter for only non-toxic comments \n",
    "non_toxic_df = df[df['toxic'] == 0]\n",
    "\n",
    "# randomly sample 16000 rows from this dataframe \n",
    "non_toxic_df_sample = non_toxic_df.sample(n=16000, random_state=42)\n",
    "\n",
    "# get only the rows with toxic comments \n",
    "toxic_df = df[df['toxic'] == 1]\n",
    "\n",
    "# concat both dataframes and shuffle the rows \n",
    "comment_df = pd.concat([non_toxic_df_sample, toxic_df])\n",
    "comment_df = comment_df.sample(frac=1).reset_index(drop=True)\n",
    "comment_df\n"
   ]
  },
  {
   "cell_type": "code",
   "execution_count": 5,
   "id": "e37345fd",
   "metadata": {},
   "outputs": [
    {
     "data": {
      "image/png": "[encoded data removed]",
      "text/plain": [
       "<Figure size 640x480 with 1 Axes>"
      ]
     },
     "metadata": {},
     "output_type": "display_data"
    }
   ],
   "source": [
    "plt.hist(comment_df['toxic'])\n",
    "plt.show()"
   ]
  },
  {
   "cell_type": "markdown",
   "id": "50d88b19",
   "metadata": {},
   "source": [
    "### Tokenize using keras"
   ]
  },
  {
   "cell_type": "code",
   "execution_count": 6,
   "id": "eab924fb",
   "metadata": {},
   "outputs": [
    {
     "name": "stderr",
     "output_type": "stream",
     "text": [
      "2023-05-15 19:49:59.515536: I tensorflow/core/platform/cpu_feature_guard.cc:193] This TensorFlow binary is optimized with oneAPI Deep Neural Network Library (oneDNN) to use the following CPU instructions in performance-critical operations:  SSE4.1 SSE4.2\n",
      "To enable them in other operations, rebuild TensorFlow with the appropriate compiler flags.\n"
     ]
    }
   ],
   "source": [
    "from keras.preprocessing.text import Tokenizer\n",
    "from keras_preprocessing.sequence import pad_sequences\n",
    "from sklearn.model_selection import train_test_split"
   ]
  },
  {
   "cell_type": "code",
   "execution_count": 7,
   "id": "3c8dec2b",
   "metadata": {},
   "outputs": [
    {
     "data": {
      "text/plain": [
       "array([\"This article is a piece of dogshit written by pigfuckers\\n\\nThere's no reason for this in a general interest encyclopedia.  Take it to the Battlestar Wiki.  It's garbage, and I'd like to see it deleted.\",\n",
       "       \"You... \\n\\nI think you are a horrible person. I really don't want to cause Wikihate but I don't like the way you are. You insult the president. you insult me, you are all fancy with your achives! It makes me sick!\\nOoohh, look at me, I have an Archive 01! It's so annoying. Don't you realise this?\",\n",
       "       'Well, dark green is the color of Islam, so light green does sort of make sense. Is it possible for you to make a new version of the map that shows pluralities/equal religions somehow? And also, its accepted that Lebanon is a Muslim country, coloring it in as Catholic would be misleading.  Talk|Contribs',\n",
       "       ...,\n",
       "       '\"The \"\"Calypso\"\" in Pirates of the Caribbean: At World\\'s End is NOT the Calypso of Greek mythology.  As far as I know, the only similarity is the name.  I don\\'t think that line should be included here. 75.28.100.28   EV\\n\\n\"',\n",
       "       'Thanks for the heads up asshole.',\n",
       "       'Oh, guess what? This is all fucking pointless. They were convicted.. Life without parole. Convicted in 2011. That took me 45 seconds to find. All this whining, bitching and teeth gnashing about BLP and you never bothered to look to see that it has already gone to trial, they were convicted and sentence. Can we PLEASE put this bullshit to rest now.'],\n",
       "      dtype=object)"
      ]
     },
     "execution_count": 7,
     "metadata": {},
     "output_type": "execute_result"
    }
   ],
   "source": [
    "sentences = comment_df['comment_text'].values\n",
    "y = comment_df['toxic'].values\n",
    "sentences"
   ]
  },
  {
   "cell_type": "code",
   "execution_count": 8,
   "id": "ea7eff39",
   "metadata": {},
   "outputs": [],
   "source": [
    "sentences_train, sentences_test, y_train, y_test = train_test_split(\n",
    "                                                sentences, y,  \n",
    "                                                test_size=0.25,  \n",
    "                                                random_state=42)"
   ]
  },
  {
   "cell_type": "code",
   "execution_count": 9,
   "id": "9fcfff87",
   "metadata": {},
   "outputs": [],
   "source": [
    "tokenizer = Tokenizer(num_words=10000)\n",
    "tokenizer.fit_on_texts(sentences_train)"
   ]
  },
  {
   "cell_type": "code",
   "execution_count": 10,
   "id": "12b8f354",
   "metadata": {},
   "outputs": [],
   "source": [
    "X_train = tokenizer.texts_to_sequences(sentences_train)\n",
    "X_test = tokenizer.texts_to_sequences(sentences_test)"
   ]
  },
  {
   "cell_type": "code",
   "execution_count": 11,
   "id": "82f63565",
   "metadata": {},
   "outputs": [],
   "source": [
    "# Adding 1 because of  reserved 0 index\n",
    "vocab_size = len(tokenizer.word_index) + 1\n",
    "\n",
    "\n",
    "maxlen = 100\n",
    "\n",
    "X_train = pad_sequences(X_train, padding='post', maxlen=maxlen)\n",
    "X_test = pad_sequences(X_test, padding='post', maxlen=maxlen)"
   ]
  },
  {
   "cell_type": "markdown",
   "id": "d094146f",
   "metadata": {},
   "source": [
    "### Get GloVe pre-trained embeddings"
   ]
  },
  {
   "cell_type": "code",
   "execution_count": 12,
   "id": "e1a3b54d",
   "metadata": {},
   "outputs": [],
   "source": [
    "\n",
    "\n",
    "VECTOR_CACHE_DIR = '/Users/irsaashraf/Desktop/UChicago/Spring_23/Advanced ML/Project/Irsa_project'\n",
    "\n",
    "# glove = GloVe(name='6B', cache = VECTOR_CACHE_DIR)\n",
    "glove = GloVe(name='6B')\n",
    "\n",
    "\n",
    "words = [\"hello\", \"hi\", \"king\", \"president\"]\n",
    "vecs = glove.get_vecs_by_tokens(words)"
   ]
  },
  {
   "cell_type": "code",
   "execution_count": 13,
   "id": "2454b478",
   "metadata": {},
   "outputs": [],
   "source": [
    "def create_embedding_matrix(filepath, word_index, embedding_dim):\n",
    "    \n",
    "    vocab_size = len(word_index) + 1  \n",
    "    # Adding again 1 because of reserved 0 index\n",
    "    embedding_matrix = np.zeros((vocab_size, embedding_dim))\n",
    "\n",
    "    with open(filepath) as f:\n",
    "        for line in f:\n",
    "            word, *vector = line.split()\n",
    "            if word in word_index:\n",
    "                idx = word_index[word] \n",
    "                embedding_matrix[idx] = np.array(\n",
    "                                        vector, dtype=np.float32)[:embedding_dim]\n",
    "\n",
    "    return embedding_matrix"
   ]
  },
  {
   "cell_type": "code",
   "execution_count": 14,
   "id": "bf27c684",
   "metadata": {},
   "outputs": [],
   "source": [
    "embedding_dim = 50\n",
    "glove_filepath = '/Users/irsaashraf/Desktop/UChicago/Spring_23/Advanced ML/Project/Irsa_project/glove.6B/glove.6B.50d.txt'\n",
    "embedding_matrix = create_embedding_matrix(glove_filepath, tokenizer.word_index, embedding_dim)\n",
    "\n"
   ]
  },
  {
   "cell_type": "code",
   "execution_count": 15,
   "id": "260dd297",
   "metadata": {},
   "outputs": [
    {
     "data": {
      "text/plain": [
       "array([[ 0.00000000e+00,  0.00000000e+00,  0.00000000e+00, ...,\n",
       "         0.00000000e+00,  0.00000000e+00,  0.00000000e+00],\n",
       "       [ 4.18000013e-01,  2.49679998e-01, -4.12420005e-01, ...,\n",
       "        -1.84110001e-01, -1.15139998e-01, -7.85809994e-01],\n",
       "       [-1.09190005e-03,  3.33240002e-01,  3.57430011e-01, ...,\n",
       "        -4.56970006e-01, -4.89690006e-02,  1.13160002e+00],\n",
       "       ...,\n",
       "       [ 0.00000000e+00,  0.00000000e+00,  0.00000000e+00, ...,\n",
       "         0.00000000e+00,  0.00000000e+00,  0.00000000e+00],\n",
       "       [ 0.00000000e+00,  0.00000000e+00,  0.00000000e+00, ...,\n",
       "         0.00000000e+00,  0.00000000e+00,  0.00000000e+00],\n",
       "       [ 0.00000000e+00,  0.00000000e+00,  0.00000000e+00, ...,\n",
       "         0.00000000e+00,  0.00000000e+00,  0.00000000e+00]])"
      ]
     },
     "execution_count": 15,
     "metadata": {},
     "output_type": "execute_result"
    }
   ],
   "source": [
    "embedding_matrix"
   ]
  },
  {
   "cell_type": "code",
   "execution_count": 16,
   "id": "953c47e9",
   "metadata": {},
   "outputs": [
    {
     "name": "stdout",
     "output_type": "stream",
     "text": [
      "Epoch 1/3\n"
     ]
    },
    {
     "name": "stderr",
     "output_type": "stream",
     "text": [
      "2023-05-15 19:50:24.926456: I tensorflow/core/platform/cpu_feature_guard.cc:193] This TensorFlow binary is optimized with oneAPI Deep Neural Network Library (oneDNN) to use the following CPU instructions in performance-critical operations:  SSE4.1 SSE4.2\n",
      "To enable them in other operations, rebuild TensorFlow with the appropriate compiler flags.\n"
     ]
    },
    {
     "name": "stdout",
     "output_type": "stream",
     "text": [
      "2347/2347 [==============================] - 43s 18ms/step - loss: 0.2834 - accuracy: 0.8758 - val_loss: 0.2222 - val_accuracy: 0.9093\n",
      "Epoch 2/3\n",
      "2347/2347 [==============================] - 43s 18ms/step - loss: 0.1492 - accuracy: 0.9413 - val_loss: 0.2404 - val_accuracy: 0.9107\n",
      "Epoch 3/3\n",
      "2347/2347 [==============================] - 44s 19ms/step - loss: 0.0677 - accuracy: 0.9752 - val_loss: 0.3009 - val_accuracy: 0.9020\n"
     ]
    }
   ],
   "source": [
    "## TRAINING THE MODEL \n",
    "\n",
    "from keras.models import Sequential\n",
    "from keras import layers\n",
    "embedding_dim = 100\n",
    "\n",
    "model = Sequential()\n",
    "model.add(layers.Embedding(vocab_size, embedding_dim, input_length=maxlen))\n",
    "model.add(layers.Conv1D(128, 5, activation='relu'))\n",
    "model.add(layers.GlobalMaxPooling1D())\n",
    "model.add(layers.Dense(10, activation='relu'))\n",
    "model.add(layers.Dense(1, activation='sigmoid'))\n",
    "model.compile(optimizer='adam',\n",
    "              loss='binary_crossentropy',\n",
    "              metrics=['accuracy'])\n",
    "history = model.fit(X_train, y_train,\n",
    "                    epochs=3,\n",
    "                    validation_data=(X_test, y_test),\n",
    "                    batch_size=10)"
   ]
  },
  {
   "cell_type": "code",
   "execution_count": 22,
   "id": "4ced2ba0",
   "metadata": {},
   "outputs": [
    {
     "data": {
      "text/plain": [
       "{'loss': [0.28336629271507263, 0.14921824634075165, 0.06771270185709],\n",
       " 'accuracy': [0.8757988810539246, 0.9413293600082397, 0.975159764289856],\n",
       " 'val_loss': [0.22215433418750763, 0.24036899209022522, 0.30091020464897156],\n",
       " 'val_accuracy': [0.9092535972595215, 0.9106594920158386, 0.9019683003425598]}"
      ]
     },
     "execution_count": 22,
     "metadata": {},
     "output_type": "execute_result"
    }
   ],
   "source": [
    "history.history"
   ]
  },
  {
   "cell_type": "code",
   "execution_count": null,
   "id": "ff357b62",
   "metadata": {},
   "outputs": [],
   "source": []
  }
 ],
 "metadata": {
  "kernelspec": {
   "display_name": "Python [conda env:capp30255]",
   "language": "python",
   "name": "conda-env-capp30255-py"
  },
  "language_info": {
   "codemirror_mode": {
    "name": "ipython",
    "version": 3
   },
   "file_extension": ".py",
   "mimetype": "text/x-python",
   "name": "python",
   "nbconvert_exporter": "python",
   "pygments_lexer": "ipython3",
   "version": "3.10.11"
  }
 },
 "nbformat": 4,
 "nbformat_minor": 5
}
