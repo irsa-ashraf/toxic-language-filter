{
 "cells": [
  {
   "attachments": {},
   "cell_type": "markdown",
   "metadata": {},
   "source": [
    "# CNN Model for Toxic Language Classification"
   ]
  },
  {
   "attachments": {},
   "cell_type": "markdown",
   "metadata": {},
   "source": [
    "## Set up"
   ]
  },
  {
   "attachments": {},
   "cell_type": "markdown",
   "metadata": {},
   "source": [
    "##### Load packages"
   ]
  },
  {
   "cell_type": "code",
   "execution_count": 2,
   "metadata": {},
   "outputs": [],
   "source": [
    "%%capture\n",
    "\n",
    "import os\n",
    "import re\n",
    "from tqdm import tqdm\n",
    "import numpy as np\n",
    "import pandas as pd\n",
    "import pickle\n",
    "import nltk\n",
    "nltk.download(\"all\")\n",
    "import matplotlib.pyplot as plt\n",
    "\n",
    "import torch\n",
    "from torch.utils.data import Dataset\n",
    "from torch.utils.data import DataLoader\n",
    "\n",
    "from sklearn.model_selection import train_test_split\n",
    "\n",
    "%matplotlib inline"
   ]
  },
  {
   "attachments": {},
   "cell_type": "markdown",
   "metadata": {},
   "source": [
    "##### Set Parameters"
   ]
  },
  {
   "cell_type": "code",
   "execution_count": 3,
   "metadata": {},
   "outputs": [],
   "source": [
    "BATCH_SIZE = 16\n",
    "MAX_SENT_LENGTH = 200\n",
    "EMBED_DIM = 300\n",
    "NUM_CLASSES = 6"
   ]
  },
  {
   "attachments": {},
   "cell_type": "markdown",
   "metadata": {},
   "source": [
    "##### Load data"
   ]
  },
  {
   "cell_type": "code",
   "execution_count": 31,
   "metadata": {},
   "outputs": [],
   "source": [
    "def balance_data(dataset, label):\n",
    "    '''\n",
    "    Depending on the chosen label, the function provide \n",
    "    a balanced dataset on the label. The result dataset \n",
    "    will have equal number of label == 1/0\n",
    "    '''\n",
    "    pos_data = dataset[dataset[label] == 1]\n",
    "    neg_data = dataset[dataset[label] == 0]\n",
    "    neg_data_sample = neg_data.sample(n=len(pos_data), random_state=12)\n",
    "\n",
    "    df = pd.concat([neg_data_sample, pos_data])\n",
    "    df = df.sample(frac=1, random_state=42).reset_index(drop=True)\n",
    "\n",
    "    return df"
   ]
  },
  {
   "attachments": {},
   "cell_type": "markdown",
   "metadata": {},
   "source": [
    "##### GPU set up"
   ]
  },
  {
   "cell_type": "code",
   "execution_count": 5,
   "metadata": {},
   "outputs": [
    {
     "name": "stdout",
     "output_type": "stream",
     "text": [
      "No GPU available, using the CPU instead.\n"
     ]
    }
   ],
   "source": [
    "if torch.cuda.is_available():       \n",
    "    device = torch.device(\"cuda\")\n",
    "    print(f'There are {torch.cuda.device_count()} GPU(s) available.')\n",
    "    print('Device name:', torch.cuda.get_device_name(0))\n",
    "\n",
    "else:\n",
    "    print('No GPU available, using the CPU instead.')\n",
    "    device = torch.device(\"cpu\")"
   ]
  },
  {
   "attachments": {},
   "cell_type": "markdown",
   "metadata": {},
   "source": [
    "##### Pre-trained text embedding set up "
   ]
  },
  {
   "attachments": {},
   "cell_type": "markdown",
   "metadata": {},
   "source": [
    "**GloVe**"
   ]
  },
  {
   "cell_type": "code",
   "execution_count": 6,
   "metadata": {},
   "outputs": [],
   "source": [
    "from itertools import combinations\n",
    "from torchtext.vocab import GloVe\n",
    "\n",
    "VECTOR_CACHE_DIR = './glove/.vector_cache'\n",
    "\n",
    "glove = GloVe(name='6B', cache = VECTOR_CACHE_DIR)\n",
    "\n",
    "# print(glove.get_vecs_by_tokens([\"this\", \"is\", \"a\", \"comment\"]))\n",
    "# print(glove.get_vecs_by_tokens([\"this\", \"is\", \"a\", \"comment\"]).shape)"
   ]
  },
  {
   "attachments": {},
   "cell_type": "markdown",
   "metadata": {},
   "source": [
    "## Data Preparation\n"
   ]
  },
  {
   "attachments": {},
   "cell_type": "markdown",
   "metadata": {},
   "source": [
    "##### Tokenize word and map with embeddings"
   ]
  },
  {
   "cell_type": "code",
   "execution_count": 7,
   "metadata": {},
   "outputs": [],
   "source": [
    "from nltk.tokenize import word_tokenize\n",
    "\n",
    "def process_input(batch):\n",
    "    '''\n",
    "    Tokenize a batch of texts:\n",
    "        - convert sentence to lower case\n",
    "        - tokenize word with package `word_tokenize`\n",
    "        - add paddings to MAX_SENT_LENGTH\n",
    "        - convert tokenized sentence into GloVe embeddings\n",
    "        - return a numpy array of input vectors \n",
    "    '''\n",
    "\n",
    "    # set up containers\n",
    "    y = torch.zeros(BATCH_SIZE)\n",
    "    x = torch.zeros(BATCH_SIZE, MAX_SENT_LENGTH, EMBED_DIM)\n",
    "    \n",
    "    for i, (sent, label) in enumerate(batch):\n",
    "\n",
    "        sent = sent.lower()\n",
    "        tokenized_sent = word_tokenize(sent)\n",
    "\n",
    "        # perform padding or truncate\n",
    "        if len(tokenized_sent) < MAX_SENT_LENGTH:\n",
    "            tokenized_sent += ['<pad>'] * (MAX_SENT_LENGTH - len(tokenized_sent))\n",
    "        else:\n",
    "            tokenized_sent = tokenized_sent[:MAX_SENT_LENGTH]\n",
    "\n",
    "        vecs = glove.get_vecs_by_tokens(tokenized_sent)\n",
    "\n",
    "        x[i] = vecs\n",
    "        y[i] = label\n",
    "    \n",
    "    y = y.type(torch.LongTensor)\n",
    "\n",
    "    return x, y \n"
   ]
  },
  {
   "attachments": {},
   "cell_type": "markdown",
   "metadata": {},
   "source": [
    "##### Custome Dataset"
   ]
  },
  {
   "cell_type": "code",
   "execution_count": 8,
   "metadata": {},
   "outputs": [],
   "source": [
    "# customized dataset: \n",
    "\n",
    "class CustomDataset(Dataset):\n",
    "    '''\n",
    "    '''\n",
    "    def __init__(self, df):\n",
    "        # self.is_test = is_test\n",
    "        self.dataframe = df\n",
    "        self.label_name = df.columns[-1]\n",
    "        \n",
    "    def __len__(self):\n",
    "        return len(self.dataframe)\n",
    "    \n",
    "    def __getitem__(self, idx):\n",
    "        text = self.dataframe.iloc[idx]['comment_text']\n",
    "        label = self.dataframe.iloc[idx][self.label_name]\n",
    "        return text, label\n"
   ]
  },
  {
   "attachments": {},
   "cell_type": "markdown",
   "metadata": {},
   "source": [
    "##### Create Data Loader"
   ]
  },
  {
   "cell_type": "code",
   "execution_count": 38,
   "metadata": {},
   "outputs": [],
   "source": [
    "def create_loaders(data):\n",
    "    '''\n",
    "    take one dataframe and create 3 loaders\n",
    "    '''\n",
    "    # split data: train 70%, validation 20%, test 10%\n",
    "\n",
    "    train_df, rest_df = train_test_split(data, test_size=0.3, random_state=1)\n",
    "    val_df, test_df = train_test_split(rest_df, test_size=0.33, random_state=1)\n",
    "\n",
    "    # convert dataframes into cusmotized datasets\n",
    "\n",
    "    train_data = CustomDataset(train_df)\n",
    "    val_data = CustomDataset(val_df)\n",
    "    test_data = CustomDataset(test_df)\n",
    "\n",
    "    # create dataloader\n",
    "    # droplast: if last batch is incomplete, we drop the last batch\n",
    "\n",
    "    train_dataloader = DataLoader(train_data, batch_size=BATCH_SIZE, \n",
    "                                collate_fn=process_input, drop_last=True)\n",
    "\n",
    "    val_dataloader = DataLoader(val_data, batch_size=BATCH_SIZE, \n",
    "                                collate_fn=process_input, drop_last=True)\n",
    "\n",
    "    test_dataloader = DataLoader(test_data, batch_size=BATCH_SIZE, \n",
    "                                collate_fn=process_input, drop_last=True)\n",
    "    \n",
    "    return train_dataloader, val_dataloader, test_dataloader"
   ]
  },
  {
   "cell_type": "code",
   "execution_count": 23,
   "metadata": {},
   "outputs": [],
   "source": [
    "# for i, (text, label) in enumerate(test_dataloader):\n",
    "#     print(i)\n",
    "#     print(text)\n",
    "#     print(label)\n",
    "\n",
    "#     if i == 2:\n",
    "#         break"
   ]
  },
  {
   "attachments": {},
   "cell_type": "markdown",
   "metadata": {},
   "source": [
    "## Modeling\n"
   ]
  },
  {
   "attachments": {},
   "cell_type": "markdown",
   "metadata": {},
   "source": [
    "##### CNN Version 0 </p>\n",
    "\n",
    "For the first model, we are testing the following parameters\n",
    "\n",
    "|Description         |Values           |\n",
    "|:------------------:|:---------------:|\n",
    "|input word vectors  |GloVe            |\n",
    "|embedding size      |300              |\n",
    "|filter sizes        |(2, 3, 4, 5)     |\n",
    "|num filters         |(64, 64, 64, 64) |\n",
    "|activation          |ReLU             |\n",
    "|pooling             |1-max pooling    |\n",
    "|dropout rate        |0.5              |"
   ]
  },
  {
   "cell_type": "code",
   "execution_count": 10,
   "metadata": {},
   "outputs": [],
   "source": [
    "import torch\n",
    "import torch.nn as nn\n",
    "import torch.nn.functional as F\n",
    "\n",
    "class CNN_NLP(nn.Module):\n",
    "    '''\n",
    "    An 1D Convulational Neural Network for Sentence Classification.\n",
    "    '''\n",
    "\n",
    "    def __init__(self, filter_sizes=[2, 3, 4, 5], num_filters=[64, 64, 64, 64], \n",
    "                 embed_dim=EMBED_DIM, num_classes=2, dropout=0.5):\n",
    "        \"\"\"\n",
    "\n",
    "        Args:\n",
    "            pretrained_embedding (torch.Tensor): size (max_sent_length, embed_dim)\n",
    "            freeze_embedding (bool): set to False by default\n",
    "            max_sent_length (int): longest sentence allowed\n",
    "            embed_dim (int): dimension of word vectors, by default: 300\n",
    "            filter_sizes (List[int]): list of filter sizes, by default: [2, 3, 4, 5]\n",
    "            num_filters (List[int]): list of number of filters, [64] * 4\n",
    "            n_classes (int): number of classes, by default: 2\n",
    "            dropout (float): Dropout rate, by default: 0.5\n",
    "        \"\"\"\n",
    "\n",
    "        super(CNN_NLP, self).__init__()\n",
    "\n",
    "        # # Embedding layer\n",
    "        # if pretrained_embedding is not None:\n",
    "        #     self.vocab_size, self.embed_dim = pretrained_embedding.shape\n",
    "        #     self.embedding = nn.Embedding.from_pretrained(pretrained_embedding,\n",
    "        #                                                   freeze=freeze_embedding)\n",
    "        # else:\n",
    "        #     self.embed_dim = embed_dim\n",
    "        #     self.embedding = nn.Embedding(num_embeddings=vocab_size,\n",
    "        #                                   embedding_dim=self.embed_dim,\n",
    "        #                                   padding_idx=0,\n",
    "        #                                   max_norm=5.0)\n",
    "\n",
    "        self.embed_dim = embed_dim\n",
    "        \n",
    "        # Conv Network\n",
    "        self.conv1d_list = nn.ModuleList([\n",
    "            nn.Conv1d(in_channels=self.embed_dim, \n",
    "                      out_channels=num_filters[i], \n",
    "                      kernel_size=filter_sizes[i])\n",
    "            for i in range(len(filter_sizes))])\n",
    "        \n",
    "        # Fully-connected layer and Dropout\n",
    "        self.fc = nn.Linear(np.sum(num_filters), num_classes)\n",
    "        self.dropout = nn.Dropout(p=dropout)\n",
    "\n",
    "    def forward(self, input):\n",
    "        \"\"\"Perform a forward pass through the network.\n",
    "\n",
    "        Args:\n",
    "            input (torch.Tensor): tensor of batch of sentences with shape\n",
    "            (batch_size, max_sent_length, embedding_dim)\n",
    "\n",
    "        Returns:\n",
    "            logits (torch.Tensor): Output logits with shape (batch_size,\n",
    "            n_classes)\n",
    "        \"\"\"\n",
    "\n",
    "        # permute input to match the shape requirement of `nn.Conv1d`.\n",
    "        # x_reshaped shape: (BATCH_SIZE, EMBED_DIM, MAX_SENT_LENGTH)\n",
    "        x_reshaped = input.permute(0, 2, 1)\n",
    "\n",
    "        # Apply CNN and ReLU. Output shape: (b, num_filters[i], L_out)\n",
    "        x_conv_list = [F.relu(conv1d(x_reshaped)) for conv1d in self.conv1d_list]\n",
    "\n",
    "        # Max pooling. Output shape: (b, num_filters[i], 1)\n",
    "        x_pool_list = [F.max_pool1d(x_conv, kernel_size=x_conv.shape[2]) for x_conv in x_conv_list]\n",
    "        \n",
    "        # Concatenate x_pool_list to feed the fully connected layer.\n",
    "        # Output shape: (b, sum(num_filters))\n",
    "        x_fc = torch.cat([x_pool.squeeze(dim=2) for x_pool in x_pool_list], dim=1)\n",
    "        \n",
    "        # Compute logits. Output shape: (b, n_classes)\n",
    "        logits = self.fc(self.dropout(x_fc))\n",
    "\n",
    "        return logits"
   ]
  },
  {
   "attachments": {},
   "cell_type": "markdown",
   "metadata": {},
   "source": [
    "## Training"
   ]
  },
  {
   "cell_type": "code",
   "execution_count": 11,
   "metadata": {},
   "outputs": [],
   "source": [
    "import torch.optim as optim\n",
    "\n",
    "# Check for GPU availability\n",
    "if torch.cuda.is_available():\n",
    "    device = torch.device(\"cuda\")\n",
    "\n",
    "def initilize_model(embed_dim=EMBED_DIM, filter_sizes=[2, 3, 4, 5], num_filters=[64, 64, 64, 64], \n",
    "                    num_classes=2, dropout=0.5, learning_rate=0.01):\n",
    "\n",
    "    '''\n",
    "    Instantiate a CNN model and an optimizer.\n",
    "    '''\n",
    "\n",
    "    assert (len(filter_sizes) == len(num_filters)), \"filter_sizes and \\\n",
    "    num_filters need to be of the same length.\"\n",
    "\n",
    "    cnn_model = CNN_NLP(filter_sizes=filter_sizes,\n",
    "                        num_filters=num_filters,\n",
    "                        embed_dim=embed_dim,\n",
    "                        num_classes=num_classes,\n",
    "                        dropout=dropout)\n",
    "    \n",
    "    cnn_model.to(device)\n",
    "\n",
    "    optimizer = optim.Adadelta(cnn_model.parameters(),\n",
    "                               lr=learning_rate,\n",
    "                               rho=0.95)\n",
    "\n",
    "    return cnn_model, optimizer"
   ]
  },
  {
   "cell_type": "code",
   "execution_count": 12,
   "metadata": {},
   "outputs": [],
   "source": [
    "import random\n",
    "import time\n",
    "\n",
    "loss_fn = nn.CrossEntropyLoss()\n",
    "\n",
    "def set_seed(seed_value=42):\n",
    "    '''\n",
    "    Set seed for reproducibility.\n",
    "    '''\n",
    "\n",
    "    random.seed(seed_value)\n",
    "    np.random.seed(seed_value)\n",
    "    torch.manual_seed(seed_value)\n",
    "    torch.cuda.manual_seed_all(seed_value)\n",
    "\n",
    "\n",
    "def evaluate_val(model, val_dataloader):\n",
    "    '''\n",
    "    After the completion of each training epoch, \n",
    "    measure the model's performance on our validation set.\n",
    "    '''\n",
    "\n",
    "    model.eval()\n",
    "\n",
    "    val_accuracy = []\n",
    "    val_loss = []\n",
    "\n",
    "    for batch in val_dataloader:\n",
    "\n",
    "        b_input, b_labels = tuple(t.to(device) for t in batch)\n",
    "\n",
    "        with torch.no_grad():\n",
    "            logits = model(b_input)\n",
    "\n",
    "        loss = loss_fn(logits, b_labels)\n",
    "        val_loss.append(loss.item())\n",
    "        preds = torch.argmax(logits, dim=1).flatten()\n",
    "        accuracy = (preds == b_labels).cpu().numpy().mean() * 100\n",
    "        val_accuracy.append(accuracy)\n",
    "\n",
    "    val_loss = np.mean(val_loss)\n",
    "    val_accuracy = np.mean(val_accuracy)\n",
    "\n",
    "    return val_loss, val_accuracy\n",
    "\n",
    "\n",
    "def train(model, optimizer, train_dataloader, val_dataloader, epochs=10, check_train_loss=False):\n",
    "    '''\n",
    "    Train the CNN model.\n",
    "    Inputs: \n",
    "        model: initialized CNN model \n",
    "        optimizer: initialized optimizer \n",
    "        train_dataloader: DataLoader object \n",
    "        val_dataloader: DataLoader object\n",
    "        epochs: number of epochs for training, set to 10 by defaut\n",
    "        check_train_loss: return list of training loss for each\n",
    "                          epoch, set to False by default\n",
    "    return:\n",
    "        best_model: CNN_NLP object with highest validation accuracy\n",
    "        val_accuracies: list of validation accuracies for each epoch\n",
    "        val_losses: list of validation loss for each epoch\n",
    "        train_losses (if check_train_loss): list of training loss for each epoch\n",
    "    '''\n",
    "    \n",
    "    best_model = None\n",
    "    val_accuracies = []\n",
    "    train_losses = []\n",
    "    val_losses = []\n",
    "    best_accuracy = 0\n",
    "\n",
    "    print(\"Start training...\\n\")\n",
    "    print(f\"{'Epoch':^7} | {'Train Loss':^12} | {'Val Loss':^10} | {'Val Acc':^9} | {'Elapsed':^9}\")\n",
    "    print(\"-\"*60)\n",
    "\n",
    "    for epoch_i in range(epochs):\n",
    "\n",
    "        t0_epoch = time.time()\n",
    "        total_loss = 0\n",
    "        model.train()\n",
    "\n",
    "        # ============= Training =============\n",
    "\n",
    "        for step, batch in enumerate(train_dataloader):\n",
    "\n",
    "            # forward and compute loss\n",
    "            b_input, b_labels = tuple(t.to(device) for t in batch)\n",
    "            model.zero_grad()\n",
    "            logits = model(b_input)\n",
    "            loss = loss_fn(logits, b_labels)\n",
    "            total_loss += loss.item()\n",
    "            loss.backward()\n",
    "            optimizer.step()\n",
    "\n",
    "        avg_train_loss = total_loss / len(train_dataloader)\n",
    "        train_losses.append(avg_train_loss)\n",
    "\n",
    "        time_elapsed = time.time() - t0_epoch\n",
    "\n",
    "        # ============= Evaluation =============\n",
    "\n",
    "        val_loss, val_accuracy = evaluate_val(model, val_dataloader)\n",
    "\n",
    "        if not best_model:\n",
    "            best_model = model\n",
    "\n",
    "        if val_accuracy > best_accuracy:\n",
    "            best_accuracy = val_accuracy\n",
    "            best_model = model\n",
    "\n",
    "        val_accuracies.append(val_accuracy)\n",
    "        val_losses.append(val_loss)\n",
    "\n",
    "        time_elapsed = time.time() - t0_epoch\n",
    "        print(f\"{epoch_i + 1:^7} | {avg_train_loss:^12.6f} | {val_loss:^10.6f} | {val_accuracy:^9.2f} | {time_elapsed:^9.2f}\")\n",
    "            \n",
    "    print(\"\\n\")\n",
    "    print(f\"Training complete! Best accuracy: {best_accuracy:.2f}%.\")\n",
    "\n",
    "    if check_train_loss:\n",
    "        return best_model, val_accuracies, val_losses, train_losses\n",
    "    \n",
    "    return best_model, val_accuracies, val_losses"
   ]
  },
  {
   "attachments": {},
   "cell_type": "markdown",
   "metadata": {},
   "source": [
    "## Testing"
   ]
  },
  {
   "cell_type": "code",
   "execution_count": 13,
   "metadata": {},
   "outputs": [],
   "source": [
    "from sklearn.metrics import confusion_matrix\n",
    "\n",
    "def test_model(model, test_dataloader):\n",
    "    '''\n",
    "    test the model on test data, return the test loss \n",
    "    and the confusion matrix\n",
    "    '''\n",
    "\n",
    "    model.eval()\n",
    "\n",
    "    predictions = []\n",
    "    labels = []\n",
    "    losses = []\n",
    "    \n",
    "    for i, batch in enumerate(test_dataloader):\n",
    "\n",
    "        b_input, b_labels = tuple(t.to(device) for t in batch)\n",
    "\n",
    "        with torch.no_grad():\n",
    "            logits = model(b_input)\n",
    "\n",
    "        loss = loss_fn(logits, b_labels)\n",
    "        losses.append(loss.item())\n",
    "        preds = torch.argmax(logits, dim=1).flatten()\n",
    "\n",
    "        # ids.extend(list(b_ids))\n",
    "        labels.extend(list(b_labels))\n",
    "        predictions.extend(list(preds))\n",
    "\n",
    "    test_loss = np.mean(losses)\n",
    "    cm = confusion_matrix(labels, predictions)\n",
    "\n",
    "    return test_loss, cm\n",
    "\n",
    "def eval_cm(cm):\n",
    "    '''\n",
    "    Ravel a comfusion matrix, and return \n",
    "    accuracy, precision, recall, f1 \n",
    "\n",
    "    Input:\n",
    "        model: best performed CNN_NLP model \n",
    "        test_dataloader: DataLoader for testing data\n",
    "\n",
    "    Return:\n",
    "        DataFrame format of four measurements\n",
    "    '''\n",
    "\n",
    "    tn, fp, fn, tp = cm.ravel() \n",
    "    accu = (tp + tn) / (tp + tn + fp + fn)\n",
    "    prec = tp / (tp + fp)\n",
    "    recall = tp / (tp + fn)\n",
    "    f1 = 2 * (prec * recall) / (prec + recall)\n",
    "\n",
    "    eval = {\"Accuracy\": [accu],\n",
    "            \"Precision\": [prec],\n",
    "            \"Recall\": [recall],\n",
    "            \"F1\": [f1]}\n",
    "    \n",
    "    return pd.DataFrame(eval)\n"
   ]
  },
  {
   "cell_type": "code",
   "execution_count": 14,
   "metadata": {},
   "outputs": [],
   "source": [
    "def get_predictions(model, test_dataloader):\n",
    "    '''\n",
    "    After the completion of each training epoch, measure the model's\n",
    "    performance on our validation set.\n",
    "\n",
    "    Input:\n",
    "        model: best performed CNN_NLP model \n",
    "        test_dataloader: DataLoader for testing data\n",
    "\n",
    "    Return:\n",
    "        preds (list): predictions on testing data, \n",
    "        last batch might be dropped if not full\n",
    "    '''\n",
    "\n",
    "    model.eval()\n",
    "    preds = []\n",
    "\n",
    "    for batch in test_dataloader:\n",
    "        b_input, _ = tuple(t.to(device) for t in batch)\n",
    "\n",
    "        with torch.no_grad():\n",
    "            logits = model(b_input)\n",
    "        b_pred = torch.argmax(logits, dim=1).flatten()\n",
    "        for v in b_pred:\n",
    "            preds.append(int(v))\n",
    "\n",
    "    return preds\n",
    "\n",
    "\n",
    "def get_tag(row):\n",
    "    '''\n",
    "    helper function to get 4 different tags based on \n",
    "    the predicted value and the actual value: \n",
    "    \"TP\", \"TN\", \"FP\", \"FN\" \n",
    "\n",
    "    the labels are binary, so we only have 4 conditions:\n",
    "        label(1) * pred(1) = 1  ---> \"TP\"\n",
    "        label(0) - pred(0) = 0  ---> \"TN\" (excluding previous condition)\n",
    "        label(0) - pred(1) = -1 ---> \"FP\" (excluding previous conditions)\n",
    "        label(1) - pred(0) = 1  ---> \"FN\" (excluding previous conditions)\n",
    "    \n",
    "    return: \"TP\", \"TN\", \"FP\", \"FN\" (4 tags)\n",
    "            and 'N/A' (not suppose to happen)\n",
    "    '''\n",
    "    \n",
    "    pred = row[\"pred\"]\n",
    "    label = row[\"label\"]\n",
    "\n",
    "    if label * pred == 1:\n",
    "        return 'TP'\n",
    "    elif label - pred == 0:\n",
    "        return 'TN'\n",
    "    elif label - pred == -1:\n",
    "        return 'FP'\n",
    "    elif label - pred == 1:\n",
    "        return 'FN'\n",
    "    else:\n",
    "        return 'N/A'\n",
    "\n",
    "\n",
    "def tag_performances(preds, df):\n",
    "    '''\n",
    "    take predictions from model on test_df, tag \n",
    "    cases of prediction: \"TP\", \"TN\", \"FP\", \"FN\" \n",
    "    \n",
    "    Inputs:\n",
    "        preds (list): a list of predicions from model\n",
    "        df (DataFrame): test data in DataFrame form, \n",
    "                        the last column should be the true label\n",
    "    Return: \n",
    "        df (DataFrame) include testing data and predictions\n",
    "    '''\n",
    "\n",
    "    N = len(preds)\n",
    "\n",
    "    assert N == len(df) - (len(df) % 16), \\\n",
    "    \"AssertionError: number of predictions should equal to the number of examples\"\n",
    "\n",
    "    # change the last column name\n",
    "    last_column_name = df.columns[-1]\n",
    "    df = df.rename(columns={last_column_name: \"label\"})\n",
    "\n",
    "    # add new column for model predictions\n",
    "    df = df[: N]\n",
    "    df[\"pred\"] = preds\n",
    "\n",
    "    # tag \"TP\", \"TN\", \"FP\", \"FN\" for each pair\n",
    "    df['tag'] = df.apply(get_tag, axis=1)\n",
    "\n",
    "    return df"
   ]
  },
  {
   "attachments": {},
   "cell_type": "markdown",
   "metadata": {},
   "source": [
    "## Compare Different Models"
   ]
  },
  {
   "attachments": {},
   "cell_type": "markdown",
   "metadata": {},
   "source": [
    "#### REPORT 1 `model_0` for Identity Hate"
   ]
  },
  {
   "cell_type": "code",
   "execution_count": 16,
   "metadata": {},
   "outputs": [
    {
     "name": "stdout",
     "output_type": "stream",
     "text": [
      "Start training...\n",
      "\n",
      " Epoch  |  Train Loss  |  Val Loss  |  Val Acc  |  Elapsed \n",
      "------------------------------------------------------------\n",
      "   1    |   0.199653   |  0.168554  |   95.66   |  214.62  \n",
      "   2    |   0.170443   |  0.160630  |   95.70   |  209.30  \n",
      "   3    |   0.159570   |  0.152211  |   95.73   |  209.48  \n",
      "   4    |   0.150355   |  0.142832  |   95.76   |  209.85  \n",
      "   5    |   0.140390   |  0.134124  |   95.76   |  208.67  \n",
      "   6    |   0.132846   |  0.127707  |   95.83   |  209.22  \n",
      "   7    |   0.125316   |  0.122823  |   95.82   |  214.46  \n",
      "   8    |   0.120078   |  0.119390  |   95.87   |  210.12  \n",
      "   9    |   0.116925   |  0.117131  |   95.83   |  212.69  \n",
      "  10    |   0.115052   |  0.115022  |   95.92   |  225.74  \n",
      "\n",
      "\n",
      "Training complete! Best accuracy: 95.92%.\n"
     ]
    }
   ],
   "source": [
    "# train model with 10 epocks\n",
    "cnn_model, optimizer = initilize_model()\n",
    "ih_model_0, val_accuracies_0, val_losses_0 = train(cnn_model, optimizer, train_dataloader, val_dataloader)"
   ]
  },
  {
   "cell_type": "code",
   "execution_count": 25,
   "metadata": {},
   "outputs": [],
   "source": [
    "# with open('ih_model_0.pkl', 'wb') as file:\n",
    "#     pickle.dump(ih_model_0, file)"
   ]
  },
  {
   "cell_type": "code",
   "execution_count": 18,
   "metadata": {},
   "outputs": [
    {
     "data": {
      "text/plain": [
       "Text(0.5, 1.0, 'Validation accuracy of `best_model_0` for Identity Hate label (10 epochs)')"
      ]
     },
     "execution_count": 18,
     "metadata": {},
     "output_type": "execute_result"
    },
    {
     "data": {
      "image/png": "[encoded data removed]",
      "text/plain": [
       "<Figure size 640x480 with 1 Axes>"
      ]
     },
     "metadata": {},
     "output_type": "display_data"
    }
   ],
   "source": [
    "epochs = [x + 1 for x in range(10)]\n",
    "plt.plot(epochs, val_accuracies_0)\n",
    "plt.xticks(range(0, 11))\n",
    "plt.xlabel('epoch')\n",
    "plt.ylabel('validation accuracy')\n",
    "plt.title('Validation accuracy of `best_model_0` for Identity Hate label (10 epochs)')\n"
   ]
  },
  {
   "attachments": {},
   "cell_type": "markdown",
   "metadata": {},
   "source": [
    "\n",
    "**Report:** </p>\n",
    "\n",
    "**Training performance:**\n",
    "\n",
    "| Epoch  |  Train Loss  |  Val Loss  |  Val Acc  |  Elapsed \n",
    "|:------:|:------------:|:----------:|:---------:|:-------:|\n"
   ]
  },
  {
   "cell_type": "code",
   "execution_count": 23,
   "metadata": {},
   "outputs": [
    {
     "data": {
      "text/html": [
       "<div>\n",
       "<style scoped>\n",
       "    .dataframe tbody tr th:only-of-type {\n",
       "        vertical-align: middle;\n",
       "    }\n",
       "\n",
       "    .dataframe tbody tr th {\n",
       "        vertical-align: top;\n",
       "    }\n",
       "\n",
       "    .dataframe thead th {\n",
       "        text-align: right;\n",
       "    }\n",
       "</style>\n",
       "<table border=\"1\" class=\"dataframe\">\n",
       "  <thead>\n",
       "    <tr style=\"text-align: right;\">\n",
       "      <th></th>\n",
       "      <th>Accuracy</th>\n",
       "      <th>Precision</th>\n",
       "      <th>Recall</th>\n",
       "      <th>F1</th>\n",
       "    </tr>\n",
       "  </thead>\n",
       "  <tbody>\n",
       "    <tr>\n",
       "      <th>0</th>\n",
       "      <td>0.963687</td>\n",
       "      <td>0.576923</td>\n",
       "      <td>0.267857</td>\n",
       "      <td>0.365854</td>\n",
       "    </tr>\n",
       "  </tbody>\n",
       "</table>\n",
       "</div>"
      ],
      "text/plain": [
       "   Accuracy  Precision    Recall        F1\n",
       "0  0.963687   0.576923  0.267857  0.365854"
      ]
     },
     "execution_count": 23,
     "metadata": {},
     "output_type": "execute_result"
    }
   ],
   "source": [
    "ih_test_loss, ih_cm = test_model(ih_model_0, test_dataloader)\n",
    "eval_cm(ih_cm)"
   ]
  },
  {
   "cell_type": "code",
   "execution_count": 24,
   "metadata": {},
   "outputs": [
    {
     "name": "stdout",
     "output_type": "stream",
     "text": [
      "The test loss for identity hate 0.10865403341868236\n"
     ]
    }
   ],
   "source": [
    "print(\"The test loss for identity hate\", ih_test_loss)"
   ]
  },
  {
   "cell_type": "code",
   "execution_count": 20,
   "metadata": {},
   "outputs": [],
   "source": [
    "preds = get_predictions(ih_model_0, test_dataloader)\n",
    "results_cnn_0 = tag_performances(preds, test_df)"
   ]
  },
  {
   "cell_type": "code",
   "execution_count": 21,
   "metadata": {},
   "outputs": [
    {
     "data": {
      "text/html": [
       "<div>\n",
       "<style scoped>\n",
       "    .dataframe tbody tr th:only-of-type {\n",
       "        vertical-align: middle;\n",
       "    }\n",
       "\n",
       "    .dataframe tbody tr th {\n",
       "        vertical-align: top;\n",
       "    }\n",
       "\n",
       "    .dataframe thead th {\n",
       "        text-align: right;\n",
       "    }\n",
       "</style>\n",
       "<table border=\"1\" class=\"dataframe\">\n",
       "  <thead>\n",
       "    <tr style=\"text-align: right;\">\n",
       "      <th></th>\n",
       "      <th>id</th>\n",
       "      <th>comment_text</th>\n",
       "      <th>label</th>\n",
       "      <th>pred</th>\n",
       "      <th>tag</th>\n",
       "    </tr>\n",
       "  </thead>\n",
       "  <tbody>\n",
       "    <tr>\n",
       "      <th>6032</th>\n",
       "      <td>0be7965b23078261</td>\n",
       "      <td>\"Just face the truth: you can't escape it!==\\n...</td>\n",
       "      <td>1</td>\n",
       "      <td>0</td>\n",
       "      <td>FN</td>\n",
       "    </tr>\n",
       "    <tr>\n",
       "      <th>6892</th>\n",
       "      <td>81dfb0e007a1e25b</td>\n",
       "      <td>You son of a bitch \\nI was the one who recogni...</td>\n",
       "      <td>1</td>\n",
       "      <td>0</td>\n",
       "      <td>FN</td>\n",
       "    </tr>\n",
       "    <tr>\n",
       "      <th>27007</th>\n",
       "      <td>33b9c2da3dafd4c1</td>\n",
       "      <td>Latin Americans have to be some of the most ig...</td>\n",
       "      <td>1</td>\n",
       "      <td>0</td>\n",
       "      <td>FN</td>\n",
       "    </tr>\n",
       "    <tr>\n",
       "      <th>6869</th>\n",
       "      <td>dcf06fa487ee6589</td>\n",
       "      <td>All editor are gay.  Therefore, the guys who b...</td>\n",
       "      <td>1</td>\n",
       "      <td>0</td>\n",
       "      <td>FN</td>\n",
       "    </tr>\n",
       "    <tr>\n",
       "      <th>6907</th>\n",
       "      <td>4f1d3f26583715c3</td>\n",
       "      <td>MUSLIM SCUM go die soon will you</td>\n",
       "      <td>1</td>\n",
       "      <td>0</td>\n",
       "      <td>FN</td>\n",
       "    </tr>\n",
       "  </tbody>\n",
       "</table>\n",
       "</div>"
      ],
      "text/plain": [
       "                     id                                       comment_text   \n",
       "6032   0be7965b23078261  \"Just face the truth: you can't escape it!==\\n...  \\\n",
       "6892   81dfb0e007a1e25b  You son of a bitch \\nI was the one who recogni...   \n",
       "27007  33b9c2da3dafd4c1  Latin Americans have to be some of the most ig...   \n",
       "6869   dcf06fa487ee6589  All editor are gay.  Therefore, the guys who b...   \n",
       "6907   4f1d3f26583715c3                   MUSLIM SCUM go die soon will you   \n",
       "\n",
       "       label  pred tag  \n",
       "6032       1     0  FN  \n",
       "6892       1     0  FN  \n",
       "27007      1     0  FN  \n",
       "6869       1     0  FN  \n",
       "6907       1     0  FN  "
      ]
     },
     "execution_count": 21,
     "metadata": {},
     "output_type": "execute_result"
    }
   ],
   "source": [
    "# check some of the false negative predictions\n",
    "false_neg_cnn_0 = results_cnn_0[results_cnn_0[\"tag\"] == \"FN\"]\n",
    "false_neg_cnn_0.to_csv(\"FN_model0.csv\")\n",
    "false_neg_cnn_0.head(5)"
   ]
  },
  {
   "cell_type": "code",
   "execution_count": 22,
   "metadata": {},
   "outputs": [
    {
     "data": {
      "text/html": [
       "<div>\n",
       "<style scoped>\n",
       "    .dataframe tbody tr th:only-of-type {\n",
       "        vertical-align: middle;\n",
       "    }\n",
       "\n",
       "    .dataframe tbody tr th {\n",
       "        vertical-align: top;\n",
       "    }\n",
       "\n",
       "    .dataframe thead th {\n",
       "        text-align: right;\n",
       "    }\n",
       "</style>\n",
       "<table border=\"1\" class=\"dataframe\">\n",
       "  <thead>\n",
       "    <tr style=\"text-align: right;\">\n",
       "      <th></th>\n",
       "      <th>id</th>\n",
       "      <th>comment_text</th>\n",
       "      <th>label</th>\n",
       "      <th>pred</th>\n",
       "      <th>tag</th>\n",
       "    </tr>\n",
       "  </thead>\n",
       "  <tbody>\n",
       "    <tr>\n",
       "      <th>9405</th>\n",
       "      <td>ae381ee72f42819f</td>\n",
       "      <td>Why did you stop my edit \\n\\nYou fukin gay prick</td>\n",
       "      <td>0</td>\n",
       "      <td>1</td>\n",
       "      <td>FP</td>\n",
       "    </tr>\n",
       "    <tr>\n",
       "      <th>27222</th>\n",
       "      <td>8fa66f9c673e280e</td>\n",
       "      <td>YOU BLOCKED ME FOR A WHOLE MONTH? YOU SAID ONL...</td>\n",
       "      <td>0</td>\n",
       "      <td>1</td>\n",
       "      <td>FP</td>\n",
       "    </tr>\n",
       "    <tr>\n",
       "      <th>2756</th>\n",
       "      <td>32930fcdeee72756</td>\n",
       "      <td>Hi ... \\n\\n...Joseph.\\n\\nare you gay?</td>\n",
       "      <td>0</td>\n",
       "      <td>1</td>\n",
       "      <td>FP</td>\n",
       "    </tr>\n",
       "    <tr>\n",
       "      <th>14673</th>\n",
       "      <td>2bca2246218edc8e</td>\n",
       "      <td>and decided to become gay</td>\n",
       "      <td>0</td>\n",
       "      <td>1</td>\n",
       "      <td>FP</td>\n",
       "    </tr>\n",
       "    <tr>\n",
       "      <th>14186</th>\n",
       "      <td>60e1a471c3b2ed65</td>\n",
       "      <td>queer ur gay i hope u read this</td>\n",
       "      <td>0</td>\n",
       "      <td>1</td>\n",
       "      <td>FP</td>\n",
       "    </tr>\n",
       "  </tbody>\n",
       "</table>\n",
       "</div>"
      ],
      "text/plain": [
       "                     id                                       comment_text   \n",
       "9405   ae381ee72f42819f   Why did you stop my edit \\n\\nYou fukin gay prick  \\\n",
       "27222  8fa66f9c673e280e  YOU BLOCKED ME FOR A WHOLE MONTH? YOU SAID ONL...   \n",
       "2756   32930fcdeee72756              Hi ... \\n\\n...Joseph.\\n\\nare you gay?   \n",
       "14673  2bca2246218edc8e                          and decided to become gay   \n",
       "14186  60e1a471c3b2ed65                    queer ur gay i hope u read this   \n",
       "\n",
       "       label  pred tag  \n",
       "9405       0     1  FP  \n",
       "27222      0     1  FP  \n",
       "2756       0     1  FP  \n",
       "14673      0     1  FP  \n",
       "14186      0     1  FP  "
      ]
     },
     "execution_count": 22,
     "metadata": {},
     "output_type": "execute_result"
    }
   ],
   "source": [
    "# check some of the false positive predictions\n",
    "false_pos_cnn_0 = results_cnn_0[results_cnn_0[\"tag\"] == \"FP\"]\n",
    "false_pos_cnn_0.to_csv(\"FP_model0.csv\")\n",
    "false_pos_cnn_0.head(5)"
   ]
  },
  {
   "cell_type": "code",
   "execution_count": 109,
   "metadata": {},
   "outputs": [],
   "source": [
    "# for i, row in false_neg_cnn_0.iterrows():\n",
    "#     id = row[\"id\"]\n",
    "#     sent = row[\"comment_text\"]\n",
    "#     print(\"id:\")\n",
    "#     print(id)\n",
    "#     print(\"comment: \")\n",
    "#     print(sent)\n",
    "#     print(\"============\")"
   ]
  },
  {
   "attachments": {},
   "cell_type": "markdown",
   "metadata": {},
   "source": [
    "#### REPORT 2 `model_0` for Identity Hate (Balanced data)"
   ]
  },
  {
   "cell_type": "code",
   "execution_count": 37,
   "metadata": {},
   "outputs": [
    {
     "name": "stdout",
     "output_type": "stream",
     "text": [
      "for identity_hate label, balanced dataset has 2810 records.\n"
     ]
    }
   ],
   "source": [
    "# load balanced data\n",
    "data = pd.read_csv(\"../data/train.csv\")\n",
    "data = data.reset_index()\n",
    "# data = data[[\"id\", \"comment_text\", \"toxic\", \"severe_toxic\", \"obscene\", \"threat\", \"insult\", \"identity_hate\"]]\n",
    "data = data[[\"id\", \"comment_text\", \"identity_hate\"]]\n",
    "df = balance_data(data, \"identity_hate\")\n",
    "print(\"for identity_hate label, balanced dataset has {} records.\".format(len(df)))"
   ]
  },
  {
   "cell_type": "code",
   "execution_count": 43,
   "metadata": {},
   "outputs": [],
   "source": [
    "train_dataloader, val_dataloader, test_dataloader = create_loaders(df)"
   ]
  },
  {
   "cell_type": "code",
   "execution_count": 44,
   "metadata": {},
   "outputs": [
    {
     "name": "stdout",
     "output_type": "stream",
     "text": [
      "Start training...\n",
      "\n",
      " Epoch  |  Train Loss  |  Val Loss  |  Val Acc  |  Elapsed \n",
      "------------------------------------------------------------\n",
      "   1    |   0.660931   |  0.608375  |   80.54   |   19.92  \n",
      "   2    |   0.588046   |  0.545626  |   83.75   |   20.67  \n",
      "   3    |   0.526944   |  0.493973  |   85.89   |   20.61  \n",
      "   4    |   0.482096   |  0.450604  |   87.14   |   20.55  \n",
      "   5    |   0.443451   |  0.415104  |   88.39   |   20.74  \n",
      "   6    |   0.402012   |  0.385563  |   89.29   |   20.77  \n",
      "   7    |   0.374667   |  0.361096  |   89.64   |   20.51  \n",
      "   8    |   0.348549   |  0.340057  |   90.36   |   20.50  \n",
      "   9    |   0.330521   |  0.322950  |   91.07   |   21.47  \n",
      "  10    |   0.305883   |  0.308579  |   90.89   |   20.78  \n",
      "\n",
      "\n",
      "Training complete! Best accuracy: 91.07%.\n"
     ]
    }
   ],
   "source": [
    "IH_model, optimizer = initilize_model()\n",
    "IH_model_best, IH_val_accuracies, IH_val_losses, IH_train_losses = \\\n",
    "    train(IH_model, optimizer, train_dataloader, val_dataloader, epochs=10, check_train_loss=True)"
   ]
  },
  {
   "cell_type": "code",
   "execution_count": 45,
   "metadata": {},
   "outputs": [],
   "source": [
    "# pickle the model\n",
    "with open('IH_model_best.pkl', 'wb') as file:\n",
    "    pickle.dump(IH_model_best, file)\n",
    "\n",
    "# load the pickled model\n",
    "# with open('best_model_0_20e.pkl', 'rb') as file:\n",
    "#     best_model_0_20e = pickle.load(file)"
   ]
  },
  {
   "cell_type": "code",
   "execution_count": 47,
   "metadata": {},
   "outputs": [
    {
     "data": {
      "text/plain": [
       "Text(0.5, 1.0, 'Validation accuracy of `IH_model_best` (10 epochs)')"
      ]
     },
     "execution_count": 47,
     "metadata": {},
     "output_type": "execute_result"
    },
    {
     "data": {
      "image/png": "[encoded data removed]",
      "text/plain": [
       "<Figure size 640x480 with 1 Axes>"
      ]
     },
     "metadata": {},
     "output_type": "display_data"
    }
   ],
   "source": [
    "epochs = [x + 1 for x in range(10)]\n",
    "\n",
    "plt.plot(epochs, IH_val_accuracies)\n",
    "plt.xticks(range(0, 11))\n",
    "plt.xlabel('epoch')\n",
    "plt.ylabel('validation accuracy')\n",
    "plt.title('Validation accuracy of `IH_model_best` (10 epochs)')"
   ]
  },
  {
   "cell_type": "code",
   "execution_count": 48,
   "metadata": {},
   "outputs": [
    {
     "name": "stdout",
     "output_type": "stream",
     "text": [
      "After 10 epochs of training, the IH_model_best has testing loss of 0.323\n"
     ]
    }
   ],
   "source": [
    "IH_test_loss, IH_cm = test_model(IH_model_best, test_dataloader)\n",
    "\n",
    "print(\"After 10 epochs of training, the IH_model_best has testing loss of {}\"\\\n",
    "      .format(round(IH_test_loss, 3)))"
   ]
  },
  {
   "cell_type": "code",
   "execution_count": 49,
   "metadata": {},
   "outputs": [
    {
     "data": {
      "text/html": [
       "<div>\n",
       "<style scoped>\n",
       "    .dataframe tbody tr th:only-of-type {\n",
       "        vertical-align: middle;\n",
       "    }\n",
       "\n",
       "    .dataframe tbody tr th {\n",
       "        vertical-align: top;\n",
       "    }\n",
       "\n",
       "    .dataframe thead th {\n",
       "        text-align: right;\n",
       "    }\n",
       "</style>\n",
       "<table border=\"1\" class=\"dataframe\">\n",
       "  <thead>\n",
       "    <tr style=\"text-align: right;\">\n",
       "      <th></th>\n",
       "      <th>Accuracy</th>\n",
       "      <th>Precision</th>\n",
       "      <th>Recall</th>\n",
       "      <th>F1</th>\n",
       "    </tr>\n",
       "  </thead>\n",
       "  <tbody>\n",
       "    <tr>\n",
       "      <th>0</th>\n",
       "      <td>0.882353</td>\n",
       "      <td>0.902098</td>\n",
       "      <td>0.877551</td>\n",
       "      <td>0.889655</td>\n",
       "    </tr>\n",
       "  </tbody>\n",
       "</table>\n",
       "</div>"
      ],
      "text/plain": [
       "   Accuracy  Precision    Recall        F1\n",
       "0  0.882353   0.902098  0.877551  0.889655"
      ]
     },
     "execution_count": 49,
     "metadata": {},
     "output_type": "execute_result"
    }
   ],
   "source": [
    "eval_cm(IH_cm)"
   ]
  },
  {
   "attachments": {},
   "cell_type": "markdown",
   "metadata": {},
   "source": [
    "#### REPORT 3 `model_0` for Obscene (Balanced data)"
   ]
  },
  {
   "cell_type": "code",
   "execution_count": 53,
   "metadata": {},
   "outputs": [
    {
     "name": "stdout",
     "output_type": "stream",
     "text": [
      "for obscene label, balanced dataset has 16898 records.\n"
     ]
    }
   ],
   "source": [
    "# load balanced data\n",
    "data = pd.read_csv(\"../data/train.csv\")\n",
    "data = data.reset_index()\n",
    "# data = data[[\"id\", \"comment_text\", \"toxic\", \"severe_toxic\", \"obscene\", \"threat\", \"insult\", \"identity_hate\"]]\n",
    "data = data[[\"id\", \"comment_text\", \"obscene\"]]\n",
    "df = balance_data(data, \"obscene\")\n",
    "train_dataloader, val_dataloader, test_dataloader = create_loaders(df)\n",
    "print(\"for obscene label, balanced dataset has {} records.\".format(len(df)))"
   ]
  },
  {
   "cell_type": "code",
   "execution_count": 54,
   "metadata": {},
   "outputs": [
    {
     "name": "stdout",
     "output_type": "stream",
     "text": [
      "Start training...\n",
      "\n",
      " Epoch  |  Train Loss  |  Val Loss  |  Val Acc  |  Elapsed \n",
      "------------------------------------------------------------\n",
      "   1    |   0.532201   |  0.387605  |   89.09   |  165.51  \n",
      "   2    |   0.336360   |  0.275835  |   91.16   |  185.50  \n",
      "   3    |   0.269867   |  0.236662  |   91.80   |  135.62  \n",
      "   4    |   0.241976   |  0.219134  |   92.13   |  125.66  \n",
      "   5    |   0.230950   |  0.209099  |   92.39   |  125.72  \n",
      "   6    |   0.215347   |  0.202849  |   92.57   |  124.72  \n",
      "   7    |   0.209070   |  0.196777  |   92.92   |  124.32  \n",
      "   8    |   0.202713   |  0.192662  |   92.92   |  124.37  \n",
      "   9    |   0.197259   |  0.189279  |   93.04   |  124.06  \n",
      "  10    |   0.189524   |  0.185894  |   93.19   |  124.33  \n",
      "\n",
      "\n",
      "Training complete! Best accuracy: 93.19%.\n"
     ]
    }
   ],
   "source": [
    "OB_model, optimizer = initilize_model()\n",
    "OB_model_best, OB_val_accuracies, OB_val_losses, OB_train_losses = \\\n",
    "    train(OB_model, optimizer, train_dataloader, val_dataloader, epochs=10, check_train_loss=True)"
   ]
  },
  {
   "cell_type": "code",
   "execution_count": 57,
   "metadata": {},
   "outputs": [
    {
     "name": "stdout",
     "output_type": "stream",
     "text": [
      "After 10 epochs of training, the OB_model_best has testing loss of 0.189\n"
     ]
    }
   ],
   "source": [
    "OB_test_loss, OB_cm = test_model(OB_model_best, test_dataloader)\n",
    "\n",
    "print(\"After 10 epochs of training, the OB_model_best has testing loss of {}\"\\\n",
    "      .format(round(OB_test_loss, 3)))"
   ]
  },
  {
   "cell_type": "code",
   "execution_count": 58,
   "metadata": {},
   "outputs": [
    {
     "data": {
      "text/html": [
       "<div>\n",
       "<style scoped>\n",
       "    .dataframe tbody tr th:only-of-type {\n",
       "        vertical-align: middle;\n",
       "    }\n",
       "\n",
       "    .dataframe tbody tr th {\n",
       "        vertical-align: top;\n",
       "    }\n",
       "\n",
       "    .dataframe thead th {\n",
       "        text-align: right;\n",
       "    }\n",
       "</style>\n",
       "<table border=\"1\" class=\"dataframe\">\n",
       "  <thead>\n",
       "    <tr style=\"text-align: right;\">\n",
       "      <th></th>\n",
       "      <th>Accuracy</th>\n",
       "      <th>Precision</th>\n",
       "      <th>Recall</th>\n",
       "      <th>F1</th>\n",
       "    </tr>\n",
       "  </thead>\n",
       "  <tbody>\n",
       "    <tr>\n",
       "      <th>0</th>\n",
       "      <td>0.930889</td>\n",
       "      <td>0.939163</td>\n",
       "      <td>0.917079</td>\n",
       "      <td>0.92799</td>\n",
       "    </tr>\n",
       "  </tbody>\n",
       "</table>\n",
       "</div>"
      ],
      "text/plain": [
       "   Accuracy  Precision    Recall       F1\n",
       "0  0.930889   0.939163  0.917079  0.92799"
      ]
     },
     "execution_count": 58,
     "metadata": {},
     "output_type": "execute_result"
    }
   ],
   "source": [
    "eval_cm(OB_cm)"
   ]
  },
  {
   "cell_type": "code",
   "execution_count": 59,
   "metadata": {},
   "outputs": [],
   "source": [
    "# # pickle the model\n",
    "# with open('OB_model_best.pkl', 'wb') as file:\n",
    "#     pickle.dump(OB_model_best, file)"
   ]
  },
  {
   "attachments": {},
   "cell_type": "markdown",
   "metadata": {},
   "source": [
    "#### REPORT 4 `model_0` for Threat (Balanced data)"
   ]
  },
  {
   "cell_type": "code",
   "execution_count": 60,
   "metadata": {},
   "outputs": [
    {
     "name": "stdout",
     "output_type": "stream",
     "text": [
      "for threat label, balanced dataset has 956 records.\n"
     ]
    }
   ],
   "source": [
    "# load balanced data\n",
    "data = pd.read_csv(\"../data/train.csv\")\n",
    "data = data.reset_index()\n",
    "# data = data[[\"id\", \"comment_text\", \"toxic\", \"severe_toxic\", \"obscene\", \"threat\", \"insult\", \"identity_hate\"]]\n",
    "data = data[[\"id\", \"comment_text\", \"threat\"]]\n",
    "df = balance_data(data, \"threat\")\n",
    "train_dataloader, val_dataloader, test_dataloader = create_loaders(df)\n",
    "print(\"for threat label, balanced dataset has {} records.\".format(len(df)))"
   ]
  },
  {
   "cell_type": "code",
   "execution_count": 61,
   "metadata": {},
   "outputs": [
    {
     "name": "stdout",
     "output_type": "stream",
     "text": [
      "Start training...\n",
      "\n",
      " Epoch  |  Train Loss  |  Val Loss  |  Val Acc  |  Elapsed \n",
      "------------------------------------------------------------\n",
      "   1    |   0.685880   |  0.645582  |   76.56   |   8.42   \n",
      "   2    |   0.639902   |  0.615314  |   82.81   |   8.59   \n",
      "   3    |   0.612405   |  0.588967  |   85.42   |   12.13  \n",
      "   4    |   0.586320   |  0.564782  |   86.46   |   11.81  \n",
      "   5    |   0.562873   |  0.542297  |   89.06   |   12.23  \n",
      "   6    |   0.532023   |  0.521749  |   89.06   |   8.93   \n",
      "   7    |   0.521742   |  0.501979  |   89.58   |   7.18   \n",
      "   8    |   0.498166   |  0.484128  |   90.62   |   7.16   \n",
      "   9    |   0.477987   |  0.467373  |   90.62   |   6.95   \n",
      "  10    |   0.459434   |  0.451383  |   91.15   |   8.09   \n",
      "\n",
      "\n",
      "Training complete! Best accuracy: 91.15%.\n"
     ]
    }
   ],
   "source": [
    "TH_model, optimizer = initilize_model()\n",
    "TH_model_best, TH_val_accuracies, TH_val_losses, TH_train_losses = \\\n",
    "    train(TH_model, optimizer, train_dataloader, val_dataloader, epochs=10, check_train_loss=True)"
   ]
  },
  {
   "cell_type": "code",
   "execution_count": 62,
   "metadata": {},
   "outputs": [
    {
     "name": "stdout",
     "output_type": "stream",
     "text": [
      "After 10 epochs of training, the OB_model_best has testing loss of 0.5\n"
     ]
    }
   ],
   "source": [
    "TH_test_loss, TH_cm = test_model(TH_model_best, test_dataloader)\n",
    "\n",
    "print(\"After 10 epochs of training, the OB_model_best has testing loss of {}\"\\\n",
    "      .format(round(TH_test_loss, 3)))"
   ]
  },
  {
   "cell_type": "code",
   "execution_count": 63,
   "metadata": {},
   "outputs": [
    {
     "data": {
      "text/html": [
       "<div>\n",
       "<style scoped>\n",
       "    .dataframe tbody tr th:only-of-type {\n",
       "        vertical-align: middle;\n",
       "    }\n",
       "\n",
       "    .dataframe tbody tr th {\n",
       "        vertical-align: top;\n",
       "    }\n",
       "\n",
       "    .dataframe thead th {\n",
       "        text-align: right;\n",
       "    }\n",
       "</style>\n",
       "<table border=\"1\" class=\"dataframe\">\n",
       "  <thead>\n",
       "    <tr style=\"text-align: right;\">\n",
       "      <th></th>\n",
       "      <th>Accuracy</th>\n",
       "      <th>Precision</th>\n",
       "      <th>Recall</th>\n",
       "      <th>F1</th>\n",
       "    </tr>\n",
       "  </thead>\n",
       "  <tbody>\n",
       "    <tr>\n",
       "      <th>0</th>\n",
       "      <td>0.875</td>\n",
       "      <td>0.871795</td>\n",
       "      <td>0.871795</td>\n",
       "      <td>0.871795</td>\n",
       "    </tr>\n",
       "  </tbody>\n",
       "</table>\n",
       "</div>"
      ],
      "text/plain": [
       "   Accuracy  Precision    Recall        F1\n",
       "0     0.875   0.871795  0.871795  0.871795"
      ]
     },
     "execution_count": 63,
     "metadata": {},
     "output_type": "execute_result"
    }
   ],
   "source": [
    "eval_cm(TH_cm)"
   ]
  },
  {
   "cell_type": "code",
   "execution_count": 64,
   "metadata": {},
   "outputs": [],
   "source": [
    "# pickle the model\n",
    "with open('TH_model_best.pkl', 'wb') as file:\n",
    "    pickle.dump(TH_model_best, file)"
   ]
  },
  {
   "attachments": {},
   "cell_type": "markdown",
   "metadata": {},
   "source": [
    "#### REPORT 5 `model_0` for Insult (Balanced data)"
   ]
  },
  {
   "cell_type": "code",
   "execution_count": 65,
   "metadata": {},
   "outputs": [
    {
     "name": "stdout",
     "output_type": "stream",
     "text": [
      "for insult label, balanced dataset has 15754 records.\n"
     ]
    }
   ],
   "source": [
    "# load balanced data\n",
    "data = pd.read_csv(\"../data/train.csv\")\n",
    "data = data.reset_index()\n",
    "# data = data[[\"id\", \"comment_text\", \"toxic\", \"severe_toxic\", \"obscene\", \"threat\", \"insult\", \"identity_hate\"]]\n",
    "data = data[[\"id\", \"comment_text\", \"insult\"]]\n",
    "df = balance_data(data, \"insult\")\n",
    "train_dataloader, val_dataloader, test_dataloader = create_loaders(df)\n",
    "print(\"for insult label, balanced dataset has {} records.\".format(len(df)))"
   ]
  },
  {
   "cell_type": "code",
   "execution_count": 70,
   "metadata": {},
   "outputs": [
    {
     "name": "stdout",
     "output_type": "stream",
     "text": [
      "Start training...\n",
      "\n",
      " Epoch  |  Train Loss  |  Val Loss  |  Val Acc  |  Elapsed \n",
      "------------------------------------------------------------\n",
      "   1    |   0.544648   |  0.410889  |   86.96   |   66.51  \n",
      "   2    |   0.373684   |  0.313018  |   89.02   |   63.14  \n",
      "   3    |   0.307464   |  0.272831  |   89.75   |   63.37  \n",
      "   4    |   0.277340   |  0.252839  |   90.36   |   61.80  \n",
      "   5    |   0.258143   |  0.241002  |   90.70   |   61.86  \n",
      "   6    |   0.242211   |  0.233397  |   91.12   |   59.40  \n",
      "   7    |   0.235105   |  0.228194  |   91.53   |   60.27  \n",
      "   8    |   0.228880   |  0.224138  |   91.72   |   61.41  \n",
      "   9    |   0.219741   |  0.220212  |   92.04   |   61.01  \n",
      "  10    |   0.215010   |  0.217129  |   92.10   |   60.81  \n",
      "\n",
      "\n",
      "Training complete! Best accuracy: 92.10%.\n"
     ]
    }
   ],
   "source": [
    "IN_model, optimizer = initilize_model()\n",
    "IN_model_best, IN_val_accuracies, IN_val_losses, IN_train_losses = \\\n",
    "    train(IN_model, optimizer, train_dataloader, val_dataloader, epochs=10, check_train_loss=True)"
   ]
  },
  {
   "cell_type": "code",
   "execution_count": 71,
   "metadata": {},
   "outputs": [
    {
     "name": "stdout",
     "output_type": "stream",
     "text": [
      "After 10 epochs of training, the OB_model_best has testing loss of 0.192\n"
     ]
    }
   ],
   "source": [
    "IN_test_loss, IN_cm = test_model(IN_model_best, test_dataloader)\n",
    "\n",
    "print(\"After 10 epochs of training, the OB_model_best has testing loss of {}\"\\\n",
    "      .format(round(IN_test_loss, 3)))"
   ]
  },
  {
   "cell_type": "code",
   "execution_count": 72,
   "metadata": {},
   "outputs": [
    {
     "data": {
      "text/html": [
       "<div>\n",
       "<style scoped>\n",
       "    .dataframe tbody tr th:only-of-type {\n",
       "        vertical-align: middle;\n",
       "    }\n",
       "\n",
       "    .dataframe tbody tr th {\n",
       "        vertical-align: top;\n",
       "    }\n",
       "\n",
       "    .dataframe thead th {\n",
       "        text-align: right;\n",
       "    }\n",
       "</style>\n",
       "<table border=\"1\" class=\"dataframe\">\n",
       "  <thead>\n",
       "    <tr style=\"text-align: right;\">\n",
       "      <th></th>\n",
       "      <th>Accuracy</th>\n",
       "      <th>Precision</th>\n",
       "      <th>Recall</th>\n",
       "      <th>F1</th>\n",
       "    </tr>\n",
       "  </thead>\n",
       "  <tbody>\n",
       "    <tr>\n",
       "      <th>0</th>\n",
       "      <td>0.931701</td>\n",
       "      <td>0.932065</td>\n",
       "      <td>0.924528</td>\n",
       "      <td>0.928281</td>\n",
       "    </tr>\n",
       "  </tbody>\n",
       "</table>\n",
       "</div>"
      ],
      "text/plain": [
       "   Accuracy  Precision    Recall        F1\n",
       "0  0.931701   0.932065  0.924528  0.928281"
      ]
     },
     "execution_count": 72,
     "metadata": {},
     "output_type": "execute_result"
    }
   ],
   "source": [
    "eval_cm(IN_cm)"
   ]
  },
  {
   "cell_type": "code",
   "execution_count": 67,
   "metadata": {},
   "outputs": [],
   "source": [
    "with open('IH_model_best.pkl', 'wb') as file:\n",
    "    pickle.dump(IH_model_best, file)"
   ]
  },
  {
   "attachments": {},
   "cell_type": "markdown",
   "metadata": {},
   "source": [
    "#### REPORT 6 `model_0` for Severe_toxic (Balanced data)"
   ]
  },
  {
   "cell_type": "code",
   "execution_count": 73,
   "metadata": {},
   "outputs": [
    {
     "name": "stdout",
     "output_type": "stream",
     "text": [
      "for severe_toxic label, balanced dataset has 3190 records.\n"
     ]
    }
   ],
   "source": [
    "# load balanced data\n",
    "data = pd.read_csv(\"../data/train.csv\")\n",
    "data = data.reset_index()\n",
    "# data = data[[\"id\", \"comment_text\", \"toxic\", \"severe_toxic\", \"obscene\", \"threat\", \"insult\", \"identity_hate\"]]\n",
    "data = data[[\"id\", \"comment_text\", \"severe_toxic\"]]\n",
    "df = balance_data(data, \"severe_toxic\")\n",
    "train_dataloader, val_dataloader, test_dataloader = create_loaders(df)\n",
    "print(\"for severe_toxic label, balanced dataset has {} records.\".format(len(df)))"
   ]
  },
  {
   "cell_type": "code",
   "execution_count": 75,
   "metadata": {},
   "outputs": [
    {
     "name": "stdout",
     "output_type": "stream",
     "text": [
      "Start training...\n",
      "\n",
      " Epoch  |  Train Loss  |  Val Loss  |  Val Acc  |  Elapsed \n",
      "------------------------------------------------------------\n",
      "   1    |   0.625131   |  0.542921  |   92.03   |   14.79  \n",
      "   2    |   0.499484   |  0.435131  |   93.44   |   14.59  \n",
      "   3    |   0.410166   |  0.360513  |   93.28   |   14.93  \n",
      "   4    |   0.349754   |  0.308802  |   93.44   |   14.24  \n",
      "   5    |   0.309253   |  0.273301  |   93.59   |   14.14  \n",
      "   6    |   0.271856   |  0.248348  |   93.91   |   15.19  \n",
      "   7    |   0.258141   |  0.231339  |   94.06   |   14.53  \n",
      "   8    |   0.241656   |  0.218568  |   93.91   |   13.95  \n",
      "   9    |   0.221666   |  0.209094  |   93.91   |   14.63  \n",
      "  10    |   0.212213   |  0.201903  |   93.91   |   16.89  \n",
      "\n",
      "\n",
      "Training complete! Best accuracy: 94.06%.\n"
     ]
    }
   ],
   "source": [
    "ST_model, optimizer = initilize_model()\n",
    "ST_model_best, ST_val_accuracies, ST_val_losses, ST_train_losses = \\\n",
    "    train(ST_model, optimizer, train_dataloader, val_dataloader, epochs=10, check_train_loss=True)"
   ]
  },
  {
   "cell_type": "code",
   "execution_count": 76,
   "metadata": {},
   "outputs": [
    {
     "name": "stdout",
     "output_type": "stream",
     "text": [
      "After 10 epochs of training, the OB_model_best has testing loss of 0.226\n"
     ]
    }
   ],
   "source": [
    "ST_test_loss, ST_cm = test_model(ST_model_best, test_dataloader)\n",
    "\n",
    "print(\"After 10 epochs of training, the OB_model_best has testing loss of {}\"\\\n",
    "      .format(round(ST_test_loss, 3)))"
   ]
  },
  {
   "cell_type": "code",
   "execution_count": 77,
   "metadata": {},
   "outputs": [
    {
     "data": {
      "text/html": [
       "<div>\n",
       "<style scoped>\n",
       "    .dataframe tbody tr th:only-of-type {\n",
       "        vertical-align: middle;\n",
       "    }\n",
       "\n",
       "    .dataframe tbody tr th {\n",
       "        vertical-align: top;\n",
       "    }\n",
       "\n",
       "    .dataframe thead th {\n",
       "        text-align: right;\n",
       "    }\n",
       "</style>\n",
       "<table border=\"1\" class=\"dataframe\">\n",
       "  <thead>\n",
       "    <tr style=\"text-align: right;\">\n",
       "      <th></th>\n",
       "      <th>Accuracy</th>\n",
       "      <th>Precision</th>\n",
       "      <th>Recall</th>\n",
       "      <th>F1</th>\n",
       "    </tr>\n",
       "  </thead>\n",
       "  <tbody>\n",
       "    <tr>\n",
       "      <th>0</th>\n",
       "      <td>0.927632</td>\n",
       "      <td>0.943038</td>\n",
       "      <td>0.919753</td>\n",
       "      <td>0.93125</td>\n",
       "    </tr>\n",
       "  </tbody>\n",
       "</table>\n",
       "</div>"
      ],
      "text/plain": [
       "   Accuracy  Precision    Recall       F1\n",
       "0  0.927632   0.943038  0.919753  0.93125"
      ]
     },
     "execution_count": 77,
     "metadata": {},
     "output_type": "execute_result"
    }
   ],
   "source": [
    "eval_cm(ST_cm)"
   ]
  },
  {
   "cell_type": "code",
   "execution_count": 78,
   "metadata": {},
   "outputs": [],
   "source": [
    "with open('ST_model_best.pkl', 'wb') as file:\n",
    "    pickle.dump(ST_model_best, file)"
   ]
  },
  {
   "attachments": {},
   "cell_type": "markdown",
   "metadata": {},
   "source": [
    "## Model Evaluation and Comparison"
   ]
  },
  {
   "attachments": {},
   "cell_type": "markdown",
   "metadata": {},
   "source": [
    "Model performance on minor labels (`severe_toxic`, `obscene`, `threat`, `insult`, `identity_hate`)"
   ]
  },
  {
   "cell_type": "code",
   "execution_count": 109,
   "metadata": {},
   "outputs": [
    {
     "data": {
      "text/html": [
       "<div>\n",
       "<style scoped>\n",
       "    .dataframe tbody tr th:only-of-type {\n",
       "        vertical-align: middle;\n",
       "    }\n",
       "\n",
       "    .dataframe tbody tr th {\n",
       "        vertical-align: top;\n",
       "    }\n",
       "\n",
       "    .dataframe thead th {\n",
       "        text-align: right;\n",
       "    }\n",
       "</style>\n",
       "<table border=\"1\" class=\"dataframe\">\n",
       "  <thead>\n",
       "    <tr style=\"text-align: right;\">\n",
       "      <th></th>\n",
       "      <th>Accuracy</th>\n",
       "      <th>Precision</th>\n",
       "      <th>Recall</th>\n",
       "      <th>F1</th>\n",
       "      <th>Label</th>\n",
       "    </tr>\n",
       "  </thead>\n",
       "  <tbody>\n",
       "    <tr>\n",
       "      <th>0</th>\n",
       "      <td>0.927632</td>\n",
       "      <td>0.943038</td>\n",
       "      <td>0.919753</td>\n",
       "      <td>0.931250</td>\n",
       "      <td>severe_toxic</td>\n",
       "    </tr>\n",
       "    <tr>\n",
       "      <th>1</th>\n",
       "      <td>0.930889</td>\n",
       "      <td>0.939163</td>\n",
       "      <td>0.917079</td>\n",
       "      <td>0.927990</td>\n",
       "      <td>obscene</td>\n",
       "    </tr>\n",
       "    <tr>\n",
       "      <th>2</th>\n",
       "      <td>0.875000</td>\n",
       "      <td>0.871795</td>\n",
       "      <td>0.871795</td>\n",
       "      <td>0.871795</td>\n",
       "      <td>threat</td>\n",
       "    </tr>\n",
       "    <tr>\n",
       "      <th>3</th>\n",
       "      <td>0.931701</td>\n",
       "      <td>0.932065</td>\n",
       "      <td>0.924528</td>\n",
       "      <td>0.928281</td>\n",
       "      <td>insult</td>\n",
       "    </tr>\n",
       "    <tr>\n",
       "      <th>4</th>\n",
       "      <td>0.875000</td>\n",
       "      <td>0.928571</td>\n",
       "      <td>0.804455</td>\n",
       "      <td>0.862069</td>\n",
       "      <td>identity_hate</td>\n",
       "    </tr>\n",
       "  </tbody>\n",
       "</table>\n",
       "</div>"
      ],
      "text/plain": [
       "   Accuracy  Precision    Recall        F1          Label\n",
       "0  0.927632   0.943038  0.919753  0.931250   severe_toxic\n",
       "1  0.930889   0.939163  0.917079  0.927990        obscene\n",
       "2  0.875000   0.871795  0.871795  0.871795         threat\n",
       "3  0.931701   0.932065  0.924528  0.928281         insult\n",
       "4  0.875000   0.928571  0.804455  0.862069  identity_hate"
      ]
     },
     "execution_count": 109,
     "metadata": {},
     "output_type": "execute_result"
    }
   ],
   "source": [
    "minor_labels = [\"severe_toxic\", \"obscene\", \"threat\", \"insult\", \"identity_hate\"]\n",
    "minor_cms = [ST_cm, OB_cm, TH_cm, IN_cm, IH_cm]\n",
    "\n",
    "df_list = []\n",
    "for cm in minor_cms:\n",
    "    eval_df = eval_cm(cm)\n",
    "    df_list.append(eval_df)\n",
    "\n",
    "minor_metrics = pd.concat(df_list, ignore_index=True)\n",
    "minor_metrics[\"Label\"] = minor_labels\n",
    "minor_metrics"
   ]
  },
  {
   "cell_type": "code",
   "execution_count": 110,
   "metadata": {},
   "outputs": [
    {
     "data": {
      "text/html": [
       "<div>\n",
       "<style scoped>\n",
       "    .dataframe tbody tr th:only-of-type {\n",
       "        vertical-align: middle;\n",
       "    }\n",
       "\n",
       "    .dataframe tbody tr th {\n",
       "        vertical-align: top;\n",
       "    }\n",
       "\n",
       "    .dataframe thead th {\n",
       "        text-align: right;\n",
       "    }\n",
       "</style>\n",
       "<table border=\"1\" class=\"dataframe\">\n",
       "  <thead>\n",
       "    <tr style=\"text-align: right;\">\n",
       "      <th></th>\n",
       "      <th>Accuracy</th>\n",
       "      <th>Precision</th>\n",
       "      <th>Recall</th>\n",
       "      <th>F1</th>\n",
       "      <th>Label</th>\n",
       "    </tr>\n",
       "  </thead>\n",
       "  <tbody>\n",
       "    <tr>\n",
       "      <th>0</th>\n",
       "      <td>0.928</td>\n",
       "      <td>0.943</td>\n",
       "      <td>0.920</td>\n",
       "      <td>0.931</td>\n",
       "      <td>severe_toxic</td>\n",
       "    </tr>\n",
       "    <tr>\n",
       "      <th>1</th>\n",
       "      <td>0.931</td>\n",
       "      <td>0.939</td>\n",
       "      <td>0.917</td>\n",
       "      <td>0.928</td>\n",
       "      <td>obscene</td>\n",
       "    </tr>\n",
       "    <tr>\n",
       "      <th>2</th>\n",
       "      <td>0.875</td>\n",
       "      <td>0.872</td>\n",
       "      <td>0.872</td>\n",
       "      <td>0.872</td>\n",
       "      <td>threat</td>\n",
       "    </tr>\n",
       "    <tr>\n",
       "      <th>3</th>\n",
       "      <td>0.932</td>\n",
       "      <td>0.932</td>\n",
       "      <td>0.925</td>\n",
       "      <td>0.928</td>\n",
       "      <td>insult</td>\n",
       "    </tr>\n",
       "    <tr>\n",
       "      <th>4</th>\n",
       "      <td>0.875</td>\n",
       "      <td>0.929</td>\n",
       "      <td>0.804</td>\n",
       "      <td>0.862</td>\n",
       "      <td>identity_hate</td>\n",
       "    </tr>\n",
       "  </tbody>\n",
       "</table>\n",
       "</div>"
      ],
      "text/plain": [
       "   Accuracy  Precision  Recall     F1          Label\n",
       "0     0.928      0.943   0.920  0.931   severe_toxic\n",
       "1     0.931      0.939   0.917  0.928        obscene\n",
       "2     0.875      0.872   0.872  0.872         threat\n",
       "3     0.932      0.932   0.925  0.928         insult\n",
       "4     0.875      0.929   0.804  0.862  identity_hate"
      ]
     },
     "execution_count": 110,
     "metadata": {},
     "output_type": "execute_result"
    }
   ],
   "source": [
    "\n",
    "for metric in [\"Accuracy\", \"Precision\", \"Recall\", \"F1\"]:\n",
    "    minor_metrics[metric] = round(minor_metrics[metric], 3)\n",
    "minor_metrics"
   ]
  },
  {
   "cell_type": "code",
   "execution_count": 111,
   "metadata": {},
   "outputs": [
    {
     "data": {
      "text/html": [
       "<div>\n",
       "<style scoped>\n",
       "    .dataframe tbody tr th:only-of-type {\n",
       "        vertical-align: middle;\n",
       "    }\n",
       "\n",
       "    .dataframe tbody tr th {\n",
       "        vertical-align: top;\n",
       "    }\n",
       "\n",
       "    .dataframe thead th {\n",
       "        text-align: right;\n",
       "    }\n",
       "</style>\n",
       "<table border=\"1\" class=\"dataframe\">\n",
       "  <thead>\n",
       "    <tr style=\"text-align: right;\">\n",
       "      <th></th>\n",
       "      <th>Accuracy</th>\n",
       "      <th>Precision</th>\n",
       "      <th>Recall</th>\n",
       "      <th>F1</th>\n",
       "    </tr>\n",
       "    <tr>\n",
       "      <th>Label</th>\n",
       "      <th></th>\n",
       "      <th></th>\n",
       "      <th></th>\n",
       "      <th></th>\n",
       "    </tr>\n",
       "  </thead>\n",
       "  <tbody>\n",
       "    <tr>\n",
       "      <th>severe_toxic</th>\n",
       "      <td>0.928</td>\n",
       "      <td>0.943</td>\n",
       "      <td>0.920</td>\n",
       "      <td>0.931</td>\n",
       "    </tr>\n",
       "    <tr>\n",
       "      <th>obscene</th>\n",
       "      <td>0.931</td>\n",
       "      <td>0.939</td>\n",
       "      <td>0.917</td>\n",
       "      <td>0.928</td>\n",
       "    </tr>\n",
       "    <tr>\n",
       "      <th>threat</th>\n",
       "      <td>0.875</td>\n",
       "      <td>0.872</td>\n",
       "      <td>0.872</td>\n",
       "      <td>0.872</td>\n",
       "    </tr>\n",
       "    <tr>\n",
       "      <th>insult</th>\n",
       "      <td>0.932</td>\n",
       "      <td>0.932</td>\n",
       "      <td>0.925</td>\n",
       "      <td>0.928</td>\n",
       "    </tr>\n",
       "    <tr>\n",
       "      <th>identity_hate</th>\n",
       "      <td>0.875</td>\n",
       "      <td>0.929</td>\n",
       "      <td>0.804</td>\n",
       "      <td>0.862</td>\n",
       "    </tr>\n",
       "  </tbody>\n",
       "</table>\n",
       "</div>"
      ],
      "text/plain": [
       "               Accuracy  Precision  Recall     F1\n",
       "Label                                            \n",
       "severe_toxic      0.928      0.943   0.920  0.931\n",
       "obscene           0.931      0.939   0.917  0.928\n",
       "threat            0.875      0.872   0.872  0.872\n",
       "insult            0.932      0.932   0.925  0.928\n",
       "identity_hate     0.875      0.929   0.804  0.862"
      ]
     },
     "execution_count": 111,
     "metadata": {},
     "output_type": "execute_result"
    }
   ],
   "source": [
    "minor_metrics = minor_metrics.set_index(\"Label\")\n",
    "minor_metrics"
   ]
  },
  {
   "cell_type": "code",
   "execution_count": 120,
   "metadata": {},
   "outputs": [
    {
     "data": {
      "image/png": "[encoded data removed]",
      "text/plain": [
       "<Figure size 640x480 with 1 Axes>"
      ]
     },
     "metadata": {},
     "output_type": "display_data"
    }
   ],
   "source": [
    "import pandas as pd\n",
    "import matplotlib.pyplot as plt\n",
    "import numpy as np\n",
    "\n",
    "index = [\"severe_toxic\", \"obscene\", \"threat\", \"insult\", \"identity_hate\"]\n",
    "columns = [\"Accuracy\", \"Precision\", \"Recall\", \"F1\"]\n",
    "colors = ['#FFB6C1', '#FFA07A', '#CD5C5C', '#800000']\n",
    "\n",
    "# Set the width of each bar\n",
    "bar_width = 0.2\n",
    "\n",
    "# Create a figure and axes\n",
    "fig, ax = plt.subplots()\n",
    "\n",
    "# Iterate over the columns and plot the grouped bars\n",
    "for i, col in enumerate(columns):\n",
    "    bar_positions = np.arange(len(index)) + (i * bar_width)\n",
    "    values = minor_metrics[col].values\n",
    "    ax.bar(bar_positions, values, width=bar_width, color=colors[i], label=col)\n",
    "\n",
    "# Set the x-axis labels and tick positions\n",
    "ax.set_xticks(np.arange(len(index)))\n",
    "ax.set_xticklabels(index)\n",
    "\n",
    "# Add a legend and labels\n",
    "ax.legend()\n",
    "ax.set_xlabel('Labels')\n",
    "ax.set_ylabel('Performance')\n",
    "ax.set_ylim(0.75, 1)\n",
    "\n",
    "plt.title('CNN Model Performance on Minor Lables')\n",
    "# Show the plot\n",
    "plt.show()\n"
   ]
  },
  {
   "cell_type": "code",
   "execution_count": 115,
   "metadata": {},
   "outputs": [
    {
     "data": {
      "image/png": "[encoded data removed]",
      "text/plain": [
       "<Figure size 640x480 with 1 Axes>"
      ]
     },
     "metadata": {},
     "output_type": "display_data"
    }
   ],
   "source": [
    "import matplotlib.pyplot as plt\n",
    "x = [1,2,3,4,5,6,7,8]\n",
    "y = [2]* 8\n",
    "\n",
    "# Specify colors using hexadecimal color codes\n",
    "colors = ['#FFA07A', '#FF7F50', '#FA8072', '#CD5C5C', '#E9967A', '#FF6347', '#DC143C', '#800000']\n",
    "\n",
    "# Plotting example\n",
    "plt.bar(x, y, color=colors)  # Replace x and y with your actual data\n",
    "plt.show()\n"
   ]
  }
 ],
 "metadata": {
  "kernelspec": {
   "display_name": "capp30255",
   "language": "python",
   "name": "python3"
  },
  "language_info": {
   "codemirror_mode": {
    "name": "ipython",
    "version": 3
   },
   "file_extension": ".py",
   "mimetype": "text/x-python",
   "name": "python",
   "nbconvert_exporter": "python",
   "pygments_lexer": "ipython3",
   "version": "3.10.10"
  },
  "orig_nbformat": 4
 },
 "nbformat": 4,
 "nbformat_minor": 2
}
